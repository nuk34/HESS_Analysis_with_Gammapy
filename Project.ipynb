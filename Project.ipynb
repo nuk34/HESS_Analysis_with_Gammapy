{
 "cells": [
  {
   "cell_type": "markdown",
   "id": "df018b81-b4fa-4280-956c-3bbbbe3032d7",
   "metadata": {},
   "source": [
    "# Analysis Project\n",
    "\n",
    "Now it is your turn to do an analysis yourself. You will pick one of the sources of the H.E.S.S. public data set and do a complete analysis yourself. At the end you will have a significant detection of an object, a sky map of the suroundings of the object, its energy spectrum and its lightcurve."
   ]
  },
  {
   "cell_type": "markdown",
   "id": "e9958759-5877-4e5f-b7f2-f2ed3d44cac0",
   "metadata": {},
   "source": [
    "## Imports\n",
    "\n",
    "Lets start with importing all the modules that we have learned of."
   ]
  },
  {
   "cell_type": "markdown",
   "id": "7879ca65-211d-4b2d-94b3-5a4819674fb4",
   "metadata": {},
   "source": [
    "Some standard imports."
   ]
  },
  {
   "cell_type": "code",
   "execution_count": 1,
   "id": "48f1887b-4a72-4af2-8119-8b3d39534751",
   "metadata": {},
   "outputs": [],
   "source": [
    "import os"
   ]
  },
  {
   "cell_type": "code",
   "execution_count": 2,
   "id": "e7f58672-84b3-4cc5-ba01-7740408f31ee",
   "metadata": {},
   "outputs": [],
   "source": [
    "import matplotlib.pyplot as plt"
   ]
  },
  {
   "cell_type": "code",
   "execution_count": 3,
   "id": "d29f90f1-6983-4b5a-81eb-55034aeb0a77",
   "metadata": {},
   "outputs": [],
   "source": [
    "import numpy as np"
   ]
  },
  {
   "cell_type": "code",
   "execution_count": 4,
   "id": "1e47e551-1c62-43ba-9c52-cee0fe7e1665",
   "metadata": {},
   "outputs": [],
   "source": [
    "from numpy import sqrt"
   ]
  },
  {
   "cell_type": "markdown",
   "id": "23e8510c-72ac-4467-bc31-31df25fe56f4",
   "metadata": {},
   "source": [
    "Some elements from ```astropy```"
   ]
  },
  {
   "cell_type": "code",
   "execution_count": 5,
   "id": "b3217656-28a5-48c2-843c-85f71e92efc4",
   "metadata": {},
   "outputs": [],
   "source": [
    "import astropy.units as u"
   ]
  },
  {
   "cell_type": "code",
   "execution_count": 6,
   "id": "536dbad0-0a78-461b-922b-72c441dc02d1",
   "metadata": {},
   "outputs": [],
   "source": [
    "from astropy.coordinates import (\n",
    "    SkyCoord, \n",
    "    Angle,\n",
    ")"
   ]
  },
  {
   "cell_type": "markdown",
   "id": "88e98516-e39d-4df7-9b64-ee9db86ca939",
   "metadata": {},
   "source": [
    "gammapy datasets"
   ]
  },
  {
   "cell_type": "code",
   "execution_count": 7,
   "id": "2d386503-f6ac-41f3-b1bd-50f7ac0549fe",
   "metadata": {},
   "outputs": [],
   "source": [
    "from gammapy.data import (\n",
    "    DataStore,\n",
    ")"
   ]
  },
  {
   "cell_type": "code",
   "execution_count": 8,
   "id": "e3c74653-175d-4e26-b89d-501026515370",
   "metadata": {},
   "outputs": [],
   "source": [
    "from gammapy.datasets import (\n",
    "    SpectrumDataset,\n",
    "    FluxPointsDataset,\n",
    "    MapDatasetOnOff,\n",
    ")"
   ]
  },
  {
   "cell_type": "markdown",
   "id": "b8ab6a1e-00e4-471a-962a-e44592396e7e",
   "metadata": {},
   "source": [
    "gammapy makers and estimators"
   ]
  },
  {
   "cell_type": "code",
   "execution_count": 9,
   "id": "c6a5ef23-8e85-49df-b903-cdfef0c57a0e",
   "metadata": {},
   "outputs": [],
   "source": [
    "from gammapy.makers import (\n",
    "    DatasetsMaker,\n",
    "    MapDatasetMaker,\n",
    "    SpectrumDatasetMaker,\n",
    "    SafeMaskMaker,\n",
    "    ReflectedRegionsBackgroundMaker,\n",
    "    RingBackgroundMaker,\n",
    ")"
   ]
  },
  {
   "cell_type": "code",
   "execution_count": null,
   "id": "07557336-fa45-4020-8ae0-cf45d016a304",
   "metadata": {},
   "outputs": [],
   "source": [
    "from gammapy.estimators import (\n",
    "    ExcessMapEstimator,\n",
    "    FluxPointsEstimator,\n",
    "    LightCurveEstimator\n",
    ")"
   ]
  },
  {
   "cell_type": "markdown",
   "id": "c9168126-f0a1-4858-95dd-7ab79cf839c9",
   "metadata": {},
   "source": [
    "maps and geometries"
   ]
  },
  {
   "cell_type": "code",
   "execution_count": 10,
   "id": "f5a47e7f-1bf6-426c-a0a9-9b981cc93b12",
   "metadata": {},
   "outputs": [],
   "source": [
    "from gammapy.maps import (\n",
    "    Map,\n",
    "    MapAxis, \n",
    "    WcsGeom,\n",
    "    RegionGeom,\n",
    ")"
   ]
  },
  {
   "cell_type": "code",
   "execution_count": null,
   "id": "f366ecd9-5c54-4ed9-8ee1-613a41892793",
   "metadata": {},
   "outputs": [],
   "source": [
    "from regions import CircleSkyRegion"
   ]
  },
  {
   "cell_type": "markdown",
   "id": "83a1ff91-6de5-407c-879b-5690c825a55b",
   "metadata": {},
   "source": [
    "utilities, tools and statistics"
   ]
  },
  {
   "cell_type": "code",
   "execution_count": null,
   "id": "bd9f6fbc-1d5d-47fd-b123-34098f8a3b7c",
   "metadata": {},
   "outputs": [],
   "source": [
    "from gammapy.estimators.utils import find_peaks"
   ]
  },
  {
   "cell_type": "code",
   "execution_count": null,
   "id": "2fa2abc0-41a4-44bd-b6dc-94bff514a1cb",
   "metadata": {},
   "outputs": [],
   "source": [
    "from gammapy.utils.check import check_tutorials_setup"
   ]
  },
  {
   "cell_type": "code",
   "execution_count": null,
   "id": "55443af4-1f15-42b1-8d17-433d8f8bb4ff",
   "metadata": {},
   "outputs": [],
   "source": [
    "from gammapy.stats import WStatCountsStatistic"
   ]
  },
  {
   "cell_type": "code",
   "execution_count": null,
   "id": "2ac97e07-7971-4881-9866-b255d11a2479",
   "metadata": {},
   "outputs": [],
   "source": [
    "from gammapy.visualization import plot_spectrum_datasets_off_regions"
   ]
  },
  {
   "cell_type": "code",
   "execution_count": null,
   "id": "e748a993-033f-4df2-92f8-b09fe72ed363",
   "metadata": {},
   "outputs": [],
   "source": [
    "import scipy.stats"
   ]
  },
  {
   "cell_type": "code",
   "execution_count": null,
   "id": "91c22f99-92f4-46ec-a3e8-303ede0d5ef6",
   "metadata": {},
   "outputs": [],
   "source": [
    "from scipy.stats import norm"
   ]
  },
  {
   "cell_type": "markdown",
   "id": "8586bdc5-06f0-4c43-8f5c-d11f001c682f",
   "metadata": {},
   "source": [
    "modelling and fitting"
   ]
  },
  {
   "cell_type": "code",
   "execution_count": 11,
   "id": "657f922c-519a-4893-b515-ee2c01d2c0eb",
   "metadata": {},
   "outputs": [],
   "source": [
    "from gammapy.modeling.models import (\n",
    "    Models,\n",
    "    SkyModel,\n",
    "    PowerLawSpectralModel,\n",
    "    ExpCutoffPowerLawSpectralModel,\n",
    "    PointSpatialModel,\n",
    "    GaussianSpatialModel\n",
    ")"
   ]
  },
  {
   "cell_type": "code",
   "execution_count": null,
   "id": "d382976e-c0d9-4335-93d4-f485e2ae43db",
   "metadata": {},
   "outputs": [],
   "source": [
    "from gammapy.modeling.models import create_crab_spectral_model"
   ]
  },
  {
   "cell_type": "code",
   "execution_count": null,
   "id": "887ef385-9ca2-49d4-841c-798f2223d316",
   "metadata": {},
   "outputs": [],
   "source": [
    "from gammapy.modeling import Fit"
   ]
  },
  {
   "cell_type": "code",
   "execution_count": null,
   "id": "0700aee4-edd5-4b57-9df5-e51db1c111a4",
   "metadata": {},
   "outputs": [],
   "source": [
    "fit = Fit()"
   ]
  },
  {
   "cell_type": "markdown",
   "id": "48fb2cd1-18a2-44f0-9348-5a2d16ba8d44",
   "metadata": {},
   "source": [
    "## Check the Data"
   ]
  },
  {
   "cell_type": "code",
   "execution_count": null,
   "id": "a34a71fa-00af-4ff8-8b53-b887109fae6d",
   "metadata": {},
   "outputs": [],
   "source": [
    "if not os.path.exists('gammapy-data'):\n",
    "    check_tutorials_setup()\n",
    "else:\n",
    "    print('Great your setup is correct!')"
   ]
  },
  {
   "cell_type": "code",
   "execution_count": null,
   "id": "edf0e4b7-681d-485d-b825-43ebe41b3e63",
   "metadata": {},
   "outputs": [],
   "source": [
    "os.environ['GAMMAPY_DATA'] = 'gammapy-data/1.3'"
   ]
  },
  {
   "cell_type": "code",
   "execution_count": null,
   "id": "576e6aea-b67c-4bb7-a574-d5c6039f03fd",
   "metadata": {},
   "outputs": [],
   "source": [
    "data_store = DataStore.from_dir('$GAMMAPY_DATA/hess-dl3-dr1')"
   ]
  },
  {
   "cell_type": "code",
   "execution_count": null,
   "id": "e3ea4019-51b1-4c3b-9527-f5c5ea2b6b1b",
   "metadata": {},
   "outputs": [],
   "source": [
    "data_store.info()"
   ]
  },
  {
   "cell_type": "markdown",
   "id": "90a3bf67-61e8-42c5-885f-ef97d9f3fa4c",
   "metadata": {},
   "source": [
    "## Run Selection"
   ]
  },
  {
   "cell_type": "code",
   "execution_count": null,
   "id": "2e931fa5-dc52-4b44-a428-4b492a132db3",
   "metadata": {},
   "outputs": [],
   "source": [
    "source1 = SkyCoord(329.72*u.deg, -30.23*u.deg, frame='icrs') # PKS 2155−304\n",
    "\n",
    "source2 = SkyCoord(228.53*u.deg, -59.16*u.deg, frame='icrs') # MSH 15−52\n",
    "\n",
    "source3 = SkyCoord(258.35*u.deg, 39.77*u.deg, frame='icrs') # RX J1713.7−3946"
   ]
  },
  {
   "cell_type": "markdown",
   "id": "8e992666-51a1-47e2-a502-1be46126db43",
   "metadata": {},
   "source": [
    "Choose your source in the next cell."
   ]
  },
  {
   "cell_type": "code",
   "execution_count": null,
   "id": "57b27e7e-54b0-41f0-99d7-331ffe3e77c9",
   "metadata": {},
   "outputs": [],
   "source": [
    "source_pos = ..."
   ]
  },
  {
   "cell_type": "code",
   "execution_count": null,
   "id": "3fc7ab60-14e4-42a9-b536-e83fdf30c4ca",
   "metadata": {},
   "outputs": [],
   "source": [
    "selectradius = 2.5*u.deg"
   ]
  },
  {
   "cell_type": "code",
   "execution_count": null,
   "id": "204a6493-18b7-4b30-8b17-d94aff0312fa",
   "metadata": {},
   "outputs": [],
   "source": [
    "conesearch = data_store.obs_table.select_sky_circle(source_pos, selectradius)"
   ]
  },
  {
   "cell_type": "code",
   "execution_count": null,
   "id": "b3ab15e6-a4c2-4745-a640-6ba80f1b24da",
   "metadata": {},
   "outputs": [],
   "source": [
    "runlist = conesearch['OBS_ID'].value"
   ]
  },
  {
   "cell_type": "code",
   "execution_count": null,
   "id": "433ca60d-81a3-445a-a67a-b7d563ab3766",
   "metadata": {},
   "outputs": [],
   "source": [
    "observations = data_store.get_observations(runlist)"
   ]
  },
  {
   "cell_type": "code",
   "execution_count": null,
   "id": "7e18e159-ca57-43db-8cef-a068fc54dbce",
   "metadata": {},
   "outputs": [],
   "source": [
    "observations.ids"
   ]
  },
  {
   "cell_type": "markdown",
   "id": "8bff95e8-2633-4dac-ac49-9fed30859f43",
   "metadata": {},
   "source": [
    "## Instructions\n",
    "\n",
    "Now it is your turn. You will copy the relevant cells from the other notebools and execute the cells. Some modifications and checks will be needed, your results may look much different than what was presented during the demonstration session."
   ]
  },
  {
   "cell_type": "markdown",
   "id": "7bcfdc60-f725-4203-ad1d-2fdd96db1c5f",
   "metadata": {},
   "source": [
    "## Sky Map"
   ]
  },
  {
   "cell_type": "markdown",
   "id": "76b90c0b-2a7c-49a2-90c7-55de3f9cc018",
   "metadata": {},
   "source": [
    "### Create a MapDataset\n",
    "\n",
    "Set up all the makers and datasets that are needed to create a MapDataset. Execute the loop and produce a stacked MapDataset, called ```map_stacked```."
   ]
  },
  {
   "cell_type": "code",
   "execution_count": 12,
   "id": "b8bfe5e1-dbf8-4a86-9fcc-4cb1ae3ca674",
   "metadata": {},
   "outputs": [],
   "source": [
    "# your code here"
   ]
  },
  {
   "cell_type": "code",
   "execution_count": null,
   "id": "30308992-be88-471c-93e0-3d732ffa42ff",
   "metadata": {},
   "outputs": [],
   "source": [
    "map_stacked.peek()"
   ]
  },
  {
   "cell_type": "markdown",
   "id": "74cf055c-8443-47ff-a256-6b96f6bc0d18",
   "metadata": {},
   "source": [
    "### Create an Excess and Significance Map\n",
    "\n",
    "Use the ExcessMapEstimator to obtain an excess and a significance map, called ```significance_map```. Plot the significance map with a colour bar and a colour map of your choice.  "
   ]
  },
  {
   "cell_type": "code",
   "execution_count": null,
   "id": "fd2d20e9-d427-4c7f-84ce-5e4e52962b69",
   "metadata": {},
   "outputs": [],
   "source": [
    "# your code here"
   ]
  },
  {
   "cell_type": "code",
   "execution_count": null,
   "id": "d8a8edfc-18a5-4461-b1c3-6d8f80e62432",
   "metadata": {},
   "outputs": [],
   "source": [
    "significance_map.plot()"
   ]
  },
  {
   "cell_type": "markdown",
   "id": "5fc1e30a-99a6-491e-a6ea-5a1df070980b",
   "metadata": {},
   "source": [
    "### Background Significance Distribution\n",
    "\n",
    "Now check the distribution of your significances in the background bins. It should follow a Gaussian distribution. You may need to increase the size of your exclusion regions, or add another exclusiob region."
   ]
  },
  {
   "cell_type": "code",
   "execution_count": null,
   "id": "d9d7ee61-ddc9-4cbd-bc30-12d22ff3f0c4",
   "metadata": {},
   "outputs": [],
   "source": [
    "# your code here"
   ]
  },
  {
   "cell_type": "markdown",
   "id": "7e4afa43-1157-45f2-a588-fc6060e67ba8",
   "metadata": {},
   "source": [
    "### Result\n",
    "\n",
    "Do not move on before you have all results in this step correct. You will need later the significance map, the exclusion mask, and the MapDataset."
   ]
  },
  {
   "cell_type": "markdown",
   "id": "39d150da-5f45-4a26-b49d-9f062827a7e0",
   "metadata": {},
   "source": [
    "## Spectrum\n",
    "\n",
    "In this step you will produce a SpectrumDataset, fit the spectrum and test for a cut-off, and produce flux points. Along the way you will evaluate the significance of the detected emission. "
   ]
  },
  {
   "cell_type": "markdown",
   "id": "97546709-e826-4665-931a-d3149bdd8a72",
   "metadata": {},
   "source": [
    "### Create a SpectrumDataset\n",
    "\n",
    "Set up all the makers and datasets that are needed to create a SpectrumDataset. You can re-use the SafeMaskMaker that was set up for the sky maps. Execute the loop and produce a Dataset containing all SpectrumDatasets, called ```spectrum_datasets```, and a stacked SpectrumDataset, called ```spectrum_stacked```. Make a plot of your off-source regions on top of your significance map."
   ]
  },
  {
   "cell_type": "code",
   "execution_count": null,
   "id": "a9954ec8-d022-4a7f-b1b4-25c3607ac8ab",
   "metadata": {},
   "outputs": [],
   "source": [
    "# your code here"
   ]
  },
  {
   "cell_type": "code",
   "execution_count": null,
   "id": "762146ba-c3f3-4ca6-80e1-b13e75267edb",
   "metadata": {},
   "outputs": [],
   "source": [
    "spectrum_stacked.peek()"
   ]
  },
  {
   "cell_type": "markdown",
   "id": "6dd5f740-d657-4a52-8537-54883283c890",
   "metadata": {},
   "source": [
    "### Evaluate the significance\n",
    "\n",
    "Create the cumulative info table and get the excess and signicance of your source from the last line. Make a plot of the significance development over time."
   ]
  },
  {
   "cell_type": "code",
   "execution_count": 1,
   "id": "be9998e7-1e65-41d7-81a5-7460cbc92964",
   "metadata": {},
   "outputs": [],
   "source": [
    "# your code here"
   ]
  },
  {
   "cell_type": "markdown",
   "id": "3de1c98e-5e7b-4fac-a8b8-803337356aa3",
   "metadata": {},
   "source": [
    "### Spectrum Fit\n",
    "\n",
    "Fit your spectrum with a simple power law and a power law with an exponential cut-off. Evaluate if the exponential cut-off is statistically significant. "
   ]
  },
  {
   "cell_type": "code",
   "execution_count": 2,
   "id": "78e0eeb8-fa7b-4ae8-b10f-339b3a2d70ef",
   "metadata": {},
   "outputs": [],
   "source": [
    "# your code here"
   ]
  },
  {
   "cell_type": "markdown",
   "id": "83d99a2a-621e-4288-81ec-aa82192d6079",
   "metadata": {},
   "source": [
    "### Flux Points\n",
    "\n",
    "Create flux points from your data set using your best-fit model. You may need to change the number of flux points to get a meaningful result. Try to avoid upper limits between data points."
   ]
  },
  {
   "cell_type": "code",
   "execution_count": 3,
   "id": "8e173b71-7bd0-44ab-83b5-8ed41f502a47",
   "metadata": {},
   "outputs": [],
   "source": [
    "# your code here"
   ]
  },
  {
   "cell_type": "markdown",
   "id": "ce1655ff-df41-4583-b9a5-7052d191693e",
   "metadata": {},
   "source": [
    "### Result\n",
    "\n",
    "Make sure that your emission is statistically significant and that you have decided for the correct model. You will need for later use the stacked SpectrumDataset, the Datasets object, the best-fit model and the flux points."
   ]
  },
  {
   "cell_type": "markdown",
   "id": "0ad6c8d4-9eaf-4534-86f1-d6382a4cde2e",
   "metadata": {},
   "source": [
    "## Source Morphology\n",
    "\n",
    "Now we will investigate the source morphology, the shape of the source. For this step we will need the MapDataset and the best-fit model from the spectrum."
   ]
  },
  {
   "cell_type": "markdown",
   "id": "4aa07997-baa7-49c7-8b3d-dad9120109aa",
   "metadata": {},
   "source": [
    "### Point-Like Source\n",
    "\n",
    "Create a SkyModel for a point-like source using the best-fit spectral model. Fit this model and use the ExcessMapEstimator to create a residual map. Do you think that you need to try another model? Keep the TS value for later use."
   ]
  },
  {
   "cell_type": "code",
   "execution_count": 4,
   "id": "a0a6d35f-e16b-407b-bb7d-cba3991f87b9",
   "metadata": {},
   "outputs": [],
   "source": [
    "# your code here"
   ]
  },
  {
   "cell_type": "markdown",
   "id": "1501e697-374a-4ab7-99cb-51e8795135cb",
   "metadata": {},
   "source": [
    "### Gaussian Morphology\n",
    "\n",
    "Create a SkyModel for a Gaussian morphology using the best-fit spectral model. Fit this model and use the ExcessMapEstimator to create a residual map. If needed you can release the eccentricity parameter to fit an asymmetric Gaussian. Do you think that you need to try another model? Keep the TS value for later use."
   ]
  },
  {
   "cell_type": "code",
   "execution_count": 5,
   "id": "e688767d-05b0-4987-9bce-a16ded29c908",
   "metadata": {},
   "outputs": [],
   "source": [
    "# your code here"
   ]
  },
  {
   "cell_type": "markdown",
   "id": "d0801393-fa75-46ad-8fcc-38e8075ab502",
   "metadata": {},
   "source": [
    "### Other Morphologies\n",
    "\n",
    "If your point-like source or Gaussian morphology is already a good fit then you don't need this step. If you think that you need a better model then have a look here:\n",
    "\n",
    "[https://docs.gammapy.org/1.3/user-guide/model-gallery/index.html](https://docs.gammapy.org/1.3/user-guide/model-gallery/index.html)\n",
    "\n",
    "Try a model that should work better. Keep the TS value for later use."
   ]
  },
  {
   "cell_type": "markdown",
   "id": "65952398-fc49-400f-a634-a751afe02543",
   "metadata": {},
   "source": [
    "### Comparing the Models\n",
    "\n",
    "Now compare the models using Wilk's theorem. Make sure that you are dealing with nested models. Decide which model is your best model. What is the extension of your source? Is the on-region and exclusion region that you have used large enough to contain the entire source? Keep in mind that the ```sigma``` value of your Gaussian contains only about 68% of the emission."
   ]
  },
  {
   "cell_type": "markdown",
   "id": "8146133f-6f2d-48f3-a92b-9ec3850fecfd",
   "metadata": {},
   "source": [
    "## Lightcurve\n",
    "\n",
    "If your source is point-like, or a ver"
   ]
  }
 ],
 "metadata": {
  "kernelspec": {
   "display_name": "Python 3 (ipykernel)",
   "language": "python",
   "name": "python3"
  },
  "language_info": {
   "codemirror_mode": {
    "name": "ipython",
    "version": 3
   },
   "file_extension": ".py",
   "mimetype": "text/x-python",
   "name": "python",
   "nbconvert_exporter": "python",
   "pygments_lexer": "ipython3",
   "version": "3.11.10"
  }
 },
 "nbformat": 4,
 "nbformat_minor": 5
}
