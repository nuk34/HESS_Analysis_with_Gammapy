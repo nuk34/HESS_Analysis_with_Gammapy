{
 "cells": [
  {
   "cell_type": "markdown",
   "id": "c9609e56-2c2f-46f0-8be5-dcfa01d36d12",
   "metadata": {},
   "source": [
    "# Sky Maps\n",
    "\n",
    "In this notebook we will have a deeper look at the gamma-ray distribution in the sky. We will obtain an estimate of the background that we can subtract from our sky map to obtain the gamma-ray excess and significance. Along the way we will learn about Makers in gammapy and how to combine several observation runs.\n",
    "\n",
    "Our final products will be a significance map, an exclusion map that flags sky regions that are not to be used for background estimation, and a map data set for later use."
   ]
  },
  {
   "cell_type": "markdown",
   "id": "3528961d-65b4-4d2d-920e-beafa52196ba",
   "metadata": {},
   "source": [
    "## Imports\n",
    "\n",
    "Let's start with importing ther modules and classes that we have seen in the last session."
   ]
  },
  {
   "cell_type": "code",
   "execution_count": 1,
   "id": "cad039bb-71cf-4462-93e7-02abd45792be",
   "metadata": {},
   "outputs": [],
   "source": [
    "import os\n",
    "\n",
    "import matplotlib.pyplot as plt\n",
    "\n",
    "import numpy as np\n",
    "\n",
    "from numpy import sqrt\n",
    "\n",
    "import astropy.units as u\n",
    "\n",
    "from astropy.coordinates import (\n",
    "    SkyCoord, \n",
    "    Angle,\n",
    ")\n",
    "\n",
    "from gammapy.utils.check import check_tutorials_setup\n",
    "\n",
    "from gammapy.data import (\n",
    "    DataStore,\n",
    "    EventList,\n",
    ")\n",
    "\n",
    "from gammapy.stats import WStatCountsStatistic\n",
    "\n",
    "from gammapy.maps import Map"
   ]
  },
  {
   "cell_type": "markdown",
   "id": "4bd9ed2f-39a9-44da-8876-1e1b7eaa0c2c",
   "metadata": {},
   "source": [
    "## Check the Data"
   ]
  },
  {
   "cell_type": "code",
   "execution_count": null,
   "id": "5b677254-c9ef-4f36-9922-fec0a64cd83f",
   "metadata": {},
   "outputs": [
    {
     "name": "stderr",
     "output_type": "stream",
     "text": [
      " 70%|███████████████████████████▉            | 156M/223M [00:23<00:07, 9.06MB/s]"
     ]
    }
   ],
   "source": [
    "if not os.path.exists('gammapy-data'):\n",
    "    check_tutorials_setup()\n",
    "else:\n",
    "    print('Great your setup is correct!')"
   ]
  },
  {
   "cell_type": "code",
   "execution_count": null,
   "id": "3bbae276-340d-48cf-be5e-31451623d17e",
   "metadata": {},
   "outputs": [],
   "source": [
    "os.environ['GAMMAPY_DATA'] = 'gammapy-data/1.2'"
   ]
  },
  {
   "cell_type": "code",
   "execution_count": null,
   "id": "7f997430-b8ae-42c5-927d-58723ac50454",
   "metadata": {},
   "outputs": [],
   "source": [
    "data_store = DataStore.from_dir('$GAMMAPY_DATA/hess-dl3-dr1')"
   ]
  },
  {
   "cell_type": "code",
   "execution_count": null,
   "id": "0eea2977-6cc0-42c9-ae92-2b1d2be5504a",
   "metadata": {},
   "outputs": [],
   "source": [
    "data_store.info()"
   ]
  },
  {
   "cell_type": "markdown",
   "id": "6d6ead14-795f-416a-9672-63c03831065f",
   "metadata": {},
   "source": [
    "## Run Selection"
   ]
  },
  {
   "cell_type": "code",
   "execution_count": null,
   "id": "fbf5cf54-8415-4c3f-ad69-0b4c48ac5b97",
   "metadata": {},
   "outputs": [],
   "source": [
    "source_pos = SkyCoord(83.633*u.deg, 22.014*u.deg, frame='icrs')"
   ]
  },
  {
   "cell_type": "code",
   "execution_count": null,
   "id": "cede9172-c96a-4523-b161-13f9b090cbaf",
   "metadata": {},
   "outputs": [],
   "source": [
    "selectradius = 2.5*u.deg"
   ]
  },
  {
   "cell_type": "code",
   "execution_count": null,
   "id": "e070655f-6833-4634-ac5e-a03141f09dc1",
   "metadata": {},
   "outputs": [],
   "source": [
    "conesearch = data_store.obs_table.select_sky_circle(source_pos, selectradius)"
   ]
  },
  {
   "cell_type": "code",
   "execution_count": null,
   "id": "3856e90d-c1d2-4edd-8d99-7aad21588ca6",
   "metadata": {},
   "outputs": [],
   "source": [
    "runlist = conesearch['OBS_ID'].value"
   ]
  },
  {
   "cell_type": "code",
   "execution_count": null,
   "id": "ab3d3507-5d53-42d2-9219-974f214a0b64",
   "metadata": {},
   "outputs": [],
   "source": [
    "observations = data_store.get_observations(runlist)"
   ]
  },
  {
   "cell_type": "code",
   "execution_count": null,
   "id": "a7605c80-d55d-492b-b982-a8f6b3ce0b22",
   "metadata": {},
   "outputs": [],
   "source": [
    "observations.ids"
   ]
  },
  {
   "cell_type": "code",
   "execution_count": null,
   "id": "4a5dad96-f158-44a5-b3f6-460e91488a69",
   "metadata": {},
   "outputs": [],
   "source": [
    "obs = observations[0]"
   ]
  },
  {
   "cell_type": "code",
   "execution_count": null,
   "id": "3eb41a1c-b2c3-411c-98ed-affb4ff1c7e8",
   "metadata": {},
   "outputs": [],
   "source": [
    "obs"
   ]
  },
  {
   "cell_type": "markdown",
   "id": "784b3203-cc01-4202-98d0-2491c6e81b61",
   "metadata": {},
   "source": [
    "## Geometries"
   ]
  },
  {
   "cell_type": "markdown",
   "id": "a0963f83-4ef6-4775-b1e4-4da6c7d3d447",
   "metadata": {},
   "source": [
    "In the last notebook we binned all events into a two-dimensional map with coordinates Right Ascension and Declination:"
   ]
  },
  {
   "cell_type": "code",
   "execution_count": null,
   "id": "e95813ca-50d1-454a-9df1-5a749ece1d8b",
   "metadata": {},
   "outputs": [],
   "source": [
    "map_crab = Map.create(binsz=0.01*u.deg, \n",
    "                      width=(5*u.deg, 5*u.deg), \n",
    "                      skydir=source_pos, \n",
    "                      frame='icrs')"
   ]
  },
  {
   "cell_type": "markdown",
   "id": "6823a99e-99dc-4507-be89-bfd0322bc45e",
   "metadata": {},
   "source": [
    "The axes of our map are stored in a geometry:"
   ]
  },
  {
   "cell_type": "code",
   "execution_count": null,
   "id": "cd2353c2-c578-461a-8218-fe0f18ccfa95",
   "metadata": {},
   "outputs": [],
   "source": [
    "map_crab.geom"
   ]
  },
  {
   "cell_type": "markdown",
   "id": "0486cbae-ebb5-40c2-b8da-8247f6dc869b",
   "metadata": {},
   "source": [
    "We now want to bin the events into RA, Dec and energy. We will need a three-dimensional geometry."
   ]
  },
  {
   "cell_type": "code",
   "execution_count": null,
   "id": "b7a6cdc6-ed51-4069-81e4-d9e033eae171",
   "metadata": {},
   "outputs": [],
   "source": [
    "# minimum and maximum energy for the analysis\n",
    "Emin =0.1*u.TeV\n",
    "Emax = 50*u.TeV\n",
    "\n",
    "# number of energy bins in the map\n",
    "map_nEbins = 9\n",
    "\n",
    "# width of the map\n",
    "map_width = 8*u.deg\n",
    "\n",
    "# bin size of the map\n",
    "map_binsz = 0.025*u.deg"
   ]
  },
  {
   "cell_type": "code",
   "execution_count": null,
   "id": "340defdd-d8ef-43fc-a554-19a943f87839",
   "metadata": {},
   "outputs": [],
   "source": [
    "from gammapy.maps import MapAxis, WcsGeom"
   ]
  },
  {
   "cell_type": "code",
   "execution_count": null,
   "id": "74b94167-27dd-4459-839b-6b33949a31ef",
   "metadata": {},
   "outputs": [],
   "source": [
    "map_energy_axis = MapAxis.from_energy_bounds(Emin, Emax,\n",
    "                                             nbin=map_nEbins, \n",
    "                                             name='energy')\n",
    "\n",
    "map_geom = WcsGeom.create(skydir=source_pos,\n",
    "                          width=map_width,\n",
    "                          binsz=map_binsz,\n",
    "                          axes=[map_energy_axis]\n",
    "                         )"
   ]
  },
  {
   "cell_type": "code",
   "execution_count": null,
   "id": "411b230a-f170-43ec-a7a4-82b15f8cd412",
   "metadata": {},
   "outputs": [],
   "source": [
    "map_geom"
   ]
  },
  {
   "cell_type": "code",
   "execution_count": null,
   "id": "b0fd9537-70ab-4a55-a489-103fc55df0b4",
   "metadata": {},
   "outputs": [],
   "source": [
    "#We will also need an axis for true energy:\n",
    "\n",
    "energy_axis_true = MapAxis.from_energy_bounds(0.08*u.TeV, 80*u.TeV,\n",
    "                                              nbin=8,\n",
    "                                              per_decade=True,\n",
    "                                              name='energy_true')"
   ]
  },
  {
   "cell_type": "markdown",
   "id": "ef1feeb4-b5c5-40a5-972b-a6988b9edcd7",
   "metadata": {},
   "source": [
    "### MapDatasetMaker\n",
    "We will now use gammapy code to do the binning of our event lists. Objects that manipulate data in gammapy are called Makers. We start with a DatasetMaker."
   ]
  },
  {
   "cell_type": "code",
   "execution_count": null,
   "id": "0c3fc52d-f165-4ad4-a9d7-cf12f0891401",
   "metadata": {},
   "outputs": [],
   "source": [
    "from gammapy.datasets import MapDataset\n",
    "\n",
    "from gammapy.makers import MapDatasetMaker"
   ]
  },
  {
   "cell_type": "code",
   "execution_count": null,
   "id": "3b5b6623-7e7a-4af9-98f1-1e0c4089ccb9",
   "metadata": {},
   "outputs": [],
   "source": [
    "map_empty = MapDataset.create(map_geom, \n",
    "                              name='empty', \n",
    "                              energy_axis_true=energy_axis_true\n",
    "                             )"
   ]
  },
  {
   "cell_type": "code",
   "execution_count": null,
   "id": "6ec282a9-3e99-4109-b931-f94872387b68",
   "metadata": {},
   "outputs": [],
   "source": [
    "map_maker = MapDatasetMaker()"
   ]
  },
  {
   "cell_type": "markdown",
   "id": "3abad8e8-779d-4f59-960b-00eef1219a7d",
   "metadata": {},
   "source": [
    "We will test everything on the first run:"
   ]
  },
  {
   "cell_type": "code",
   "execution_count": null,
   "id": "6e9460e3-727d-456d-b9d4-43d08fa064e2",
   "metadata": {},
   "outputs": [],
   "source": [
    "map_dataset = map_maker.run(map_empty, obs)"
   ]
  },
  {
   "cell_type": "code",
   "execution_count": null,
   "id": "6db2de71-8286-45da-9a11-cb5261b39ed3",
   "metadata": {},
   "outputs": [],
   "source": [
    "map_dataset.counts.plot_grid()"
   ]
  },
  {
   "cell_type": "code",
   "execution_count": null,
   "id": "6dc90997-6a40-4bfc-94f4-87ff2d4f3de2",
   "metadata": {},
   "outputs": [],
   "source": [
    "#map_dataset.counts_off"
   ]
  },
  {
   "cell_type": "markdown",
   "id": "f7fc61e0-5ec1-46c8-9018-5722b8526f3a",
   "metadata": {},
   "source": [
    "### SafeMaskMaker\n",
    "We want to reject badly reconstructed events. This could be events with a very large distance from the camera centre (outside the camera) or at low energies where the sensitivity of the instruments is too low. We will reject all events outside a radius of 2.5 deg and where the sensitivity drops below 10% of the maximum value. The SafeMaskMaker will do that for us."
   ]
  },
  {
   "cell_type": "code",
   "execution_count": null,
   "id": "cd5723d8-1d07-4a42-8cbb-53c2e28926b3",
   "metadata": {},
   "outputs": [],
   "source": [
    "# maximumum offset\n",
    "offset_max = 2.5*u.deg\n",
    "\n",
    "aeff_max = 10"
   ]
  },
  {
   "cell_type": "code",
   "execution_count": null,
   "id": "1e66fb01-e321-438d-93eb-12691d9aa98a",
   "metadata": {},
   "outputs": [],
   "source": [
    "map_dataset.mask_image.plot()"
   ]
  },
  {
   "cell_type": "code",
   "execution_count": null,
   "id": "537988f5-d99f-4ae7-bdcb-785e555a00cf",
   "metadata": {},
   "outputs": [],
   "source": [
    "from gammapy.makers import SafeMaskMaker"
   ]
  },
  {
   "cell_type": "code",
   "execution_count": null,
   "id": "038e2c0e-e262-4186-aa25-8859d8fa69a7",
   "metadata": {},
   "outputs": [],
   "source": [
    "safe_mask_maker = SafeMaskMaker(methods=['offset-max', 'aeff-max'], \n",
    "                                offset_max = offset_max,\n",
    "                                aeff_percent = aeff_max\n",
    "                               )"
   ]
  },
  {
   "cell_type": "code",
   "execution_count": null,
   "id": "f3ea7f90-021b-4090-a1c5-6919d4ce0fc9",
   "metadata": {},
   "outputs": [],
   "source": [
    "map_dataset = safe_mask_maker.run(map_dataset, obs)"
   ]
  },
  {
   "cell_type": "code",
   "execution_count": null,
   "id": "08bdc5d2-3149-4810-af83-ca4e3764b362",
   "metadata": {},
   "outputs": [],
   "source": [
    "map_dataset.mask_image.plot(add_cbar = True)"
   ]
  },
  {
   "cell_type": "code",
   "execution_count": null,
   "id": "6d8de1b3-8fa1-4fce-bad2-e7a7c31c6678",
   "metadata": {},
   "outputs": [],
   "source": [
    "map_dataset.mask_safe.plot_grid()"
   ]
  },
  {
   "cell_type": "markdown",
   "id": "a1ef3c52-7387-4d75-825a-662d72665b08",
   "metadata": {},
   "source": [
    "### Ring Background\n",
    "Finally we use the RingBackgroundMaker to create a background estimate. First we need an exclusion mask which flags all known and potential sources.\n",
    "\n",
    "Let's start with a guess on the exclusion radius."
   ]
  },
  {
   "cell_type": "code",
   "execution_count": null,
   "id": "95c4c60a-e2e2-4547-92ae-ad5d20f4b826",
   "metadata": {},
   "outputs": [],
   "source": [
    "exclusion_radius = 0.1*u.deg"
   ]
  },
  {
   "cell_type": "code",
   "execution_count": null,
   "id": "6057686a-5a5c-4b0e-bac8-ed05b4645bac",
   "metadata": {},
   "outputs": [],
   "source": [
    "from regions import CircleSkyRegion"
   ]
  },
  {
   "cell_type": "code",
   "execution_count": null,
   "id": "fbf0025e-3e8b-4a08-99ad-306dc0ec037f",
   "metadata": {},
   "outputs": [],
   "source": [
    "exclusion_regions = [CircleSkyRegion(center=source_pos,  ## exclude the Crab Nebula\n",
    "                                     radius=exclusion_radius\n",
    "                                    ),  \n",
    "                     CircleSkyRegion(center=SkyCoord(183.604, -8.708,       \n",
    "                                                     ## RGB J0521+212, recommended in gammapy tutorial\n",
    "                                                     unit='deg', \n",
    "                                                     frame='galactic'),\n",
    "                                     radius=exclusion_radius)\n",
    "                    ]"
   ]
  },
  {
   "cell_type": "code",
   "execution_count": null,
   "id": "47d6755c-8a5b-41ad-a929-e99cccf7549d",
   "metadata": {},
   "outputs": [],
   "source": [
    "exclusion_regions"
   ]
  },
  {
   "cell_type": "code",
   "execution_count": null,
   "id": "e780a17e-5703-4cc7-b545-4720d825c9e7",
   "metadata": {
    "tags": []
   },
   "outputs": [],
   "source": [
    "exclusion_mask = map_geom.to_image().region_mask(exclusion_regions, inside = False) "
   ]
  },
  {
   "cell_type": "code",
   "execution_count": null,
   "id": "697eb4df-e41f-464e-91f0-974131ffa965",
   "metadata": {},
   "outputs": [],
   "source": [
    "exclusion_mask.plot()"
   ]
  },
  {
   "cell_type": "markdown",
   "id": "5791f39d-f2c1-4d8f-a1e1-d6ab65f9fbae",
   "metadata": {},
   "source": [
    "Now we create the RingBackgroundMaker. We can choose the inner radius of the ring, which must be larger than the largest exclusion region, and the width of the ring."
   ]
  },
  {
   "cell_type": "code",
   "execution_count": null,
   "id": "65051e07-7f08-40df-9ca1-4b04742d8c71",
   "metadata": {},
   "outputs": [],
   "source": [
    "from gammapy.makers import RingBackgroundMaker"
   ]
  },
  {
   "cell_type": "code",
   "execution_count": null,
   "id": "9ebfe995-3b2f-4573-8a8d-4f115ee65db5",
   "metadata": {},
   "outputs": [],
   "source": [
    "ring_bkg_maker = RingBackgroundMaker(exclusion_mask=exclusion_mask,\n",
    "                                     r_in=exclusion_radius,\n",
    "                                     width=0.4*u.deg)"
   ]
  },
  {
   "cell_type": "code",
   "execution_count": null,
   "id": "a75dba6c-4f11-49ee-bf91-8d714c5a60e0",
   "metadata": {},
   "outputs": [],
   "source": [
    "map_dataset = ring_bkg_maker.run(map_dataset)"
   ]
  },
  {
   "cell_type": "code",
   "execution_count": null,
   "id": "47bf7f6a-166b-4f05-9946-8d9499641287",
   "metadata": {},
   "outputs": [],
   "source": [
    "map_dataset.counts.plot_grid()"
   ]
  },
  {
   "cell_type": "code",
   "execution_count": null,
   "id": "c31227a7-4b41-4f63-81fe-b1653888bfe5",
   "metadata": {
    "scrolled": true
   },
   "outputs": [],
   "source": [
    "map_dataset.counts_off.plot_grid()"
   ]
  },
  {
   "cell_type": "markdown",
   "id": "485d36f4-9527-48f0-b843-bde47b612bee",
   "metadata": {},
   "source": [
    "In some images we can see the rings of the background estimator! This also means that we do not have sufficient background counts in these images. We may need to consider larger energy bins at a later stage."
   ]
  },
  {
   "cell_type": "markdown",
   "id": "b9d81573-3e3f-43ac-a888-7b6eab94dcd3",
   "metadata": {},
   "source": [
    "These objects can get quite large. So we need to do a bit of memory management. We delete this object as we don't need it anymore."
   ]
  },
  {
   "cell_type": "code",
   "execution_count": null,
   "id": "6e9dfb38-14e7-47e1-bded-82639e6f2239",
   "metadata": {},
   "outputs": [],
   "source": [
    "del map_dataset"
   ]
  },
  {
   "cell_type": "markdown",
   "id": "f214c131-609c-4c0d-86eb-63efdaf71907",
   "metadata": {},
   "source": [
    "### Combination of all runs\n",
    "We now loop over all runs and stack the individual data sets. We have already defined the makers that we want to run. We want to the makers on all observations. Rather than a simple for loop (which would work), we would like to have the option to run in parallel. The ```DatasetsMaker``` provides this functionality."
   ]
  },
  {
   "cell_type": "code",
   "execution_count": null,
   "id": "c459e098-352e-4d68-8850-a40b87feb55c",
   "metadata": {},
   "outputs": [],
   "source": [
    "from gammapy.makers import DatasetsMaker"
   ]
  },
  {
   "cell_type": "code",
   "execution_count": null,
   "id": "da10fb57-6598-4bfa-8cfb-c411f2a18413",
   "metadata": {},
   "outputs": [],
   "source": [
    "chainmaker_map = DatasetsMaker(makers = [map_maker, safe_mask_maker, ring_bkg_maker],\n",
    "                               stack_datasets = False,\n",
    "                               n_jobs = 4, parallel_backend = 'multiprocessing'\n",
    "                               )"
   ]
  },
  {
   "cell_type": "code",
   "execution_count": null,
   "id": "6debacc1-08b3-4b41-b6b2-8ad5e1bf1de9",
   "metadata": {},
   "outputs": [],
   "source": [
    "## I strongly suggest to keep these two lines in a single cell\n",
    "## to make sure that the stacked map is deleted before running the chain again.\n",
    "\n",
    "#map_stacked = map_empty.copy(name = 'stacked')\n",
    "#map_stacked = MapDatasetOnOff.from_geoms(**map_empty.geoms)\n",
    "\n",
    "map_datasets = chainmaker_map.run(dataset = map_empty.copy(name = 'stacked'), ## this will not be used\n",
    "                                  observations = observations)"
   ]
  },
  {
   "cell_type": "markdown",
   "id": "2b315b83-f3e0-4e9c-851c-9ed0285cd7a3",
   "metadata": {},
   "source": [
    "We want to stack all the observations into a dataset with the previously defined geometry."
   ]
  },
  {
   "cell_type": "code",
   "execution_count": null,
   "id": "eecc3bf2-8bd6-4f43-a667-2ba876576d50",
   "metadata": {},
   "outputs": [],
   "source": [
    "from gammapy.datasets import MapDatasetOnOff"
   ]
  },
  {
   "cell_type": "code",
   "execution_count": null,
   "id": "5c57f1f2-17e4-49e7-829b-a16f62e88d4d",
   "metadata": {},
   "outputs": [],
   "source": [
    "map_stacked = MapDatasetOnOff.from_geoms(**map_empty.geoms)\n",
    "\n",
    "for ds in map_datasets :\n",
    "    map_stacked.stack(ds)"
   ]
  },
  {
   "cell_type": "code",
   "execution_count": null,
   "id": "d6fca4a1-dd9d-4c8b-b7c7-c82029ea993e",
   "metadata": {},
   "outputs": [],
   "source": [
    "del map_datasets"
   ]
  },
  {
   "cell_type": "markdown",
   "id": "d08ae9e3-669c-4d8b-a4df-c844be980278",
   "metadata": {},
   "source": [
    "## A Quick Look at the Maps"
   ]
  },
  {
   "cell_type": "code",
   "execution_count": null,
   "id": "dd704898-50c2-4166-b59a-16c96b66d653",
   "metadata": {},
   "outputs": [],
   "source": [
    "map_stacked.counts.plot_grid()"
   ]
  },
  {
   "cell_type": "code",
   "execution_count": null,
   "id": "4f73ab0a-1345-4af1-8462-030999bbd006",
   "metadata": {},
   "outputs": [],
   "source": [
    "map_on = map_stacked.counts.sum_over_axes()"
   ]
  },
  {
   "cell_type": "code",
   "execution_count": null,
   "id": "d4d3640a-fd29-4b0b-8eed-d4c11c9c946e",
   "metadata": {},
   "outputs": [],
   "source": [
    "map_on.plot(add_cbar = True, cmap = 'plasma')"
   ]
  },
  {
   "cell_type": "code",
   "execution_count": null,
   "id": "4510cf86-3d44-4258-b782-4b7273717eac",
   "metadata": {},
   "outputs": [],
   "source": [
    "map_on.smooth(0.05*u.deg).plot(add_cbar = True,\n",
    "                               cmap = 'plasma')\n",
    "\n",
    "#plt.savefig('MapOn.svg')"
   ]
  },
  {
   "cell_type": "code",
   "execution_count": null,
   "id": "9bd43d44-ff74-491c-9227-1e67e2b294c5",
   "metadata": {},
   "outputs": [],
   "source": [
    "map_stacked.counts_off.plot_grid()"
   ]
  },
  {
   "cell_type": "code",
   "execution_count": null,
   "id": "400aefc0-0aa5-4064-b212-6cb95b408a2a",
   "metadata": {},
   "outputs": [],
   "source": [
    "map_stacked.alpha.plot_grid()"
   ]
  },
  {
   "cell_type": "code",
   "execution_count": null,
   "id": "9682330d-7264-4f99-95e7-2bed99c48a8c",
   "metadata": {},
   "outputs": [],
   "source": [
    "map_off = (map_stacked.counts_off * map_stacked.alpha).sum_over_axes()"
   ]
  },
  {
   "cell_type": "code",
   "execution_count": null,
   "id": "ebb57398-bcec-4143-97fc-3a04588e3c4a",
   "metadata": {},
   "outputs": [],
   "source": [
    "map_off.plot(add_cbar = True)"
   ]
  },
  {
   "cell_type": "code",
   "execution_count": null,
   "id": "90cda6f0-ce62-45d9-ab12-06d64b323ad3",
   "metadata": {},
   "outputs": [],
   "source": [
    "map_off.smooth(0.05*u.deg).plot(add_cbar = True,\n",
    "                                cmap = 'plasma')\n",
    "\n",
    "#plt.savefig('MapOff.svg')"
   ]
  },
  {
   "cell_type": "code",
   "execution_count": null,
   "id": "b7e7f01f-29b8-418b-bc65-31376dce7cd6",
   "metadata": {},
   "outputs": [],
   "source": [
    "map_excess = map_on - map_off"
   ]
  },
  {
   "cell_type": "code",
   "execution_count": null,
   "id": "02941f1b-7e9d-4097-8e6b-6a68f1d648e6",
   "metadata": {},
   "outputs": [],
   "source": [
    "map_excess.plot(add_cbar = True)"
   ]
  },
  {
   "cell_type": "code",
   "execution_count": null,
   "id": "2c86e2cf-414f-4f3d-8625-9d0580468f73",
   "metadata": {},
   "outputs": [],
   "source": [
    "map_excess.smooth(0.05*u.deg).plot(add_cbar = True,\n",
    "                                   cmap = 'plasma')\n",
    "\n",
    "#plt.savefig('MapExcess.svg')"
   ]
  },
  {
   "cell_type": "code",
   "execution_count": null,
   "id": "82994d2b-2fb0-4d76-a7f6-1f8350e3c156",
   "metadata": {},
   "outputs": [],
   "source": [
    "map_stacked.peek()"
   ]
  },
  {
   "cell_type": "markdown",
   "id": "d8339bef-65d5-4f35-a3d7-7dc6ec0ddb7b",
   "metadata": {},
   "source": [
    "## Excess and Significance Maps\n",
    "\n",
    "We have seen a very simple way to get the excess map. We could also calculate the significance in each bin. \n",
    "But there is a simpler way to do all that. We can use gammapy's ExcessMapEstimator."
   ]
  },
  {
   "cell_type": "code",
   "execution_count": null,
   "id": "ea00acaa-bafc-4b2e-85bb-e09cdc45c33f",
   "metadata": {},
   "outputs": [],
   "source": [
    "from gammapy.estimators import ExcessMapEstimator"
   ]
  },
  {
   "cell_type": "markdown",
   "id": "ed7f7d71-5711-4b9d-80eb-0baaf8f9ece0",
   "metadata": {},
   "source": [
    "The ExcessMapEstimator uses oversampling. So we need to decide our oversampling radius. For that we should have a look at our point-spread function (PSF)."
   ]
  },
  {
   "cell_type": "code",
   "execution_count": null,
   "id": "7eb52db3-5f49-42c5-9e16-9afaf83e5f0e",
   "metadata": {},
   "outputs": [],
   "source": [
    "map_stacked.psf.plot_containment_radius_vs_energy(fraction=(0.34, 0.68, 0.95, 0.99))"
   ]
  },
  {
   "cell_type": "markdown",
   "id": "3dbeedf3-2569-4f88-b474-8fc889481ff4",
   "metadata": {},
   "source": [
    "The 68% radius is often a good choice. But the Crab Nebula is so bright that we can go lower than that. Let's take 0.05 deg."
   ]
  },
  {
   "cell_type": "code",
   "execution_count": null,
   "id": "621f4a2f-4d85-42f5-aeda-74779aaf856b",
   "metadata": {},
   "outputs": [],
   "source": [
    "estimator = ExcessMapEstimator(0.05*u.deg)\n",
    "\n",
    "fluxmaps = estimator.run(map_stacked)"
   ]
  },
  {
   "cell_type": "code",
   "execution_count": null,
   "id": "e4fd8d02-736a-49d1-a6ad-b6bb651cca31",
   "metadata": {},
   "outputs": [],
   "source": [
    "fluxmaps.npred_excess.plot(add_cbar = True, cmap = 'plasma')\n",
    "\n",
    "#plt.savefig('FinalMap_Excess.svg')"
   ]
  },
  {
   "cell_type": "code",
   "execution_count": null,
   "id": "bbca9c67-0de8-435d-a772-550e3d8c6a63",
   "metadata": {},
   "outputs": [],
   "source": [
    "fluxmaps.sqrt_ts.plot(add_cbar = True, cmap = 'plasma')\n",
    "\n",
    "#plt.savefig('FinalMap_Significance.svg')"
   ]
  },
  {
   "cell_type": "markdown",
   "id": "bc4953dd-8319-4fed-9c44-ed29f4c81c83",
   "metadata": {},
   "source": [
    "This is our significance map. Let's keep this for later:"
   ]
  },
  {
   "cell_type": "code",
   "execution_count": null,
   "id": "6acb8ab1-ad80-402d-b05f-9dff6308e1da",
   "metadata": {},
   "outputs": [],
   "source": [
    "fluxmaps.sqrt_ts"
   ]
  },
  {
   "cell_type": "code",
   "execution_count": null,
   "id": "dd69ff51-11ba-41ab-b54a-14b3544f6d5a",
   "metadata": {},
   "outputs": [],
   "source": [
    "significance_map = fluxmaps.sqrt_ts.reduce_over_axes()"
   ]
  },
  {
   "cell_type": "code",
   "execution_count": null,
   "id": "f7d53a28-c914-4eef-82c2-5d43aaa3759e",
   "metadata": {},
   "outputs": [],
   "source": [
    "fluxmaps.flux.plot(add_cbar = True, cmap = 'plasma')\n",
    "\n",
    "#plt.savefig('FinalMap_Flux.svg')"
   ]
  },
  {
   "cell_type": "markdown",
   "id": "d09ca5af-d52b-47ac-b94a-b038b95936bc",
   "metadata": {},
   "source": [
    "#### your playground\n",
    "Please try different convolution radii. You will see that smaller radii will lead to a more noisy image and larger radii will make the source appear bigger. This does not mean that the source is indeed bigger. You just smear out the emission over a larger area."
   ]
  },
  {
   "cell_type": "code",
   "execution_count": null,
   "id": "64cb4714-dbac-426c-8307-0baeb8837354",
   "metadata": {},
   "outputs": [],
   "source": [
    "## your code here"
   ]
  },
  {
   "cell_type": "markdown",
   "id": "02c9e327-d767-4f24-a508-b972e6cb5963",
   "metadata": {},
   "source": [
    "### Evaluation of the Sky Map\n",
    "We need to check that our background estimate is reasonable and we would like to know if there are any other potential sources in the map."
   ]
  },
  {
   "cell_type": "markdown",
   "id": "c46363be-d3ba-41d3-99c0-822fe2f82188",
   "metadata": {},
   "source": [
    "We will make a histogram of the significance distribution. This will require some data manipulation."
   ]
  },
  {
   "cell_type": "code",
   "execution_count": null,
   "id": "b3a47854-8173-43f6-a529-4e704d175699",
   "metadata": {},
   "outputs": [],
   "source": [
    "sigmapdata = significance_map.data"
   ]
  },
  {
   "cell_type": "code",
   "execution_count": null,
   "id": "9869a06a-6223-4673-8f36-072953a4833b",
   "metadata": {},
   "outputs": [],
   "source": [
    "sigmapdata"
   ]
  },
  {
   "cell_type": "code",
   "execution_count": null,
   "id": "066aab3a-1492-43bf-9ac8-72e4665d2b38",
   "metadata": {},
   "outputs": [],
   "source": [
    "sigmapdata = sigmapdata.ravel()"
   ]
  },
  {
   "cell_type": "code",
   "execution_count": null,
   "id": "cf4db5c3-cf4b-4c8e-8376-73320adbabe6",
   "metadata": {},
   "outputs": [],
   "source": [
    "sig_hist = plt.hist(sigmapdata,\n",
    "                    bins = 50,\n",
    "                    density = True,\n",
    "                    color = 'tab:blue'\n",
    "                   )\n",
    "\n",
    "plt.yscale('log')\n",
    "\n",
    "#plt.savefig('SigDist_all.svg')"
   ]
  },
  {
   "cell_type": "markdown",
   "id": "88a13946-90c1-444e-bbc2-088978124592",
   "metadata": {},
   "source": [
    "We clearly see that there are bins with significances up to 30 sigma (this is the Crab Nebula). We also see many bins with significances around 0 (this is in the parts of the image with no source, which is our background). We can also study the regions containing only background, we need to multiply the significance image with the exclusion mask. "
   ]
  },
  {
   "cell_type": "code",
   "execution_count": null,
   "id": "e0e0f984-037a-4b3e-a71e-e0d398d289bd",
   "metadata": {},
   "outputs": [],
   "source": [
    "sig_off = significance_map*exclusion_mask"
   ]
  },
  {
   "cell_type": "code",
   "execution_count": null,
   "id": "390cc53d-365c-45c4-9052-5f41ec394bd0",
   "metadata": {
    "scrolled": true
   },
   "outputs": [],
   "source": [
    "sig_off.plot(add_cbar = True,\n",
    "             cmap = 'plasma'\n",
    "            )\n",
    "\n",
    "#plt.savefig('SigMap_masked.svg')"
   ]
  },
  {
   "cell_type": "code",
   "execution_count": null,
   "id": "acd0d675-b2d5-47e2-b442-0f6d692466b7",
   "metadata": {},
   "outputs": [],
   "source": [
    "sigmapdata_off = sig_off.data.ravel()"
   ]
  },
  {
   "cell_type": "code",
   "execution_count": null,
   "id": "fac08fac-fa46-44f9-b40d-2c6e429d90ac",
   "metadata": {},
   "outputs": [],
   "source": [
    "sig_hist_off = plt.hist(sigmapdata_off,\n",
    "                        bins = sig_hist[1],\n",
    "                        density = True\n",
    "                       )\n",
    "\n",
    "plt.yscale('log')"
   ]
  },
  {
   "cell_type": "markdown",
   "id": "80e4a2f4-f498-4cfa-83c7-6fb6b310e6cc",
   "metadata": {},
   "source": [
    "This should be a Gaussian centred on 0 with a width of 1. Let's test it."
   ]
  },
  {
   "cell_type": "code",
   "execution_count": null,
   "id": "d72e4280-8c7a-4e4b-8c6c-e39790b0d085",
   "metadata": {},
   "outputs": [],
   "source": [
    "from scipy.stats import norm"
   ]
  },
  {
   "cell_type": "code",
   "execution_count": null,
   "id": "2ea6f188-0a58-429c-a154-735f30cd1259",
   "metadata": {},
   "outputs": [],
   "source": [
    "mu, std = norm.fit(sigmapdata_off)\n",
    "\n",
    "print(f'Fit results: mu = {mu:.2f}, std = {std:.2f}')"
   ]
  },
  {
   "cell_type": "code",
   "execution_count": null,
   "id": "c29bef5c-31e4-4e47-bc18-b1b94724f352",
   "metadata": {},
   "outputs": [],
   "source": [
    "x = np.linspace(-5, 5, 50)\n",
    "p = norm.pdf(x, mu, std)"
   ]
  },
  {
   "cell_type": "code",
   "execution_count": null,
   "id": "1559562d-fc31-4a90-b8a2-35a55bef4c40",
   "metadata": {},
   "outputs": [],
   "source": [
    "plt.stairs(sig_hist_off[0], sig_hist_off[1],\n",
    "           fill = True,\n",
    "           color = 'tab:red'\n",
    "          )\n",
    "\n",
    "plt.plot(x, p, lw=2, color='black')\n",
    "\n",
    "plt.yscale('log')\n",
    "\n",
    "#plt.savefig('SigDist_off.svg')"
   ]
  },
  {
   "cell_type": "code",
   "execution_count": null,
   "id": "4dca689c-e202-4a32-ab99-2bf98617381f",
   "metadata": {},
   "outputs": [],
   "source": [
    "plt.stairs(sig_hist[0], sig_hist[1],\n",
    "           fill = True,\n",
    "           color = 'tab:blue',\n",
    "           label='all bins'\n",
    "          )\n",
    "\n",
    "plt.stairs(sig_hist_off[0], sig_hist_off[1],\n",
    "           fill = True,\n",
    "           color = 'tab:red',\n",
    "           label = 'off bins',\n",
    "           alpha = 0.5\n",
    "          )\n",
    "\n",
    "plt.plot(x, p, lw=2, color='black', \n",
    "         label = f'mu = {mu:.2f}, std = {std:.2f}')\n",
    "\n",
    "plt.yscale('log')\n",
    "\n",
    "plt.xlabel('significance')\n",
    "\n",
    "plt.legend()\n",
    "\n",
    "#plt.savefig('SigDist_final.svg')"
   ]
  },
  {
   "cell_type": "code",
   "execution_count": null,
   "id": "667556ac-2d2c-4b02-a51b-4a6980c7b0e8",
   "metadata": {},
   "outputs": [],
   "source": [
    "from gammapy.estimators.utils import find_peaks"
   ]
  },
  {
   "cell_type": "code",
   "execution_count": null,
   "id": "c42a8071-8837-49b5-b770-80fe09b7356f",
   "metadata": {},
   "outputs": [],
   "source": [
    "sources = find_peaks(sig_off,       # where\n",
    "                     5,             # threshold\n",
    "                     0.1*u.deg      # minimum distance to next peak\n",
    "                    )"
   ]
  },
  {
   "cell_type": "code",
   "execution_count": null,
   "id": "2e25c7fc-1f69-4338-a6ca-4932638364c3",
   "metadata": {},
   "outputs": [],
   "source": [
    "sources"
   ]
  },
  {
   "cell_type": "code",
   "execution_count": null,
   "id": "d3e15036-21dd-4300-95ba-aa4008aaf411",
   "metadata": {},
   "outputs": [],
   "source": [
    "if len(sources) > 0 :\n",
    "    \n",
    "    ax = sig_off.plot(add_cbar=True, cmap = 'plasma')\n",
    "\n",
    "    ax.scatter(\n",
    "        sources['ra'],\n",
    "        sources['dec'],\n",
    "        transform=ax.get_transform('icrs'),\n",
    "        color='none',\n",
    "        edgecolor='w',\n",
    "        marker='o',\n",
    "        s=600,\n",
    "        lw=1.5,\n",
    "    )"
   ]
  },
  {
   "cell_type": "markdown",
   "id": "5118d228-3235-4bcb-8623-1c008d7dcac6",
   "metadata": {},
   "source": [
    "Our exclusion region is clearly too small. We have to go back, increase the exclusion region size and re-run everything. Unknown sources may show up at this step, these sources will have to be excluded as well.\n",
    "Do not move on before all significant excesses are properly masked out!"
   ]
  },
  {
   "cell_type": "markdown",
   "id": "38b2117a-39c8-4b50-b29e-531f350f6aec",
   "metadata": {},
   "source": [
    "## Results"
   ]
  },
  {
   "cell_type": "markdown",
   "id": "4708ff32-1496-42a0-99f9-9a6da1d95343",
   "metadata": {},
   "source": [
    "We have obtained a significance map and an exclusion mask: "
   ]
  },
  {
   "cell_type": "code",
   "execution_count": null,
   "id": "5a7e1119-6208-4a93-ad50-c37c4b2e40f5",
   "metadata": {},
   "outputs": [],
   "source": [
    "significance_map.plot(add_cbar = True, cmap = 'plasma')"
   ]
  },
  {
   "cell_type": "code",
   "execution_count": null,
   "id": "9ac3471a-f113-4986-812f-00de1c52e467",
   "metadata": {},
   "outputs": [],
   "source": [
    "exclusion_mask.plot(add_cbar = True)"
   ]
  },
  {
   "cell_type": "markdown",
   "id": "b1d452fd-5a4f-456a-ad46-dc68bc04520e",
   "metadata": {},
   "source": [
    "We will need both in the next step, let's save them:"
   ]
  },
  {
   "cell_type": "code",
   "execution_count": null,
   "id": "39c93a34-e996-4b1f-9a2f-423315824654",
   "metadata": {},
   "outputs": [],
   "source": [
    "significance_map.write('SigMap.fits.gz')\n",
    "exclusion_mask.write('ExclusionMask.fits.gz')"
   ]
  },
  {
   "cell_type": "markdown",
   "id": "e002136a-3928-4f0b-8fc2-0c4da027ca8f",
   "metadata": {},
   "source": [
    "We also produced a map data set which can be used for a more detailed analysis of the emission. Let's save it as well:"
   ]
  },
  {
   "cell_type": "code",
   "execution_count": null,
   "id": "05a4b5c5-88e2-413d-917f-b901a4dd498b",
   "metadata": {},
   "outputs": [],
   "source": [
    "map_stacked.write('MapDataset.fits.gz')"
   ]
  },
  {
   "cell_type": "markdown",
   "id": "755ae96a-7b2c-45b8-98cd-e23307b1efe0",
   "metadata": {},
   "source": [
    "## Summary\n",
    "\n",
    "We have seen how to use gammapy and its Makers to obtain sky maps of the gamma-ray emission. We have identified a source in the map and we have generated an exclusion mask which is needed to obtain a good background estimate.\n",
    "\n",
    "In the next session we will look at the spectrum of the source. We will come back to the maps at a later stage."
   ]
  }
 ],
 "metadata": {
  "kernelspec": {
   "display_name": "Python 3 (ipykernel)",
   "language": "python",
   "name": "python3"
  },
  "language_info": {
   "codemirror_mode": {
    "name": "ipython",
    "version": 3
   },
   "file_extension": ".py",
   "mimetype": "text/x-python",
   "name": "python",
   "nbconvert_exporter": "python",
   "pygments_lexer": "ipython3",
   "version": "3.10.13"
  }
 },
 "nbformat": 4,
 "nbformat_minor": 5
}
