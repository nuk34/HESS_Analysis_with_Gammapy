{
 "cells": [
  {
   "cell_type": "markdown",
   "id": "134a267f-d69a-4656-ab96-f67b7df2f6bf",
   "metadata": {},
   "source": [
    "# Spectrum\n",
    "\n",
    "In this notebook we will analyse the energy distribution of the events. Along the way we will investigate if the gamma-ray emission is statistically significant, and we will take a look at the development of the significance over time.\n",
    "\n",
    "We will need the significance map and exclusion mask from the previous step. Our final product will be the energy spectrum of the source in the form of spectral data points, a spectral model that describes best the observed data and a list of data sets for time-dependent analysis at a later stage."
   ]
  },
  {
   "cell_type": "markdown",
   "id": "b11fd8df-3008-4cbc-ae57-6b4e191c67c4",
   "metadata": {},
   "source": [
    "## Imports\n",
    "\n",
    "Let's start with importing ther modules and classes that we have seen in the last session."
   ]
  },
  {
   "cell_type": "code",
   "execution_count": null,
   "id": "a901e434-0ac3-44bd-9ab8-b7976cea7aa6",
   "metadata": {},
   "outputs": [],
   "source": [
    "import os\n",
    "\n",
    "import matplotlib.pyplot as plt\n",
    "\n",
    "import numpy as np\n",
    "\n",
    "from numpy import sqrt\n",
    "\n",
    "import astropy.units as u\n",
    "\n",
    "from astropy.coordinates import (\n",
    "    SkyCoord, \n",
    "    Angle,\n",
    ")\n",
    "\n",
    "from gammapy.utils.check import check_tutorials_setup\n",
    "\n",
    "from gammapy.data import (\n",
    "    DataStore,\n",
    ")\n",
    "\n",
    "from gammapy.stats import WStatCountsStatistic\n",
    "\n",
    "from gammapy.maps import (\n",
    "    Map,\n",
    "    MapAxis, \n",
    "    WcsGeom,\n",
    ")"
   ]
  },
  {
   "cell_type": "code",
   "execution_count": null,
   "id": "1aed3a8e-1035-4cee-b389-01f7f934f0e7",
   "metadata": {},
   "outputs": [],
   "source": [
    "from regions import CircleSkyRegion"
   ]
  },
  {
   "cell_type": "markdown",
   "id": "338e2f21-95e5-45a8-8d61-4cc918654330",
   "metadata": {},
   "source": [
    "## Check the Data"
   ]
  },
  {
   "cell_type": "code",
   "execution_count": null,
   "id": "56da3d6a-86f3-4ee3-ad8f-e99b10fc5ae6",
   "metadata": {},
   "outputs": [],
   "source": [
    "if not os.path.exists('gammapy-data'):\n",
    "    check_tutorials_setup()\n",
    "else:\n",
    "    print('Great your setup is correct!')"
   ]
  },
  {
   "cell_type": "code",
   "execution_count": null,
   "id": "8b8a6528-c304-4f8f-b1d8-bc38dace950b",
   "metadata": {},
   "outputs": [],
   "source": [
    "os.environ['GAMMAPY_DATA'] = 'gammapy-data/1.2'"
   ]
  },
  {
   "cell_type": "code",
   "execution_count": null,
   "id": "2291fbd5-4d18-4f32-b2cb-b36eb5119a8e",
   "metadata": {},
   "outputs": [],
   "source": [
    "data_store = DataStore.from_dir('$GAMMAPY_DATA/hess-dl3-dr1')"
   ]
  },
  {
   "cell_type": "code",
   "execution_count": null,
   "id": "b478da40-7f57-403e-9b62-ec86708b3d05",
   "metadata": {},
   "outputs": [],
   "source": [
    "data_store.info()"
   ]
  },
  {
   "cell_type": "markdown",
   "id": "11d28ecc-ff26-448a-b81c-bff7d595030b",
   "metadata": {},
   "source": [
    "## Run Selection"
   ]
  },
  {
   "cell_type": "code",
   "execution_count": null,
   "id": "c59e0b25-0964-45be-af43-f2ae954f36c4",
   "metadata": {},
   "outputs": [],
   "source": [
    "source_pos = SkyCoord(83.633*u.deg, 22.014*u.deg, frame='icrs')"
   ]
  },
  {
   "cell_type": "code",
   "execution_count": null,
   "id": "b5f5966f-6e8b-41e6-b304-8d8ab97cbb52",
   "metadata": {},
   "outputs": [],
   "source": [
    "selectradius = 2.5*u.deg"
   ]
  },
  {
   "cell_type": "code",
   "execution_count": null,
   "id": "63bd3f26-6829-4712-a9c3-3407d901716c",
   "metadata": {},
   "outputs": [],
   "source": [
    "conesearch = data_store.obs_table.select_sky_circle(source_pos, selectradius)"
   ]
  },
  {
   "cell_type": "code",
   "execution_count": null,
   "id": "972ec6fc-a64c-4d62-b482-08f7436dc670",
   "metadata": {},
   "outputs": [],
   "source": [
    "runlist = conesearch['OBS_ID'].value"
   ]
  },
  {
   "cell_type": "code",
   "execution_count": null,
   "id": "a834717f-b71c-459f-b878-07d8af1337b5",
   "metadata": {},
   "outputs": [],
   "source": [
    "observations = data_store.get_observations(runlist)"
   ]
  },
  {
   "cell_type": "code",
   "execution_count": null,
   "id": "66793688-05e8-478c-81bc-48c4847e11ba",
   "metadata": {},
   "outputs": [],
   "source": [
    "observations.ids"
   ]
  },
  {
   "cell_type": "code",
   "execution_count": null,
   "id": "dc4ab4c4-9f65-4e09-bce3-bf80198cb8c1",
   "metadata": {},
   "outputs": [],
   "source": [
    "obs = observations[0]"
   ]
  },
  {
   "cell_type": "code",
   "execution_count": null,
   "id": "2cfeddea-42c4-4256-b25b-1672aa94316e",
   "metadata": {},
   "outputs": [],
   "source": [
    "obs"
   ]
  },
  {
   "cell_type": "markdown",
   "id": "92fb12db-c972-41d3-9365-50440689b0ba",
   "metadata": {},
   "source": [
    "## Motivation"
   ]
  },
  {
   "cell_type": "markdown",
   "id": "6134c728-73ed-400c-b93b-a32ce1fa2baa",
   "metadata": {},
   "source": [
    "Remember that we plotted the energy distribution of all the events in one observation run:"
   ]
  },
  {
   "cell_type": "code",
   "execution_count": null,
   "id": "c3dd9ef7-faa3-40bf-bd38-e0bd0075049e",
   "metadata": {},
   "outputs": [],
   "source": [
    "obs.events.plot_energy()\n",
    "\n",
    "#plt.savefig('Counts_vs_Energy.svg')"
   ]
  },
  {
   "cell_type": "markdown",
   "id": "5b87e340-9d79-41b7-af52-428dc6d2a211",
   "metadata": {},
   "source": [
    "These event counts were recorded within a certain observation time. We need to divide the counts by the time to get a rate (counts per second)."
   ]
  },
  {
   "cell_type": "code",
   "execution_count": null,
   "id": "c0dfda87-d167-45bf-a0b9-9ffc114afe18",
   "metadata": {},
   "outputs": [],
   "source": [
    "obs.observation_live_time_duration"
   ]
  },
  {
   "cell_type": "markdown",
   "id": "5afab509-13e9-4111-9e8c-b1c0dce369a1",
   "metadata": {},
   "source": [
    "But we want to measure a flux. So we still need to divide by the effective area of the instrument. The effective area depends on the energy, but also on the conditions of the observations (like the distance of the source from the camera centre)."
   ]
  },
  {
   "cell_type": "code",
   "execution_count": null,
   "id": "00c74d4b-3dcd-407a-8877-7729ff87ed2a",
   "metadata": {},
   "outputs": [],
   "source": [
    "obs.aeff.plot_energy_dependence()\n",
    "\n",
    "plt.xlim(0.4)\n",
    "\n",
    "#plt.savefig('Aeff.svg')"
   ]
  },
  {
   "cell_type": "markdown",
   "id": "e666688c-2b44-4e8f-baeb-723bfa34d9db",
   "metadata": {},
   "source": [
    "And we will need to consider the energy resolution and dispersion."
   ]
  },
  {
   "cell_type": "code",
   "execution_count": null,
   "id": "40b4f966-b103-4c39-871d-909ae6a5e151",
   "metadata": {},
   "outputs": [],
   "source": [
    "obs.edisp.peek()"
   ]
  },
  {
   "cell_type": "code",
   "execution_count": null,
   "id": "d8af2f3e-f35a-4500-947c-4421af20a593",
   "metadata": {},
   "outputs": [],
   "source": [
    "obs.edisp.to_edisp_kernel(0.7*u.deg).plot_matrix()\n",
    "\n",
    "#plt.savefig('EDisp.svg')"
   ]
  },
  {
   "cell_type": "code",
   "execution_count": null,
   "id": "8742b588-9bf7-4811-9cea-fe9678abef94",
   "metadata": {
    "scrolled": true
   },
   "outputs": [],
   "source": [
    "obs.edisp.plot_migration(offset = 0*u.deg, energy_true = [1,10]*u.TeV)\n",
    "\n",
    "plt.legend(loc='upper right')\n",
    "\n",
    "#plt.savefig('Eresolution.svg')"
   ]
  },
  {
   "cell_type": "markdown",
   "id": "a7d88a45-9129-4253-b1de-7cd8692bd388",
   "metadata": {},
   "source": [
    "All this can be handled with a set of makers."
   ]
  },
  {
   "cell_type": "markdown",
   "id": "0cfd4ee4-d52e-4be3-b622-e222d135abfd",
   "metadata": {},
   "source": [
    "## Makers for the creation of a Spectrum Dataset"
   ]
  },
  {
   "cell_type": "markdown",
   "id": "00a0f828-9146-4b4d-8924-13a5663bc9c6",
   "metadata": {},
   "source": [
    "### SpectrumDatasetMaker\n",
    "We will now use gammapy code to do the binning of our event lists. This is very similar to the generation of the MapDataset."
   ]
  },
  {
   "cell_type": "code",
   "execution_count": null,
   "id": "d66b2cdc-0f58-4b4b-9f0c-2d464a618939",
   "metadata": {},
   "outputs": [],
   "source": [
    "from gammapy.datasets import SpectrumDataset\n",
    "\n",
    "from gammapy.makers import SpectrumDatasetMaker"
   ]
  },
  {
   "cell_type": "markdown",
   "id": "5691f0b9-a0ee-48a3-bc0c-c7dff952950e",
   "metadata": {},
   "source": [
    "We want to use only the events from a small region around the source, the on region. We start with a region at the source position and with a radius of 0.1 degrees. We can change that later if needed."
   ]
  },
  {
   "cell_type": "code",
   "execution_count": null,
   "id": "01f3635c-43bf-45ab-a0b2-607035835156",
   "metadata": {},
   "outputs": [],
   "source": [
    "on_region_radius = Angle(0.14*u.deg)\n",
    "\n",
    "on_region = CircleSkyRegion(center=source_pos, radius=on_region_radius)"
   ]
  },
  {
   "cell_type": "markdown",
   "id": "a48766f7-2ef1-41fb-be26-d1359f8666dd",
   "metadata": {},
   "source": [
    "We can check on the sky map if the region really encompasses all of the emission. If not, we we need to increase the size. We will use the significance map created in the last step and zoom in."
   ]
  },
  {
   "cell_type": "code",
   "execution_count": null,
   "id": "100d3a48-bc44-4236-bf52-18d34cdf2ad8",
   "metadata": {},
   "outputs": [],
   "source": [
    "significance_map = Map.read('SigMap.fits.gz')"
   ]
  },
  {
   "cell_type": "code",
   "execution_count": null,
   "id": "d0d75d14-239c-403b-b458-162977e0a1b0",
   "metadata": {},
   "outputs": [],
   "source": [
    "zoomed_significance_map = significance_map.cutout(source_pos, 1*u.deg)"
   ]
  },
  {
   "cell_type": "code",
   "execution_count": null,
   "id": "22b95896-7e02-4f7d-b750-ab2aa8fb93ff",
   "metadata": {},
   "outputs": [],
   "source": [
    "ax = zoomed_significance_map.plot(add_cbar = True, cmap = 'plasma')\n",
    "\n",
    "on_region.to_pixel(ax.wcs).plot(color = 'white', ax = ax)"
   ]
  },
  {
   "cell_type": "code",
   "execution_count": null,
   "id": "fb66187e-844c-4cf7-be1a-714227521d88",
   "metadata": {},
   "outputs": [],
   "source": [
    "# minimum and maximum energy for the analysis\n",
    "Emin = 0.1*u.TeV\n",
    "Emax = 50*u.TeV"
   ]
  },
  {
   "cell_type": "code",
   "execution_count": null,
   "id": "48f0caf8-24ff-4a3a-9668-5b22c6a0aed2",
   "metadata": {},
   "outputs": [],
   "source": [
    "spectrum_nEbins = 20\n",
    "\n",
    "spectrum_energy_axis = MapAxis.from_energy_bounds(Emin, Emax,\n",
    "                                                  nbin=spectrum_nEbins,\n",
    "                                                  name=\"energy\")"
   ]
  },
  {
   "cell_type": "code",
   "execution_count": null,
   "id": "63dc51d7-afda-46b5-b119-9c976257ec66",
   "metadata": {},
   "outputs": [],
   "source": [
    "#We will also need an axis for true energy:\n",
    "\n",
    "energy_axis_true = MapAxis.from_energy_bounds(0.08*u.TeV, 80*u.TeV,\n",
    "                                              nbin=8,\n",
    "                                              per_decade=True,\n",
    "                                              name='energy_true')"
   ]
  },
  {
   "cell_type": "code",
   "execution_count": null,
   "id": "2b9a6adf-3cbb-45bf-85fb-05862098304b",
   "metadata": {},
   "outputs": [],
   "source": [
    "from gammapy.maps import RegionGeom"
   ]
  },
  {
   "cell_type": "code",
   "execution_count": null,
   "id": "27183163-e15f-4a44-956c-4280bbce1719",
   "metadata": {},
   "outputs": [],
   "source": [
    "spectrum_geom = RegionGeom.create(region=on_region, \n",
    "                                  axes=[spectrum_energy_axis]\n",
    "                                 )"
   ]
  },
  {
   "cell_type": "code",
   "execution_count": null,
   "id": "25dce44f-e8ac-46b7-95c0-3685b74d2659",
   "metadata": {},
   "outputs": [],
   "source": [
    "spectrum_geom"
   ]
  },
  {
   "cell_type": "code",
   "execution_count": null,
   "id": "ef01901d-e6d9-4d5e-bbc0-c6e50a261663",
   "metadata": {},
   "outputs": [],
   "source": [
    "spectrum_empty =  SpectrumDataset.create(geom=spectrum_geom, \n",
    "                                         energy_axis_true=energy_axis_true\n",
    "                                        )"
   ]
  },
  {
   "cell_type": "code",
   "execution_count": null,
   "id": "8e01425a-60fb-4af5-acd9-3cbbac70ac8c",
   "metadata": {},
   "outputs": [],
   "source": [
    "from gammapy.makers import SpectrumDatasetMaker"
   ]
  },
  {
   "cell_type": "code",
   "execution_count": null,
   "id": "4fe4847f-340b-4ba4-aa18-016efa752107",
   "metadata": {},
   "outputs": [],
   "source": [
    "spectrum_maker = SpectrumDatasetMaker()"
   ]
  },
  {
   "cell_type": "code",
   "execution_count": null,
   "id": "6c3d29b4-cd3f-42a3-a5f0-f5d1e98a42d5",
   "metadata": {},
   "outputs": [],
   "source": [
    "spectrum_dataset = spectrum_maker.run(spectrum_empty, obs)"
   ]
  },
  {
   "cell_type": "code",
   "execution_count": null,
   "id": "9e7c9692-72dc-4886-9f8c-e347e1e0f9aa",
   "metadata": {},
   "outputs": [],
   "source": [
    "spectrum_dataset.counts.plot()"
   ]
  },
  {
   "cell_type": "code",
   "execution_count": null,
   "id": "b2e71131-32f6-44c6-95e3-86f16a5f7a02",
   "metadata": {},
   "outputs": [],
   "source": [
    "#spectrum_dataset.counts_off.plot()"
   ]
  },
  {
   "cell_type": "code",
   "execution_count": null,
   "id": "5108d475-785f-4378-866e-120757cd144b",
   "metadata": {},
   "outputs": [],
   "source": [
    "spectrum_dataset.mask.plot()"
   ]
  },
  {
   "cell_type": "markdown",
   "id": "f8fedaf3-1e2d-4ed7-a39f-0812cf880fad",
   "metadata": {},
   "source": [
    "### SafeMaskMaker\n",
    "As before, we need to select the good energy and offset range. We will use the same SafeMaskMaker as before."
   ]
  },
  {
   "cell_type": "code",
   "execution_count": null,
   "id": "832832e0-5de5-424f-b560-5c9b4960533c",
   "metadata": {},
   "outputs": [],
   "source": [
    "from gammapy.makers import SafeMaskMaker"
   ]
  },
  {
   "cell_type": "code",
   "execution_count": null,
   "id": "9bbf4942-c335-485d-891e-766b63cc8509",
   "metadata": {},
   "outputs": [],
   "source": [
    "# maximumum offset\n",
    "offset_max = 2.5*u.deg\n",
    "\n",
    "aeff_max = 10"
   ]
  },
  {
   "cell_type": "code",
   "execution_count": null,
   "id": "8560b765-a1af-4b87-ae68-66eb2b518a7b",
   "metadata": {},
   "outputs": [],
   "source": [
    "safe_mask_maker = SafeMaskMaker(methods=['offset-max', 'aeff-max'], \n",
    "                                offset_max = offset_max,\n",
    "                                aeff_percent = aeff_max\n",
    "                               )"
   ]
  },
  {
   "cell_type": "code",
   "execution_count": null,
   "id": "bf885437-9f78-4927-90fe-c0f9e9d75d46",
   "metadata": {},
   "outputs": [],
   "source": [
    "spectrum_dataset = safe_mask_maker.run(spectrum_dataset, obs)"
   ]
  },
  {
   "cell_type": "code",
   "execution_count": null,
   "id": "bd4df74a-4a9a-4712-a676-1ebc8f645579",
   "metadata": {
    "scrolled": true
   },
   "outputs": [],
   "source": [
    "spectrum_dataset.mask.plot()\n",
    "plt.yscale('linear')"
   ]
  },
  {
   "cell_type": "code",
   "execution_count": null,
   "id": "2b02b9fd-9741-4052-8117-8d8b1ff2dd89",
   "metadata": {},
   "outputs": [],
   "source": [
    "spectrum_dataset.energy_range_total"
   ]
  },
  {
   "cell_type": "markdown",
   "id": "331234c1-5ba4-43df-84cf-33006ee11714",
   "metadata": {},
   "source": [
    "In this run we will use only events with energies of more than 645 GeV."
   ]
  },
  {
   "cell_type": "markdown",
   "id": "985f2339-b563-403d-8a7d-495bb2a7e950",
   "metadata": {},
   "source": [
    "### Reflected Background\n",
    "We will use the reflected background to estimate the off source counts. We will need an exclusion mask, we will use the same as before."
   ]
  },
  {
   "cell_type": "code",
   "execution_count": null,
   "id": "c6d6417c-d528-40a4-9304-8cf4fefe0e89",
   "metadata": {},
   "outputs": [],
   "source": [
    "from gammapy.makers import ReflectedRegionsBackgroundMaker"
   ]
  },
  {
   "cell_type": "code",
   "execution_count": null,
   "id": "aae844df-712e-4fb4-9b99-07935dedf472",
   "metadata": {},
   "outputs": [],
   "source": [
    "exclusion_mask = Map.read('ExclusionMask.fits.gz')"
   ]
  },
  {
   "cell_type": "code",
   "execution_count": null,
   "id": "08bf0d46-25d2-43d8-9dd1-cda74c6e26a5",
   "metadata": {},
   "outputs": [],
   "source": [
    "# The mask did not properly save the data type (bool). But we can set it manually. If the mask is created in the same notebook then this step is not necessary.\n",
    "\n",
    "exclusion_mask.data = exclusion_mask.data.astype(bool)"
   ]
  },
  {
   "cell_type": "code",
   "execution_count": null,
   "id": "473d2f04-7003-43b4-8ddb-51314e759fae",
   "metadata": {},
   "outputs": [],
   "source": [
    "exclusion_mask.plot()"
   ]
  },
  {
   "cell_type": "code",
   "execution_count": null,
   "id": "0598c01e-1d60-46de-9d16-97e5ab5bc6fc",
   "metadata": {},
   "outputs": [],
   "source": [
    "reflected_bkg_maker = ReflectedRegionsBackgroundMaker(exclusion_mask=exclusion_mask)"
   ]
  },
  {
   "cell_type": "code",
   "execution_count": null,
   "id": "0e5a3681-941a-4387-a555-d39943fbe939",
   "metadata": {},
   "outputs": [],
   "source": [
    "spectrum_dataset = reflected_bkg_maker.run(spectrum_dataset, obs)"
   ]
  },
  {
   "cell_type": "code",
   "execution_count": null,
   "id": "aef6f54e-c33c-428b-b567-c93121ac82a5",
   "metadata": {},
   "outputs": [],
   "source": [
    "spectrum_dataset.counts_off.plot()"
   ]
  },
  {
   "cell_type": "code",
   "execution_count": null,
   "id": "779c5f57-113c-40e3-86a0-58eb1000a51a",
   "metadata": {},
   "outputs": [],
   "source": [
    "spectrum_dataset.alpha.plot()"
   ]
  },
  {
   "cell_type": "markdown",
   "id": "1e9084fd-217d-4907-9e5f-507ea344a019",
   "metadata": {},
   "source": [
    "We can check on the sky map the location of our off-source regions."
   ]
  },
  {
   "cell_type": "code",
   "execution_count": null,
   "id": "02906144-8d43-4a87-8eb5-3dcd34c37acf",
   "metadata": {},
   "outputs": [],
   "source": [
    "from gammapy.visualization import plot_spectrum_datasets_off_regions"
   ]
  },
  {
   "cell_type": "code",
   "execution_count": null,
   "id": "f2628441-9ef7-4977-a38e-4e315efdb6e5",
   "metadata": {
    "scrolled": true
   },
   "outputs": [],
   "source": [
    "ax = significance_map.plot()\n",
    "\n",
    "on_region.to_pixel(ax.wcs).plot(ax = ax, color = 'white')\n",
    "\n",
    "plot_spectrum_datasets_off_regions(ax=ax, datasets=[spectrum_dataset])"
   ]
  },
  {
   "cell_type": "code",
   "execution_count": null,
   "id": "d1fa5d48-edd5-44f9-a106-bbb4e6770b7b",
   "metadata": {},
   "outputs": [],
   "source": []
  },
  {
   "cell_type": "markdown",
   "id": "2536198b-a974-4d9a-bd40-8ab74c4d8e16",
   "metadata": {},
   "source": [
    "### Combination of all runs\n",
    "As for the skyp maps, we will us the ```DatasetsMaker``` to loop over all observations."
   ]
  },
  {
   "cell_type": "code",
   "execution_count": null,
   "id": "3cb0fcb5-ccc9-4c29-ad96-f5f93d9962b4",
   "metadata": {},
   "outputs": [],
   "source": [
    "from gammapy.makers import DatasetsMaker"
   ]
  },
  {
   "cell_type": "code",
   "execution_count": null,
   "id": "d29aa016-d9a6-462b-ab53-ca33217a36a7",
   "metadata": {},
   "outputs": [],
   "source": [
    "chainmaker_spectrum = DatasetsMaker(makers = [spectrum_maker,\n",
    "                                              safe_mask_maker,\n",
    "                                              reflected_bkg_maker],\n",
    "                               stack_datasets = False,\n",
    "                               n_jobs = 4, parallel_backend = 'multiprocessing'\n",
    "                               )"
   ]
  },
  {
   "cell_type": "code",
   "execution_count": null,
   "id": "1f35f84c-6dd7-4565-b208-907b40b7f3bc",
   "metadata": {},
   "outputs": [],
   "source": [
    "spectrum_datasets = chainmaker_spectrum.run(\n",
    "    dataset = spectrum_empty.copy(name = 'stacked'), ## this will not be used\n",
    "    observations = observations)"
   ]
  },
  {
   "cell_type": "markdown",
   "id": "75a4d2f9-652d-4673-a383-2a7363b67391",
   "metadata": {},
   "source": [
    "Stacking the spectrum data set is much easier:"
   ]
  },
  {
   "cell_type": "code",
   "execution_count": null,
   "id": "0e0ff875-fcd9-4f5c-9a9a-51dd3cd2ac3f",
   "metadata": {},
   "outputs": [],
   "source": [
    "spectrum_stacked = spectrum_datasets.stack_reduce()"
   ]
  },
  {
   "cell_type": "code",
   "execution_count": null,
   "id": "872fd15c-9821-4697-a043-b30584650701",
   "metadata": {
    "scrolled": true
   },
   "outputs": [],
   "source": [
    "ax = significance_map.plot(cmap = 'plasma', add_cbar = True)\n",
    "\n",
    "on_region.to_pixel(ax.wcs).plot(ax = ax, color = 'white')\n",
    "\n",
    "plot_spectrum_datasets_off_regions(ax=ax, datasets=spectrum_datasets)\n",
    "\n",
    "#plt.savefig('ReflectedRegions.svg')"
   ]
  },
  {
   "cell_type": "markdown",
   "id": "ec3f8b23-6306-4dd9-8502-75be98caf86d",
   "metadata": {},
   "source": [
    "### Excess and Significance\n",
    "We can now use the SpectrumDatasets to study the excess and the significance of the source."
   ]
  },
  {
   "cell_type": "code",
   "execution_count": null,
   "id": "8dc98458-099f-4c16-9b33-035ff6205923",
   "metadata": {},
   "outputs": [],
   "source": [
    "info_table = spectrum_datasets.info_table()"
   ]
  },
  {
   "cell_type": "code",
   "execution_count": null,
   "id": "f5108b41-55c0-40a1-b9fe-e75941ee1fe4",
   "metadata": {},
   "outputs": [],
   "source": [
    "info_table.colnames"
   ]
  },
  {
   "cell_type": "code",
   "execution_count": null,
   "id": "253d448d-bede-4b97-84de-e3edf54188a0",
   "metadata": {},
   "outputs": [],
   "source": [
    "info_table['name', 'counts', 'counts_off', 'alpha', 'excess', 'sqrt_ts']"
   ]
  },
  {
   "cell_type": "code",
   "execution_count": null,
   "id": "b999b9bf-34ff-449f-a00c-468bb8ce3829",
   "metadata": {},
   "outputs": [],
   "source": [
    "#info_table['name', 'counts', 'counts_off', 'alpha', 'excess', 'sqrt_ts'].write('info_table.csv')"
   ]
  },
  {
   "cell_type": "code",
   "execution_count": null,
   "id": "99ae013d-5387-4801-91e3-bc216fcff24e",
   "metadata": {},
   "outputs": [],
   "source": [
    "sum_table = spectrum_datasets.info_table(cumulative=True)"
   ]
  },
  {
   "cell_type": "code",
   "execution_count": null,
   "id": "c1af6d26-48eb-4ac8-a68c-79a773dfdb1a",
   "metadata": {},
   "outputs": [],
   "source": [
    "sum_table['name', 'counts', 'counts_off', 'alpha', 'excess', 'sqrt_ts']"
   ]
  },
  {
   "cell_type": "code",
   "execution_count": null,
   "id": "1a1b90d7-4d1d-4866-bd0b-cdc236a7314e",
   "metadata": {},
   "outputs": [],
   "source": [
    "#sum_table['name', 'counts', 'counts_off', 'alpha', 'excess', 'sqrt_ts'].write('sum_table.csv')"
   ]
  },
  {
   "cell_type": "markdown",
   "id": "bfa3007c-c07f-4f21-8747-d50e88fb6e43",
   "metadata": {},
   "source": [
    "The last line gives us the on and off counts, as well as excess and significance."
   ]
  },
  {
   "cell_type": "code",
   "execution_count": null,
   "id": "c4a51226-4713-411b-8811-f8b6a99c1da3",
   "metadata": {},
   "outputs": [],
   "source": [
    "last_line = sum_table[-1]"
   ]
  },
  {
   "cell_type": "code",
   "execution_count": null,
   "id": "2fc7cb28-3144-4eb4-a218-44a9154ec4ab",
   "metadata": {},
   "outputs": [],
   "source": [
    "last_line['name', 'counts', 'counts_off', 'alpha', 'excess', 'sqrt_ts']"
   ]
  },
  {
   "cell_type": "code",
   "execution_count": null,
   "id": "ab364daa-b0d9-4437-ac9d-3065af7a3663",
   "metadata": {},
   "outputs": [],
   "source": [
    "last_line['counts'] - last_line['alpha'] * last_line['counts_off']"
   ]
  },
  {
   "cell_type": "code",
   "execution_count": null,
   "id": "2d69df0d-81bb-40d8-bdfc-af551e0e7abe",
   "metadata": {},
   "outputs": [],
   "source": [
    "stat = WStatCountsStatistic(n_on=last_line['counts'], \n",
    "                            n_off=last_line['counts_off'], \n",
    "                            alpha=last_line['alpha']\n",
    "                           )\n",
    "\n",
    "print('excess: {} \\nsignificance: {}'.format(stat.n_sig,stat.sqrt_ts))"
   ]
  },
  {
   "cell_type": "markdown",
   "id": "f9551049-5357-4cab-accf-b422f633e24d",
   "metadata": {},
   "source": [
    "The excess should increase roughly linearly with time:"
   ]
  },
  {
   "cell_type": "code",
   "execution_count": null,
   "id": "12c07986-ffa5-40cb-8c57-2bf5183755d3",
   "metadata": {
    "scrolled": true
   },
   "outputs": [],
   "source": [
    "plt.errorbar(sum_table['livetime'].to(u.h),\n",
    "             sum_table['excess'],\n",
    "             np.sqrt(sum_table['excess']),\n",
    "             marker='o',\n",
    "             ls='none'\n",
    "            )\n",
    "\n",
    "plt.xlabel('Livetime [h]')\n",
    "plt.ylabel('Excess')\n",
    "\n",
    "#plt.savefig('ExcessVsT.svg')"
   ]
  },
  {
   "cell_type": "markdown",
   "id": "02e8b107-313f-441a-b509-b27c15a3c50d",
   "metadata": {},
   "source": [
    "And the significance with the sqrt of time:"
   ]
  },
  {
   "cell_type": "code",
   "execution_count": null,
   "id": "756cd025-13e6-41b9-8b8f-5debd3688891",
   "metadata": {},
   "outputs": [],
   "source": [
    "plt.errorbar(sum_table['livetime'].to(u.h),\n",
    "             sum_table['sqrt_ts'],\n",
    "             1,\n",
    "             marker='o',\n",
    "             ls='none'\n",
    "            )\n",
    "\n",
    "plt.xlabel('Livetime [h]')\n",
    "plt.ylabel('Significance')\n",
    "\n",
    "#plt.savefig('SigVsT.svg')"
   ]
  },
  {
   "cell_type": "markdown",
   "id": "571fd9ee-5d3a-4b0b-89ff-fba28d997adb",
   "metadata": {},
   "source": [
    "### Excess and Flux"
   ]
  },
  {
   "cell_type": "markdown",
   "id": "1c6b23bc-24db-4cb1-856a-cc18e70c2a02",
   "metadata": {},
   "source": [
    "We can subtract the off-source counts from the on-source counts to get the excess:"
   ]
  },
  {
   "cell_type": "code",
   "execution_count": null,
   "id": "0586541f-b334-4b2e-a326-4ec23b778be9",
   "metadata": {},
   "outputs": [],
   "source": [
    "spectrum_stacked.plot_counts()\n",
    "\n",
    "#plt.savefig('Spectrum_OnOffCounts.svg')"
   ]
  },
  {
   "cell_type": "markdown",
   "id": "dbe71919-b47d-48c1-8496-3a2fb97c95e7",
   "metadata": {},
   "source": [
    "As usual, we can use (on - alpha*off) to calculate the excess:"
   ]
  },
  {
   "cell_type": "code",
   "execution_count": null,
   "id": "6169654a-3412-4050-b488-a53298de96a1",
   "metadata": {},
   "outputs": [],
   "source": [
    "excess = spectrum_stacked.counts.data - spectrum_stacked.counts_off.data * spectrum_stacked.alpha.data"
   ]
  },
  {
   "cell_type": "code",
   "execution_count": null,
   "id": "d70e2cba-cef4-431f-8f47-cb859dbc560c",
   "metadata": {},
   "outputs": [],
   "source": [
    "excess = excess.reshape(excess.shape[0])"
   ]
  },
  {
   "cell_type": "code",
   "execution_count": null,
   "id": "c8f56aa2-8b6f-487f-9656-dd53c6db05d8",
   "metadata": {},
   "outputs": [],
   "source": [
    "spectrum_stacked.geoms['geom'].axes['energy'].center"
   ]
  },
  {
   "cell_type": "code",
   "execution_count": null,
   "id": "840d258c-5b2c-4dad-9c1a-4b3950ba17cf",
   "metadata": {},
   "outputs": [],
   "source": [
    "plt.plot(spectrum_stacked.geoms['geom'].axes['energy'].center,\n",
    "         excess,\n",
    "         marker = 'o',\n",
    "         ls = 'none'\n",
    "        )\n",
    "\n",
    "plt.xscale('log')\n",
    "plt.yscale('log')"
   ]
  },
  {
   "cell_type": "code",
   "execution_count": null,
   "id": "bcd42110-c733-433b-a8ba-b82d86079056",
   "metadata": {},
   "outputs": [],
   "source": [
    "spectrum_stacked.plot_excess()\n",
    "\n",
    "#plt.savefig('Spectrum_ExcessCounts.svg')"
   ]
  },
  {
   "cell_type": "markdown",
   "id": "2bf095d5-467f-4af1-a023-3223b3eac1d4",
   "metadata": {},
   "source": [
    "We could divide the excess by the exposure to get a flux:"
   ]
  },
  {
   "cell_type": "code",
   "execution_count": null,
   "id": "6ec91475-a5f4-4ddd-b2cd-e198776e441f",
   "metadata": {},
   "outputs": [],
   "source": [
    "spectrum_stacked.exposure.plot()\n",
    "\n",
    "#plt.savefig('Spectrum_Exposure.svg')"
   ]
  },
  {
   "cell_type": "markdown",
   "id": "bb6ce32a-86cd-4052-840c-3ab7ccfa9ed7",
   "metadata": {},
   "source": [
    "But the binning is different and the exposure is in true energy. So we need to apply the energy dispersion matrix and to interpolate. We don't need to do that by hand. We will see later how to get the energy flux..."
   ]
  },
  {
   "cell_type": "markdown",
   "id": "80082b17-b912-4100-8778-9e2e1cbb03ec",
   "metadata": {},
   "source": [
    "### Spectrum Fit\n",
    "Now we want to describe the energy distribution of the gamma rays with a function. We will make a spectral fit. We have stacked all the data of all runs into one data set and proceed with the fit. We could also fit the model to each run individually."
   ]
  },
  {
   "cell_type": "markdown",
   "id": "e57bc49e-03d7-47b9-a7be-f871ae44ea89",
   "metadata": {},
   "source": [
    "#### Simple Power Law\n",
    "\n",
    "We start with a simple power law. Remember, the power law is\n",
    "$$\n",
    "f(E) = A \\times \\left( \\frac{E}{E_0} \\right) ^{-\\Gamma}.\n",
    "$$\n",
    "The amplitude $A$ and the spectral index $\\Gamma$ are free parameters in the fit. $E_0$ is the reference energy, which is not fitted. You can freely chose the value of $E_0$, but it is best to keep it within the energy range of the data."
   ]
  },
  {
   "cell_type": "code",
   "execution_count": null,
   "id": "4570c67d-ed22-41a5-90fa-bdcab91cccd4",
   "metadata": {},
   "outputs": [],
   "source": [
    "from gammapy.modeling.models import PowerLawSpectralModel, SkyModel"
   ]
  },
  {
   "cell_type": "code",
   "execution_count": null,
   "id": "ebef101f-12ab-4771-a582-6a812b75bd3f",
   "metadata": {},
   "outputs": [],
   "source": [
    "spectral_model = PowerLawSpectralModel(index=2, \n",
    "                                       amplitude=1e-11 * u.Unit(\"cm-2 s-1 TeV-1\"), \n",
    "                                       reference=1 * u.TeV\n",
    "                                      )"
   ]
  },
  {
   "cell_type": "markdown",
   "id": "c784f2ba-811d-4239-bd2f-49d2efb6cb3b",
   "metadata": {},
   "source": [
    "We set the spectral model to a power law with some meaningful start parameters. The spectral model is only a part of a more general model, the SkyModel, which can also contain a spatial and a temporal model."
   ]
  },
  {
   "cell_type": "code",
   "execution_count": null,
   "id": "15cd032c-bcd8-48e3-a57a-e10f6ec29079",
   "metadata": {},
   "outputs": [],
   "source": [
    "model = SkyModel(spectral_model=spectral_model, name=\"Crab\")"
   ]
  },
  {
   "cell_type": "markdown",
   "id": "2803f5f4-fc02-4920-8408-663a8475b787",
   "metadata": {},
   "source": [
    "Next we set this model as the model of our Dataset. We can also have a look how well our start parameters describe the data already:"
   ]
  },
  {
   "cell_type": "code",
   "execution_count": null,
   "id": "9ad3f6ce-7be8-4cec-a49f-82433676fe05",
   "metadata": {},
   "outputs": [],
   "source": [
    "spectrum_stacked.models = model"
   ]
  },
  {
   "cell_type": "code",
   "execution_count": null,
   "id": "06f7403f-49d9-4cf7-a964-78402bc1b265",
   "metadata": {},
   "outputs": [],
   "source": [
    "spectrum_stacked.plot_excess()\n",
    "\n",
    "plt.ylim(1e-1)"
   ]
  },
  {
   "cell_type": "markdown",
   "id": "5f4aa7aa-e626-4f54-a524-d887a29d96dc",
   "metadata": {},
   "source": [
    "To do the fit we use a gammapy object called Fit. We can reuse the same object later, we need to create it only once."
   ]
  },
  {
   "cell_type": "code",
   "execution_count": null,
   "id": "05a22717-ab77-44af-987f-8642a600b11e",
   "metadata": {},
   "outputs": [],
   "source": [
    "from gammapy.modeling import Fit"
   ]
  },
  {
   "cell_type": "code",
   "execution_count": null,
   "id": "b8557b34-3fec-4772-833a-e24fad754704",
   "metadata": {},
   "outputs": [],
   "source": [
    "fit = Fit()"
   ]
  },
  {
   "cell_type": "markdown",
   "id": "ae1cb4a7-1e91-4cb9-9e75-8d77ac59e787",
   "metadata": {},
   "source": [
    "Now we run the fit of our Dataset."
   ]
  },
  {
   "cell_type": "code",
   "execution_count": null,
   "id": "ee46b6b2-4f97-4fcd-b4a8-c6b13868c463",
   "metadata": {},
   "outputs": [],
   "source": [
    "fit.run(spectrum_stacked)"
   ]
  },
  {
   "cell_type": "markdown",
   "id": "f99545fd-8f72-465a-a1e1-f5db81a989a7",
   "metadata": {},
   "source": [
    "It is very important to check the output. Success must be True and everything has to terminate succesfully. Otherwise our fit result is wrong. If the fit fails, try to run it again. Or change the start parameters and run again. Do not continue with a failed fit!"
   ]
  },
  {
   "cell_type": "markdown",
   "id": "82cfdcbe-b63e-41da-a998-00cab5d571b9",
   "metadata": {},
   "source": [
    "We can now take a look at our result and the fit parameters:"
   ]
  },
  {
   "cell_type": "code",
   "execution_count": null,
   "id": "e3b43360-34ee-45cb-8e10-9de54af9d6fc",
   "metadata": {},
   "outputs": [],
   "source": [
    "ax_spectrum, ax_residuals = spectrum_stacked.plot_fit()\n",
    "\n",
    "#ax_spectrum.set_ylim(0.1, 40)\n",
    "\n",
    "#plt.savefig('PLfit.svg')"
   ]
  },
  {
   "cell_type": "code",
   "execution_count": null,
   "id": "9a821239-f561-49a7-a1e7-253ec87368de",
   "metadata": {},
   "outputs": [],
   "source": [
    "spectrum_stacked.models.to_parameters_table()"
   ]
  },
  {
   "cell_type": "markdown",
   "id": "a57a865e-ce39-4e24-94a0-fb18c8316c2a",
   "metadata": {},
   "source": [
    "We will make a copy of the model for later use:"
   ]
  },
  {
   "cell_type": "code",
   "execution_count": null,
   "id": "c7aec473-3df2-4ce3-940a-7564f26ee197",
   "metadata": {},
   "outputs": [],
   "source": [
    "bestmodel_PL = spectrum_stacked.models.copy()"
   ]
  },
  {
   "cell_type": "code",
   "execution_count": null,
   "id": "e494e48f-e230-4284-a282-d8b7f729a294",
   "metadata": {},
   "outputs": [],
   "source": [
    "from gammapy.modeling.models import create_crab_spectral_model"
   ]
  },
  {
   "cell_type": "code",
   "execution_count": null,
   "id": "e5f39cd2-57c5-417c-adc3-a602ae07444f",
   "metadata": {},
   "outputs": [],
   "source": [
    "fig, ax = plt.subplots()\n",
    "\n",
    "plot_kwargs = {\n",
    "    \"energy_bounds\": [0.1, 30] * u.TeV,\n",
    "    \"ax\": ax,\n",
    "}\n",
    "\n",
    "bestmodel_PL[0].spectral_model.plot(**plot_kwargs, label=\"this work\")\n",
    "bestmodel_PL[0].spectral_model.plot_error(facecolor=\"blue\", alpha=0.3, **plot_kwargs)\n",
    "\n",
    "create_crab_spectral_model(\"hess_pl\").plot(\n",
    "    **plot_kwargs,\n",
    "    label=\"Crab reference\",\n",
    ")\n",
    "\n",
    "ax.legend()\n",
    "\n",
    "#plt.savefig('PLmodel.svg')"
   ]
  },
  {
   "cell_type": "markdown",
   "id": "965bb4e3-c23f-4c68-8d66-1ec1c601ab52",
   "metadata": {},
   "source": [
    "We will also compare this model with a different model. In order to decide which model to be used we will save the test statistics."
   ]
  },
  {
   "cell_type": "code",
   "execution_count": null,
   "id": "275d7d0e-3bff-4733-8d45-562f022ec896",
   "metadata": {},
   "outputs": [],
   "source": [
    "TS_PL = spectrum_stacked.stat_sum()"
   ]
  },
  {
   "cell_type": "code",
   "execution_count": null,
   "id": "26ee05d8-b1ce-4d17-88dd-e70a3ff3d0a9",
   "metadata": {},
   "outputs": [],
   "source": [
    "TS_PL"
   ]
  },
  {
   "cell_type": "markdown",
   "id": "326aa208-7bb4-42de-84a4-fc1cdcd0da09",
   "metadata": {},
   "source": [
    "#### Power Law with Exponential Cut-Off\n",
    "\n",
    "Let's do the spectrum again, this time we want to fit a power law with an exponential cut-off at high energies. This function is defined as\n",
    "$$\n",
    "f(E) = A \\times \\left( \\frac{E}{E_0} \\right)^{-\\Gamma} \\times \\exp \\left(-\\frac{E}{E_c} \\right).\n",
    "$$\n",
    "The last term can be written as\n",
    "$$\n",
    "\\exp \\left(-\\frac{E}{E_c} \\right) = \\exp \\left(-\\lambda E \\right)\n",
    "$$\n",
    "with $\\lambda = 1/E_c$.\n",
    "\n",
    "Here it is a good idea to use our best fit parameters from the power law as starting parameters."
   ]
  },
  {
   "cell_type": "code",
   "execution_count": null,
   "id": "261668ce-0a5c-4ba2-8009-cb8cfd811ebc",
   "metadata": {},
   "outputs": [],
   "source": [
    "from gammapy.modeling.models import ExpCutoffPowerLawSpectralModel"
   ]
  },
  {
   "cell_type": "code",
   "execution_count": null,
   "id": "f77fdd45-9fe8-499c-93da-5e5190da5451",
   "metadata": {
    "scrolled": true
   },
   "outputs": [],
   "source": [
    "bestmodel_PL.parameters['index'].quantity"
   ]
  },
  {
   "cell_type": "code",
   "execution_count": null,
   "id": "8e112f67-0c51-4b08-889c-f3646c4df166",
   "metadata": {
    "scrolled": true
   },
   "outputs": [],
   "source": [
    "bestmodel_PL.parameters['amplitude'].quantity"
   ]
  },
  {
   "cell_type": "code",
   "execution_count": null,
   "id": "a274dee2-9c66-46c1-8c71-aec36015a05b",
   "metadata": {},
   "outputs": [],
   "source": [
    "spectral_model = ExpCutoffPowerLawSpectralModel(\n",
    "    index=bestmodel_PL.parameters['index'].quantity,\n",
    "    amplitude=bestmodel_PL.parameters['amplitude'].quantity,\n",
    "    reference=1 * u.TeV,\n",
    "    lambda_ = 1./(10*u.TeV)\n",
    "    )\n",
    "\n",
    "model = SkyModel(spectral_model=spectral_model, name=\"Crab\")\n",
    "\n",
    "spectrum_stacked.models = model"
   ]
  },
  {
   "cell_type": "code",
   "execution_count": null,
   "id": "4b956a44-2865-408d-8ac7-681f23258d1a",
   "metadata": {
    "scrolled": true
   },
   "outputs": [],
   "source": [
    "spectrum_stacked.plot_excess()\n",
    "\n",
    "plt.ylim(1e-1)"
   ]
  },
  {
   "cell_type": "code",
   "execution_count": null,
   "id": "6e799c04-6305-40f9-b719-0e3cfa6dc995",
   "metadata": {},
   "outputs": [],
   "source": [
    "fit.run(spectrum_stacked)"
   ]
  },
  {
   "cell_type": "markdown",
   "id": "6f64d777-fa87-4d15-bdf0-cdab8e933a91",
   "metadata": {},
   "source": [
    "Don't forget to check for success!"
   ]
  },
  {
   "cell_type": "code",
   "execution_count": null,
   "id": "298b434d-b36b-41df-b012-e95aefc53f2f",
   "metadata": {},
   "outputs": [],
   "source": [
    "ax_spectrum, ax_residuals = spectrum_stacked.plot_fit()\n",
    "\n",
    "ax_spectrum.set_ylim(0.1)\n",
    "\n",
    "#plt.savefig('ExpPLfit.svg')"
   ]
  },
  {
   "cell_type": "code",
   "execution_count": null,
   "id": "9a3f905e-e6a9-466d-bcb4-737eb551f648",
   "metadata": {},
   "outputs": [],
   "source": [
    "spectrum_stacked.models.to_parameters_table()"
   ]
  },
  {
   "cell_type": "code",
   "execution_count": null,
   "id": "69a3e085-f434-43b1-aa37-8b9c85e33c83",
   "metadata": {},
   "outputs": [],
   "source": [
    "bestmodel_expPL = spectrum_stacked.models.copy()"
   ]
  },
  {
   "cell_type": "markdown",
   "id": "84b411c9-1363-45aa-afe2-5ded3d4d1910",
   "metadata": {},
   "source": [
    "What is the best-fit cut-off energy?"
   ]
  },
  {
   "cell_type": "code",
   "execution_count": null,
   "id": "6e773544-9549-424a-a820-982e974a8df4",
   "metadata": {},
   "outputs": [],
   "source": [
    "1/(bestmodel_expPL.parameters['lambda_'].quantity)"
   ]
  },
  {
   "cell_type": "code",
   "execution_count": null,
   "id": "208172e0-1f43-4a23-9328-fb2d3b9e3223",
   "metadata": {},
   "outputs": [],
   "source": [
    "fig, ax = plt.subplots()\n",
    "\n",
    "plot_kwargs = {\n",
    "    \"energy_bounds\": [0.1, 30] * u.TeV,\n",
    "    \"ax\": ax,\n",
    "}\n",
    "\n",
    "bestmodel_expPL[0].spectral_model.plot(**plot_kwargs, label=\"this work\")\n",
    "bestmodel_expPL[0].spectral_model.plot_error(facecolor=\"blue\", alpha=0.3, **plot_kwargs)\n",
    "\n",
    "create_crab_spectral_model(\"hess_ecpl\").plot(\n",
    "    **plot_kwargs,\n",
    "    label=\"Crab reference\",\n",
    ")\n",
    "\n",
    "ax.legend()\n",
    "\n",
    "#plt.savefig('ExpPLmodel.svg')"
   ]
  },
  {
   "cell_type": "code",
   "execution_count": null,
   "id": "3b916db7-d61c-4e2d-8db8-cef28215cdc6",
   "metadata": {},
   "outputs": [],
   "source": [
    "TS_expPL = spectrum_stacked.stat_sum()"
   ]
  },
  {
   "cell_type": "code",
   "execution_count": null,
   "id": "18e43588-687d-4713-85ab-2d6f646aa9b4",
   "metadata": {},
   "outputs": [],
   "source": [
    "TS_expPL"
   ]
  },
  {
   "cell_type": "markdown",
   "id": "3d0ebdbb-14a4-4811-b823-6f56a65a6a2c",
   "metadata": {},
   "source": [
    "### Compare the Models"
   ]
  },
  {
   "cell_type": "markdown",
   "id": "976f6af7-dfb7-40cc-9a8c-3ce6abda382a",
   "metadata": {},
   "source": [
    "Which model is better, with or without the cut-off? We will need to compare the test statistics of the fits."
   ]
  },
  {
   "cell_type": "code",
   "execution_count": null,
   "id": "f35a912f-766f-43dc-a8b3-6ba14166ad2b",
   "metadata": {},
   "outputs": [],
   "source": [
    "print(TS_PL, TS_expPL)"
   ]
  },
  {
   "cell_type": "markdown",
   "id": "cd3aac8f-d5f7-4144-be1a-0e3290ef0b38",
   "metadata": {},
   "source": [
    "Gammapy uses a log-likelihood fit. So we can use the likelihood and Wilk's theorem, provided that we are dealing with nested models. The TS value returned by gammapy is already 2xln(L). So only need to take the difference:"
   ]
  },
  {
   "cell_type": "code",
   "execution_count": null,
   "id": "3232c765-1523-4ce4-90b4-bf32c0e34def",
   "metadata": {},
   "outputs": [],
   "source": [
    "TS = TS_PL-TS_expPL\n",
    "print(TS)"
   ]
  },
  {
   "cell_type": "code",
   "execution_count": null,
   "id": "6286e6d0-a841-45a0-af2c-ae5f09af778d",
   "metadata": {},
   "outputs": [],
   "source": [
    "import scipy.stats"
   ]
  },
  {
   "cell_type": "code",
   "execution_count": null,
   "id": "78879998-4993-4e67-90fc-f695e3cece0c",
   "metadata": {},
   "outputs": [],
   "source": [
    "P = scipy.stats.chi2.sf(TS,1)\n",
    "\n",
    "print('probabilty: ',P)"
   ]
  },
  {
   "cell_type": "code",
   "execution_count": null,
   "id": "6830d079-2dc1-4218-9620-f966fb057c3f",
   "metadata": {},
   "outputs": [],
   "source": [
    "print('significant?', P < 2.7e-3)"
   ]
  },
  {
   "cell_type": "markdown",
   "id": "ceee4bae-d618-4c24-87ce-061fc430b782",
   "metadata": {},
   "source": [
    "The model with the cut-off is not significantly better. So we will use the straight power law for our further analysis."
   ]
  },
  {
   "cell_type": "code",
   "execution_count": null,
   "id": "dc8549de-20c2-40eb-b28e-d9884b8a9ea2",
   "metadata": {},
   "outputs": [],
   "source": [
    "bestmodel = bestmodel_PL"
   ]
  },
  {
   "cell_type": "markdown",
   "id": "9db406c8-5048-47b3-83ec-58af489a62d1",
   "metadata": {},
   "source": [
    "Let's set this model as the current model of the Dataset:"
   ]
  },
  {
   "cell_type": "code",
   "execution_count": null,
   "id": "cc41521d-7f78-433b-9f58-46fe6f48f5da",
   "metadata": {},
   "outputs": [],
   "source": [
    "spectrum_stacked.models = bestmodel"
   ]
  },
  {
   "cell_type": "markdown",
   "id": "16871489-9bc9-4bda-8c2b-0125fe0304ec",
   "metadata": {},
   "source": [
    "### Your playground\n",
    "You can try to fit yet another model. A LogParabolaSpectralModel could work as well. Check the documentation (https://docs.gammapy.org/0.18.2/api/gammapy.modeling.models.LogParabolaSpectralModel.html#gammapy.modeling.models.LogParabolaSpectralModel) for the parameters of this model.\n",
    "You can compare the log-parabola model with the power law. But you cannot use Wilk's theorem to compare it to the exponential cut-off power law, as they are not nested models."
   ]
  },
  {
   "cell_type": "code",
   "execution_count": null,
   "id": "625789ec-d47c-4852-ada7-5dd08f258923",
   "metadata": {},
   "outputs": [],
   "source": [
    "## your code here"
   ]
  },
  {
   "cell_type": "markdown",
   "id": "257a9538-b6f3-4014-a4bc-520aa6067afc",
   "metadata": {},
   "source": [
    "## Flux Points\n",
    "In the final step we want to create flux points which can be used for later analysis and astrophysical modelling. These points will depend on our best-fit model. Let's check first that we indeed have our best-fit model."
   ]
  },
  {
   "cell_type": "code",
   "execution_count": null,
   "id": "6b2e34fe-451d-4f21-8fd6-9a50c1d7d2c9",
   "metadata": {},
   "outputs": [],
   "source": [
    "spectrum_stacked.models[0].spectral_model.tag[0]"
   ]
  },
  {
   "cell_type": "code",
   "execution_count": null,
   "id": "104f34b7-153b-4849-be28-8e036a068de7",
   "metadata": {},
   "outputs": [],
   "source": [
    "spectrum_stacked.models.parameters.to_table()"
   ]
  },
  {
   "cell_type": "markdown",
   "id": "1dfd40d3-1a59-4adc-9ce9-b301e060f6c7",
   "metadata": {},
   "source": [
    "We need only flux points within our energy range:"
   ]
  },
  {
   "cell_type": "code",
   "execution_count": null,
   "id": "e59e453f-6f97-4ff1-98e9-12958d93f09a",
   "metadata": {},
   "outputs": [],
   "source": [
    "spectrum_stacked.energy_range_total"
   ]
  },
  {
   "cell_type": "markdown",
   "id": "870733a1-453f-4590-ad46-7d6617ab6508",
   "metadata": {},
   "source": [
    "We will use 10 bins."
   ]
  },
  {
   "cell_type": "code",
   "execution_count": null,
   "id": "669b5e99-bc5f-45b5-ad3e-226cd7b32c44",
   "metadata": {},
   "outputs": [],
   "source": [
    "energy_edges = np.geomspace(0.473, 50, 11) * u.TeV"
   ]
  },
  {
   "cell_type": "markdown",
   "id": "a50c79b5-f05b-4d25-8c0a-aaf3aab28ad0",
   "metadata": {},
   "source": [
    "The FluxPointsEstimator will do the analysis."
   ]
  },
  {
   "cell_type": "code",
   "execution_count": null,
   "id": "71173866-a749-4a13-9ccd-b6049ded1676",
   "metadata": {},
   "outputs": [],
   "source": [
    "from gammapy.estimators import FluxPointsEstimator"
   ]
  },
  {
   "cell_type": "code",
   "execution_count": null,
   "id": "0bb031e9-4091-4949-b6ba-1064ff7c1cf0",
   "metadata": {},
   "outputs": [],
   "source": [
    "fpe = FluxPointsEstimator(energy_edges = energy_edges,\n",
    "                          selection_optional = ['ul']\n",
    "                         )"
   ]
  },
  {
   "cell_type": "code",
   "execution_count": null,
   "id": "cc4869dd-70f6-4884-89a5-0f85ba6a1ee5",
   "metadata": {},
   "outputs": [],
   "source": [
    "flux_points = fpe.run(spectrum_stacked)"
   ]
  },
  {
   "cell_type": "code",
   "execution_count": null,
   "id": "490220fb-0816-406d-aae2-b4c08c1d10df",
   "metadata": {
    "scrolled": true
   },
   "outputs": [],
   "source": [
    "flux_points.to_table()"
   ]
  },
  {
   "cell_type": "code",
   "execution_count": null,
   "id": "d60daca3-0e90-4ee7-9afd-ef4ba7739655",
   "metadata": {},
   "outputs": [],
   "source": [
    "flux_points.plot()\n",
    "\n",
    "#plt.savefig('Flux_dNdE.svg')"
   ]
  },
  {
   "cell_type": "markdown",
   "id": "8384b0f8-921b-45c2-99ea-aef585dea22f",
   "metadata": {},
   "source": [
    "Flux points are often plotted in $E^2 \\times dN/dE$:"
   ]
  },
  {
   "cell_type": "code",
   "execution_count": null,
   "id": "66605555-61ac-4d13-bdd3-f70334612bd9",
   "metadata": {},
   "outputs": [],
   "source": [
    "flux_points.plot(sed_type = 'e2dnde')\n",
    "\n",
    "#plt.savefig('Flux_E2dNdE.svg')"
   ]
  },
  {
   "cell_type": "markdown",
   "id": "5f129326-2617-432e-a3cb-58db082441b2",
   "metadata": {},
   "source": [
    "If we want to plot the spectral points with our best-fit model then we best use a FluxPointsDataset."
   ]
  },
  {
   "cell_type": "code",
   "execution_count": null,
   "id": "d933298c-703a-4707-a600-47316c8c887d",
   "metadata": {},
   "outputs": [],
   "source": [
    "from gammapy.datasets import FluxPointsDataset"
   ]
  },
  {
   "cell_type": "code",
   "execution_count": null,
   "id": "56530cc8-3835-445d-bd74-016c46180b61",
   "metadata": {},
   "outputs": [],
   "source": [
    "flux_points_dataset = FluxPointsDataset(data = flux_points,\n",
    "                                        models = bestmodel\n",
    "                                       )"
   ]
  },
  {
   "cell_type": "code",
   "execution_count": null,
   "id": "65986987-7f85-4918-a1ea-365d36c8b2cb",
   "metadata": {},
   "outputs": [],
   "source": [
    "flux_points_dataset.plot_fit()\n",
    "\n",
    "#plt.savefig('FluxPoints_wModel.svg')"
   ]
  },
  {
   "cell_type": "markdown",
   "id": "ca26883f-44b8-4aba-b249-9824c97e1dbb",
   "metadata": {},
   "source": [
    "## Your playground\n",
    "You can make a spectrum with more or less data points."
   ]
  },
  {
   "cell_type": "code",
   "execution_count": null,
   "id": "fd91e600-cbe7-4ec8-a56c-1f76460468ac",
   "metadata": {},
   "outputs": [],
   "source": [
    "## your code here"
   ]
  },
  {
   "cell_type": "markdown",
   "id": "5644da4b-4d9d-4025-a1e9-573bb008f4b2",
   "metadata": {},
   "source": [
    "## Save for later use\n",
    "\n",
    "We have created a stacked spectrum data set and a best-fit model. We can save them for later use."
   ]
  },
  {
   "cell_type": "code",
   "execution_count": null,
   "id": "c857e582-6b63-46c7-aa24-260f9ce0e0f0",
   "metadata": {},
   "outputs": [],
   "source": [
    "spectrum_stacked.write('SpectrumDataset.fits.gz',\n",
    "                       overwrite = True)"
   ]
  },
  {
   "cell_type": "code",
   "execution_count": null,
   "id": "1bbcf818-8c66-4b28-97a6-151b843f872d",
   "metadata": {},
   "outputs": [],
   "source": [
    "bestmodel.write('SpectrumBestFit.fits.gz',\n",
    "                overwrite = True)"
   ]
  },
  {
   "cell_type": "markdown",
   "id": "a04fa811-c136-4cbf-acbb-82bbb5d10f12",
   "metadata": {},
   "source": [
    "We can also save the flux points. They can be fit with an emission model."
   ]
  },
  {
   "cell_type": "code",
   "execution_count": null,
   "id": "c54e1e76-aef7-404e-8159-537e1ac5edbe",
   "metadata": {},
   "outputs": [],
   "source": [
    "flux_points.write('SpectrumPoints.fit.gz')"
   ]
  },
  {
   "cell_type": "markdown",
   "id": "fcd04b9e-ebc8-4cf7-bc50-2695c0f23e26",
   "metadata": {},
   "source": [
    "So far we have used only the stacked dataset. But we also have datasets for the individual observation runs:"
   ]
  },
  {
   "cell_type": "code",
   "execution_count": null,
   "id": "b2fdf302-8797-4176-888a-660f0bcceddf",
   "metadata": {},
   "outputs": [],
   "source": [
    "spectrum_datasets"
   ]
  },
  {
   "cell_type": "markdown",
   "id": "96f59212-076e-4119-919e-153173a65424",
   "metadata": {},
   "source": [
    "We can use these data sets to test for variability of the emission. We will see this at a later stage. Let's save these datasets:"
   ]
  },
  {
   "cell_type": "code",
   "execution_count": null,
   "id": "0752b173-74e8-4ce9-9339-4993847d1930",
   "metadata": {},
   "outputs": [],
   "source": [
    "spectrum_datasets.write('SpectrumDatasets.yaml',\n",
    "                        overwrite = True)"
   ]
  },
  {
   "cell_type": "markdown",
   "id": "77709f9f-7e1f-4a8e-9604-4665565fdaeb",
   "metadata": {},
   "source": [
    "## Summary\n",
    "\n",
    "We have obtained an energy spectrum of the emission and tested if a deviation from a simple power law is statistically significant. \n",
    "\n",
    "Our analysis depends a bit on the proper choice of the on-source region, which we have done \"by eye\". This can be improved.\n",
    "\n",
    "We can also fit our data points with emission models or test for time variability of the emission."
   ]
  }
 ],
 "metadata": {
  "kernelspec": {
   "display_name": "Python 3 (ipykernel)",
   "language": "python",
   "name": "python3"
  },
  "language_info": {
   "codemirror_mode": {
    "name": "ipython",
    "version": 3
   },
   "file_extension": ".py",
   "mimetype": "text/x-python",
   "name": "python",
   "nbconvert_exporter": "python",
   "pygments_lexer": "ipython3",
   "version": "3.10.13"
  }
 },
 "nbformat": 4,
 "nbformat_minor": 5
}
