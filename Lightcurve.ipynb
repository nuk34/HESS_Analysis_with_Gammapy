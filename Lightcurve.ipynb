{
 "cells": [
  {
   "cell_type": "markdown",
   "id": "a8d14fa4-5082-4e65-8abf-5eb94108a21e",
   "metadata": {},
   "source": [
    "# Lightcurve\n",
    "\n",
    "We will now check if the emission is variable over time. We will make use of the spectrum datasets that we have created ealier."
   ]
  },
  {
   "cell_type": "markdown",
   "id": "a38adc20-3f2e-4a94-ac9f-0c7ade318255",
   "metadata": {},
   "source": [
    "## Imports\n",
    "We will start with the import of a few modules."
   ]
  },
  {
   "cell_type": "code",
   "execution_count": null,
   "id": "f50a1fdc-0cbd-49de-bf31-856031360c02",
   "metadata": {},
   "outputs": [],
   "source": [
    "import matplotlib.pyplot as plt\n",
    "\n",
    "import numpy as np\n",
    "\n",
    "from numpy import sqrt\n",
    "\n",
    "import astropy.units as u\n",
    "\n",
    "from gammapy.datasets import Datasets\n",
    "\n",
    "from gammapy.modeling.models import Models"
   ]
  },
  {
   "cell_type": "code",
   "execution_count": null,
   "id": "0f2f20fe-73b8-4982-aed0-d9b9e686aa82",
   "metadata": {},
   "outputs": [],
   "source": [
    "from gammapy.modeling import Fit\n",
    "\n",
    "fit = Fit()"
   ]
  },
  {
   "cell_type": "markdown",
   "id": "4a23393a-0066-4ff9-b9c8-b3f68637c84b",
   "metadata": {},
   "source": [
    "## Load Datasets\n",
    "\n",
    "We will now use the run-by-run data sets that we have created earlier."
   ]
  },
  {
   "cell_type": "code",
   "execution_count": null,
   "id": "af1ee70f-2651-41b1-8a62-61a7f83e8ea5",
   "metadata": {},
   "outputs": [],
   "source": [
    "spectrum_datasets = Datasets.read('SpectrumDatasets.yaml')"
   ]
  },
  {
   "cell_type": "code",
   "execution_count": null,
   "id": "23a6d458-b550-4183-bde7-fdaee8cf7b87",
   "metadata": {},
   "outputs": [],
   "source": [
    "spectrum_datasets"
   ]
  },
  {
   "cell_type": "markdown",
   "id": "56914cb3-9e30-40cb-bf23-2485af792554",
   "metadata": {},
   "source": [
    "We will also use our best-fit spectral model."
   ]
  },
  {
   "cell_type": "code",
   "execution_count": null,
   "id": "3c77cf9c-6916-4e75-b47d-d9598c5dfcee",
   "metadata": {},
   "outputs": [],
   "source": [
    "bestfit_spectral = Models.read('SpectrumBestFit.fits.gz')"
   ]
  },
  {
   "cell_type": "code",
   "execution_count": null,
   "id": "e5b2238e-20ce-4045-9b5c-84d8730b151c",
   "metadata": {},
   "outputs": [],
   "source": [
    "bestfit_spectral"
   ]
  },
  {
   "cell_type": "markdown",
   "id": "0314095f-8feb-4343-af4a-6e22cbaae3fe",
   "metadata": {},
   "source": [
    "We will set this model as our current model for the dataset."
   ]
  },
  {
   "cell_type": "code",
   "execution_count": null,
   "id": "066b4bc0-31d6-4d66-ab84-8a896ffa4305",
   "metadata": {},
   "outputs": [],
   "source": [
    "spectrum_datasets.models = bestfit_spectral"
   ]
  },
  {
   "cell_type": "code",
   "execution_count": null,
   "id": "043d02b3-7e27-4ee6-85eb-07bf128fdd1c",
   "metadata": {},
   "outputs": [],
   "source": [
    "spectrum_datasets.models"
   ]
  },
  {
   "cell_type": "markdown",
   "id": "70cd5a36-706f-40db-a572-6bc147428965",
   "metadata": {},
   "source": [
    "And we can re-run the fit. This time the same model will be fit simultanously to all individual datasets. This is called a joint fit."
   ]
  },
  {
   "cell_type": "code",
   "execution_count": null,
   "id": "35599cdc-7bb7-4857-80e9-f8ea7f771489",
   "metadata": {},
   "outputs": [],
   "source": [
    "fit.run(spectrum_datasets)"
   ]
  },
  {
   "cell_type": "code",
   "execution_count": null,
   "id": "86328455-49d1-4036-bbc8-3384450eb7e0",
   "metadata": {},
   "outputs": [],
   "source": [
    "spectrum_datasets.models.parameters.to_table().show_in_notebook()"
   ]
  },
  {
   "cell_type": "markdown",
   "id": "b6ab05d0-05ef-498d-a48a-d1e79e7efc90",
   "metadata": {},
   "source": [
    "## Lightcurve Estimator\n",
    "\n",
    "Gammapy provides a very powerful tool to obtain light curves. The LightcurveEstimator."
   ]
  },
  {
   "cell_type": "code",
   "execution_count": null,
   "id": "7b68c0af-0886-4392-bfca-8c7d1cf88d6b",
   "metadata": {},
   "outputs": [],
   "source": [
    "from gammapy.estimators import LightCurveEstimator"
   ]
  },
  {
   "cell_type": "markdown",
   "id": "75e5f79a-558a-4132-8245-b2b39da322ed",
   "metadata": {},
   "source": [
    "We will need to tell the LightCurveEstimator the name of the model that is to be analysed."
   ]
  },
  {
   "cell_type": "code",
   "execution_count": null,
   "id": "a1fec11e-a1dc-427a-ac2d-d3893c195d37",
   "metadata": {},
   "outputs": [],
   "source": [
    "spectrum_datasets.models[0].name"
   ]
  },
  {
   "cell_type": "code",
   "execution_count": null,
   "id": "9608e12c-2bec-47f7-a786-13d02ed70966",
   "metadata": {},
   "outputs": [],
   "source": [
    "lc_maker = LightCurveEstimator(source = spectrum_datasets.models[0].name)"
   ]
  },
  {
   "cell_type": "code",
   "execution_count": null,
   "id": "a1ebe0e6-b093-41c3-9b4d-5ba107ad8e88",
   "metadata": {},
   "outputs": [],
   "source": [
    "lc = lc_maker.run(spectrum_datasets)"
   ]
  },
  {
   "cell_type": "code",
   "execution_count": null,
   "id": "43a3609b-ddd8-47ec-90d3-be7358386873",
   "metadata": {},
   "outputs": [],
   "source": [
    "lc"
   ]
  },
  {
   "cell_type": "code",
   "execution_count": null,
   "id": "ddb95876-5ca9-46ac-b522-c1133209bb03",
   "metadata": {},
   "outputs": [],
   "source": [
    "lc.to_table()"
   ]
  },
  {
   "cell_type": "code",
   "execution_count": null,
   "id": "5bddf64e-cad7-43a5-8705-2a571b6be42c",
   "metadata": {},
   "outputs": [],
   "source": [
    "flux = bestfit_spectral[0].spectral_model.integral(0.8803178367920126*u.TeV,\n",
    "                                                   10.573712634405641*u.TeV)"
   ]
  },
  {
   "cell_type": "code",
   "execution_count": null,
   "id": "8d06f65b-0f3b-4dcf-8a1c-62d8c6a48490",
   "metadata": {},
   "outputs": [],
   "source": [
    "flux"
   ]
  },
  {
   "cell_type": "code",
   "execution_count": null,
   "id": "5334c32c-96eb-4f9c-8fd3-eeb4503c1832",
   "metadata": {
    "scrolled": true
   },
   "outputs": [],
   "source": [
    "ax = lc.plot(sed_type = 'flux')\n",
    "\n",
    "ax.axhline(flux)"
   ]
  },
  {
   "cell_type": "markdown",
   "id": "5a86e6c7-cbdd-4d5c-b2a1-b4536221474e",
   "metadata": {},
   "source": [
    "We can also calculate the sum of the chi2 values to calculate the probabilty:"
   ]
  },
  {
   "cell_type": "code",
   "execution_count": null,
   "id": "107d30f7-a689-4e11-850a-cd76d9e77386",
   "metadata": {},
   "outputs": [],
   "source": [
    "lc_table = lc.to_table(sed_type = 'flux')"
   ]
  },
  {
   "cell_type": "code",
   "execution_count": null,
   "id": "4b98b79f-21b5-424d-afad-bc9fd642c424",
   "metadata": {},
   "outputs": [],
   "source": [
    "lc_table.colnames"
   ]
  },
  {
   "cell_type": "code",
   "execution_count": null,
   "id": "11330952-0cfb-485f-a638-08362226ed44",
   "metadata": {},
   "outputs": [],
   "source": [
    "chi2 = np.sum(((lc_table['flux'] - flux) / lc_table['flux_err'])**2)"
   ]
  },
  {
   "cell_type": "code",
   "execution_count": null,
   "id": "c03d8667-3abe-42e0-aa17-7ca8e8f3182e",
   "metadata": {},
   "outputs": [],
   "source": [
    "import scipy.stats"
   ]
  },
  {
   "cell_type": "code",
   "execution_count": null,
   "id": "a4c8ada6-d0f9-4c64-b9f8-9f1ce221270d",
   "metadata": {},
   "outputs": [],
   "source": [
    "P = scipy.stats.chi2.sf(chi2, len(spectrum_datasets) - 1)\n",
    "\n",
    "print('probabilty: ',P)"
   ]
  },
  {
   "cell_type": "code",
   "execution_count": null,
   "id": "0efdc4d6-8124-4bd9-bbb7-64ec5116a092",
   "metadata": {},
   "outputs": [],
   "source": [
    "print('significant?', P < 2.7e-3)"
   ]
  },
  {
   "cell_type": "markdown",
   "id": "bd140868-4e98-48bb-9cc4-7c573acb7733",
   "metadata": {},
   "source": [
    "## Manual Binning of the Light Curve\n",
    "\n",
    "Let's try to bin observations done in the same night into on data point."
   ]
  },
  {
   "cell_type": "code",
   "execution_count": null,
   "id": "25890a5a-1480-47b3-8c93-5a6b6d810d42",
   "metadata": {},
   "outputs": [],
   "source": [
    "spectrum_datasets.gti.time_start"
   ]
  },
  {
   "cell_type": "code",
   "execution_count": null,
   "id": "84481638-0bbf-4da0-8318-e22b526954cf",
   "metadata": {},
   "outputs": [],
   "source": [
    "from astropy.time import Time"
   ]
  },
  {
   "cell_type": "code",
   "execution_count": null,
   "id": "162c38b8-b09b-4686-a678-3585485b0b11",
   "metadata": {},
   "outputs": [],
   "source": [
    "time_intervals = []\n",
    "\n",
    "t_start = np.min(spectrum_datasets.gti.time_start)\n",
    "t_stop = np.max(spectrum_datasets.gti.time_stop)"
   ]
  },
  {
   "cell_type": "code",
   "execution_count": null,
   "id": "2ce97e67-c70c-4147-96a8-fd40a94428ad",
   "metadata": {},
   "outputs": [],
   "source": [
    "t_start"
   ]
  },
  {
   "cell_type": "code",
   "execution_count": null,
   "id": "544cfe73-1486-4031-ba1e-418a992f2937",
   "metadata": {},
   "outputs": [],
   "source": [
    "# Let's start at noon\n",
    "\n",
    "t = int(t_start.value)+0.5"
   ]
  },
  {
   "cell_type": "code",
   "execution_count": null,
   "id": "6a603cef-c330-43c5-858b-64f5244c6d20",
   "metadata": {},
   "outputs": [],
   "source": [
    "while t < t_stop.value :\n",
    "    t2 = t + 1\n",
    "    time_intervals.append(Time([t, t2], format=t_start.format, scale=t_start.scale))\n",
    "    t = t2"
   ]
  },
  {
   "cell_type": "code",
   "execution_count": null,
   "id": "220bb54e-a4fa-4f59-9acc-d0fa6e7d174a",
   "metadata": {},
   "outputs": [],
   "source": [
    "time_intervals"
   ]
  },
  {
   "cell_type": "code",
   "execution_count": null,
   "id": "f8264b08-3383-4036-8275-cdd991e900d8",
   "metadata": {},
   "outputs": [],
   "source": [
    "lc_maker = LightCurveEstimator(source = spectrum_datasets.models[0].name,\n",
    "                               time_intervals = time_intervals\n",
    "                              )"
   ]
  },
  {
   "cell_type": "code",
   "execution_count": null,
   "id": "786d0011-cf57-44f2-8850-b0d024d39c8d",
   "metadata": {},
   "outputs": [],
   "source": [
    "lc = lc_maker.run(spectrum_datasets)"
   ]
  },
  {
   "cell_type": "code",
   "execution_count": null,
   "id": "fbb1556d-8024-474d-a00a-e8b97565636b",
   "metadata": {},
   "outputs": [],
   "source": [
    "lc.to_table()"
   ]
  },
  {
   "cell_type": "code",
   "execution_count": null,
   "id": "c6dcf30a-6420-4fd6-8b32-7744607f3794",
   "metadata": {
    "scrolled": true
   },
   "outputs": [],
   "source": [
    "ax = lc.plot(sed_type = 'flux')\n",
    "\n",
    "ax.axhline(flux)"
   ]
  },
  {
   "cell_type": "markdown",
   "id": "57f9a790-25b7-4bdc-915e-41f0735b269c",
   "metadata": {},
   "source": [
    "## Summary\n",
    "\n",
    "We have seen how we can easily obtain a light curve of the emission and check whether it is variable or not. Gamma-ray emission can be highly variable (AGNe for example) or periodic (binary systems for example). Gamma-ray sources which are resolved, i.e. they are seen as extended, are not variable at the short time scales probed here.\n",
    "\n",
    "We have checked for variability on a run-by-run basis. The rebinning we have seen allows only the combination of runs into larger bins. Testing for variability on shorter time scales (less than a run) will need a different approach. Testing for periodicity of pular emission (seconds to milliseconds) will require corrections for the movement of Earth around the Sun."
   ]
  }
 ],
 "metadata": {
  "kernelspec": {
   "display_name": "Python 3 (ipykernel)",
   "language": "python",
   "name": "python3"
  },
  "language_info": {
   "codemirror_mode": {
    "name": "ipython",
    "version": 3
   },
   "file_extension": ".py",
   "mimetype": "text/x-python",
   "name": "python",
   "nbconvert_exporter": "python",
   "pygments_lexer": "ipython3",
   "version": "3.10.13"
  }
 },
 "nbformat": 4,
 "nbformat_minor": 5
}
