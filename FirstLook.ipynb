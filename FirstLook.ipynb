{
 "cells": [
  {
   "cell_type": "markdown",
   "id": "219da3d8-c27a-4ccc-ae90-0bf59987bed3",
   "metadata": {},
   "source": [
    "# A First Look at the Data\n",
    "\n",
    "In this notebook we will have a first look at the H.E.S.S. public data set. More information on this data set can be found here: [https://www.mpi-hd.mpg.de/HESS/pages/dl3-dr1/](https://www.mpi-hd.mpg.de/HESS/pages/dl3-dr1/) . \n",
    "\n",
    "We will use gammapy ([https://gammapy.org/](https://gammapy.org/)) which heavily depends on astropy ([https://www.astropy.org/](https://www.astropy.org/)). We will see some data manipulation with numpy ([https://numpy.org/](https://numpy.org/)) and data presentation using matplotlib ([https://matplotlib.org/](https://matplotlib.org/)) and pyplot ([https://matplotlib.org/stable/tutorials/pyplot.html](https://matplotlib.org/stable/tutorials/pyplot.html))."
   ]
  },
  {
   "cell_type": "markdown",
   "id": "3e52fa17-5ae2-4775-86ef-f1e0d8224637",
   "metadata": {},
   "source": [
    "## imports\n",
    "\n",
    "Let's start with importing these modules."
   ]
  },
  {
   "cell_type": "code",
   "execution_count": null,
   "id": "6cd574aa-38f8-4f15-aacf-0425ec148861",
   "metadata": {},
   "outputs": [],
   "source": [
    "import gammapy"
   ]
  },
  {
   "cell_type": "code",
   "execution_count": null,
   "id": "a1125086-bff1-4a00-a2ab-3fc8bec44b7d",
   "metadata": {},
   "outputs": [],
   "source": [
    "gammapy.__version__"
   ]
  },
  {
   "cell_type": "code",
   "execution_count": null,
   "id": "67e62a04-cccf-4c5c-83dc-0db3a2e2c82c",
   "metadata": {},
   "outputs": [],
   "source": [
    "import numpy as np"
   ]
  },
  {
   "cell_type": "code",
   "execution_count": null,
   "id": "5701bb31-7b4e-4d16-8af3-7f5052b33faf",
   "metadata": {},
   "outputs": [],
   "source": [
    "np.__version__"
   ]
  },
  {
   "cell_type": "code",
   "execution_count": null,
   "id": "c0d1f945-f06f-411e-a519-52d3cf82d40a",
   "metadata": {},
   "outputs": [],
   "source": [
    "import matplotlib\n",
    "matplotlib.__version__"
   ]
  },
  {
   "cell_type": "code",
   "execution_count": null,
   "id": "81569b05-4882-4eb2-b856-9f5dae4b4370",
   "metadata": {},
   "outputs": [],
   "source": [
    "import matplotlib.pyplot as plt"
   ]
  },
  {
   "cell_type": "markdown",
   "id": "9e15f5a7-7b3a-4621-a43e-951bb70f8968",
   "metadata": {},
   "source": [
    "## Download the data"
   ]
  },
  {
   "cell_type": "markdown",
   "id": "4c580319-8883-4d5e-b2b3-7eac645070a5",
   "metadata": {},
   "source": [
    "Gammapy integrates the H.E.S.S. public data set in its tutorials. We can use gammapy to download the data easily."
   ]
  },
  {
   "cell_type": "code",
   "execution_count": null,
   "id": "a450fcd3-db88-4832-939d-85de063ce067",
   "metadata": {},
   "outputs": [],
   "source": [
    "from gammapy.utils.check import check_tutorials_setup"
   ]
  },
  {
   "cell_type": "code",
   "execution_count": null,
   "id": "fb99a1aa-51e3-44f3-b1b3-7196e364d136",
   "metadata": {},
   "outputs": [],
   "source": [
    "check_tutorials_setup()"
   ]
  },
  {
   "cell_type": "code",
   "execution_count": null,
   "id": "c8d9628f-1f7b-4982-9a04-32e74d79d731",
   "metadata": {},
   "outputs": [],
   "source": [
    "import os"
   ]
  },
  {
   "cell_type": "code",
   "execution_count": null,
   "id": "7761d72d-ff8e-408f-bc1d-c06062fdd824",
   "metadata": {},
   "outputs": [],
   "source": [
    "os.environ['GAMMAPY_DATA'] = 'gammapy-data/1.2'"
   ]
  },
  {
   "cell_type": "markdown",
   "id": "861f3e21-ad6a-4508-ae68-c2fb1c219d07",
   "metadata": {},
   "source": [
    "All the essential information about the observations is found in a DataStore."
   ]
  },
  {
   "cell_type": "code",
   "execution_count": null,
   "id": "13e0cb0f-169a-4022-8e82-52e5bf0294a7",
   "metadata": {},
   "outputs": [],
   "source": [
    "from gammapy.data import DataStore"
   ]
  },
  {
   "cell_type": "code",
   "execution_count": null,
   "id": "e68f9a6e-0e5d-44d4-a7ac-aa184ee768c5",
   "metadata": {},
   "outputs": [],
   "source": [
    "data_store = DataStore.from_dir(\"$GAMMAPY_DATA/hess-dl3-dr1\")"
   ]
  },
  {
   "cell_type": "code",
   "execution_count": null,
   "id": "8df37f5b-8a27-4130-86af-b6511e062cf8",
   "metadata": {},
   "outputs": [],
   "source": [
    "data_store.info()"
   ]
  },
  {
   "cell_type": "markdown",
   "id": "4d7f3795-f0ed-4a56-8157-d8ccf644a6ec",
   "metadata": {},
   "source": [
    "Expected output:\n",
    "\n",
    "```\n",
    "Data store:\n",
    "HDU index table:\n",
    "BASE_DIR: gammapy-data/1.2/hess-dl3-dr1\n",
    "Rows: 630\n",
    "OBS_ID: 20136 -- 47829\n",
    "HDU_TYPE: ['aeff', 'bkg', 'edisp', 'events', 'gti', 'psf']\n",
    "HDU_CLASS: ['aeff_2d', 'bkg_3d', 'edisp_2d', 'events', 'gti', 'psf_table']\n",
    "\n",
    "\n",
    "Observation table:\n",
    "Observatory name: 'N/A'\n",
    "Number of observations: 105\n",
    "```"
   ]
  },
  {
   "cell_type": "markdown",
   "id": "fd3b1387-fb8a-4543-87fc-aa697c01c714",
   "metadata": {},
   "source": [
    "## DataStore"
   ]
  },
  {
   "cell_type": "code",
   "execution_count": null,
   "id": "f68c18be-487f-4bce-af4a-f5c738538a18",
   "metadata": {},
   "outputs": [],
   "source": [
    "data_store.obs_table"
   ]
  },
  {
   "cell_type": "markdown",
   "id": "98f9e140-898c-48f0-aaf7-20bc9b6b6a2e",
   "metadata": {},
   "source": [
    "This is an astropy.Table ([https://docs.astropy.org/en/stable/table/index.html](https://docs.astropy.org/en/stable/table/index.html)). Have look, these tables are very powerful."
   ]
  },
  {
   "cell_type": "code",
   "execution_count": null,
   "id": "45d1e679-5fe9-42d9-9543-7c706a9c0195",
   "metadata": {},
   "outputs": [],
   "source": [
    "data_store.obs_table.colnames"
   ]
  },
  {
   "cell_type": "code",
   "execution_count": null,
   "id": "106239d5-8bde-4431-ac9f-194618bdd1a4",
   "metadata": {},
   "outputs": [],
   "source": [
    "np.unique(data_store.obs_table['OBJECT'])"
   ]
  },
  {
   "cell_type": "code",
   "execution_count": null,
   "id": "75270c54-807e-459d-8849-a5c229a726fa",
   "metadata": {},
   "outputs": [],
   "source": [
    "data_store.hdu_table"
   ]
  },
  {
   "cell_type": "markdown",
   "id": "cd7c106c-137a-4703-8720-9f22546b5233",
   "metadata": {},
   "source": [
    "## Run Selection"
   ]
  },
  {
   "cell_type": "code",
   "execution_count": null,
   "id": "3a97b1f1-2d5d-4453-aed0-551d89932a50",
   "metadata": {},
   "outputs": [],
   "source": [
    "import astropy.units as u\n",
    "from astropy.coordinates import SkyCoord, Angle"
   ]
  },
  {
   "cell_type": "markdown",
   "id": "1457da68-db36-4170-bde9-234f6420e22f",
   "metadata": {},
   "source": [
    "We set the source position. frame='icrs' indicates that we are using coordinates in right ascension and declination."
   ]
  },
  {
   "cell_type": "code",
   "execution_count": null,
   "id": "59fa91da-aff5-40f0-9d7a-587fb9221cb1",
   "metadata": {},
   "outputs": [],
   "source": [
    "source_pos = SkyCoord(83.633*u.deg, 22.014*u.deg, frame='icrs')"
   ]
  },
  {
   "cell_type": "code",
   "execution_count": null,
   "id": "1c4f5b62-567d-4c9c-8beb-1419798bb12c",
   "metadata": {},
   "outputs": [],
   "source": [
    "selectradius = 2.5*u.deg"
   ]
  },
  {
   "cell_type": "code",
   "execution_count": null,
   "id": "b248243a-6267-410c-a5e6-de9e45839609",
   "metadata": {},
   "outputs": [],
   "source": [
    "conesearch = data_store.obs_table.select_sky_circle(source_pos, selectradius)"
   ]
  },
  {
   "cell_type": "code",
   "execution_count": null,
   "id": "21484a59-6735-4b5f-929c-8db1aed47006",
   "metadata": {},
   "outputs": [],
   "source": [
    "conesearch"
   ]
  },
  {
   "cell_type": "code",
   "execution_count": null,
   "id": "bcf13c34-e804-4c9c-b8b1-7b812966b3e8",
   "metadata": {},
   "outputs": [],
   "source": [
    "runlist = conesearch['OBS_ID'].value"
   ]
  },
  {
   "cell_type": "code",
   "execution_count": null,
   "id": "83804d4f-fa77-4f92-9ae4-54023019bfaf",
   "metadata": {},
   "outputs": [],
   "source": [
    "print(runlist)"
   ]
  },
  {
   "cell_type": "code",
   "execution_count": null,
   "id": "abe57727-77f4-437b-8584-5d11bad1a99f",
   "metadata": {},
   "outputs": [],
   "source": [
    "len(runlist)"
   ]
  },
  {
   "cell_type": "code",
   "execution_count": null,
   "id": "31a83099-f492-4d19-8837-412ec8ca2248",
   "metadata": {},
   "outputs": [],
   "source": [
    "observations = data_store.get_observations(runlist)"
   ]
  },
  {
   "cell_type": "code",
   "execution_count": null,
   "id": "40f7c16d-3bda-4ef1-a34a-76ba7fa14acc",
   "metadata": {},
   "outputs": [],
   "source": [
    "observations.ids"
   ]
  },
  {
   "cell_type": "code",
   "execution_count": null,
   "id": "24b64dfe-b615-4773-87fb-0f6f64ce75bd",
   "metadata": {},
   "outputs": [],
   "source": [
    "obs = observations[0]"
   ]
  },
  {
   "cell_type": "code",
   "execution_count": null,
   "id": "13732e35-242e-4b4a-bd7c-f65825e3c294",
   "metadata": {},
   "outputs": [],
   "source": [
    "obs.obs_id"
   ]
  },
  {
   "cell_type": "code",
   "execution_count": null,
   "id": "0bb28679-8109-47a1-9fa6-e8569fa36a3c",
   "metadata": {},
   "outputs": [],
   "source": [
    "obs"
   ]
  },
  {
   "cell_type": "markdown",
   "id": "bbd159f0-e596-499e-9657-5032f735dd99",
   "metadata": {},
   "source": [
    "## Event Lists\n",
    "\n",
    "The most information is found in the event list. It is simply a list of recorded events. Remember, we measure indivual gamma-ray photons."
   ]
  },
  {
   "cell_type": "code",
   "execution_count": null,
   "id": "aec4f21c-a9fd-42d8-a2f1-6ebd022e7e75",
   "metadata": {},
   "outputs": [],
   "source": [
    "from gammapy.data import EventList"
   ]
  },
  {
   "cell_type": "code",
   "execution_count": null,
   "id": "8130bc39-4656-4b2d-a1ff-d896f109ff80",
   "metadata": {},
   "outputs": [],
   "source": [
    "events = obs.events"
   ]
  },
  {
   "cell_type": "code",
   "execution_count": null,
   "id": "17bdb6a9-21bd-4ae3-a61c-d6db25b93461",
   "metadata": {},
   "outputs": [],
   "source": [
    "events"
   ]
  },
  {
   "cell_type": "code",
   "execution_count": null,
   "id": "e7fe6392-4b21-436e-89e6-2238b2e22d9e",
   "metadata": {},
   "outputs": [],
   "source": [
    "events.peek()"
   ]
  },
  {
   "cell_type": "code",
   "execution_count": null,
   "id": "3a3e0d69-1f08-448c-b911-238899f339f9",
   "metadata": {},
   "outputs": [],
   "source": [
    "events.table"
   ]
  },
  {
   "cell_type": "code",
   "execution_count": null,
   "id": "b55c77f7-f79e-4a7d-983d-a6361d6e660e",
   "metadata": {
    "scrolled": true
   },
   "outputs": [],
   "source": [
    "plt.hist2d(events.table['RA'], \n",
    "           events.table['DEC'], \n",
    "           #bins = [100,100]\n",
    "          )"
   ]
  },
  {
   "cell_type": "code",
   "execution_count": null,
   "id": "e899c6bb-7ab9-4009-b3d6-c86c0d30d0a6",
   "metadata": {},
   "outputs": [],
   "source": [
    "plt.hist(events.table['ENERGY'],\n",
    "         #log = True,\n",
    "         #range = [0.1,100],\n",
    "         #bins = 100,\n",
    "        )"
   ]
  },
  {
   "cell_type": "markdown",
   "id": "d166619b-9bb4-4901-8d69-2defead95e55",
   "metadata": {},
   "source": [
    "## Theta$^2$ Plot"
   ]
  },
  {
   "cell_type": "markdown",
   "id": "020cc093-8483-4d2a-bc70-3155ccbbf7e9",
   "metadata": {},
   "source": [
    "### on-source counts"
   ]
  },
  {
   "cell_type": "code",
   "execution_count": null,
   "id": "f55ec7fe-ddbd-4bd7-9319-960bc9cad35c",
   "metadata": {},
   "outputs": [],
   "source": [
    "events.radec"
   ]
  },
  {
   "cell_type": "code",
   "execution_count": null,
   "id": "03d528bf-d92e-4f28-b604-a12fde46f5b4",
   "metadata": {},
   "outputs": [],
   "source": [
    "first_event = events.radec[0]"
   ]
  },
  {
   "cell_type": "code",
   "execution_count": null,
   "id": "79a0c423-119c-429e-83cf-b20ff4304302",
   "metadata": {},
   "outputs": [],
   "source": [
    "first_event"
   ]
  },
  {
   "cell_type": "code",
   "execution_count": null,
   "id": "c2904422-ca5c-4fdc-9e3f-65845ec7e73e",
   "metadata": {},
   "outputs": [],
   "source": [
    "first_event.separation(source_pos)"
   ]
  },
  {
   "cell_type": "code",
   "execution_count": null,
   "id": "ca16d262-9784-4ff7-a372-76eeddd051aa",
   "metadata": {},
   "outputs": [],
   "source": [
    "theta2 = events.radec.separation(source_pos)**2"
   ]
  },
  {
   "cell_type": "code",
   "execution_count": null,
   "id": "38a7dc99-86b8-4d8b-9056-f8b8d3b9e0d6",
   "metadata": {},
   "outputs": [],
   "source": [
    "print(theta2)"
   ]
  },
  {
   "cell_type": "code",
   "execution_count": null,
   "id": "36685db8-51fd-49bd-9155-9b7927b1767d",
   "metadata": {},
   "outputs": [],
   "source": [
    "ret = plt.hist(theta2.value, \n",
    "#               range = [0,0.1], \n",
    "#               bins = 50\n",
    "              )\n",
    "\n",
    "plt.xlabel('$\\\\theta^2$ [deg$^2$]')\n",
    "\n",
    "#plt.savefig('Theta2_on.svg')"
   ]
  },
  {
   "cell_type": "code",
   "execution_count": null,
   "id": "177c686c-6f1d-4f11-8735-9df6f0f90485",
   "metadata": {},
   "outputs": [],
   "source": [
    "ret"
   ]
  },
  {
   "cell_type": "code",
   "execution_count": null,
   "id": "8bf0163c-195b-4a24-9f1c-a381e238ad36",
   "metadata": {},
   "outputs": [],
   "source": [
    "n = ret[0]\n",
    "x = ret[1]"
   ]
  },
  {
   "cell_type": "code",
   "execution_count": null,
   "id": "c3bb2243-03b4-47b8-ad5c-98966d2a752b",
   "metadata": {},
   "outputs": [],
   "source": [
    "print(x)"
   ]
  },
  {
   "cell_type": "code",
   "execution_count": null,
   "id": "e0239250-0f15-4bee-a85b-6dd388e0fc13",
   "metadata": {},
   "outputs": [],
   "source": [
    "x[1:]<0.01"
   ]
  },
  {
   "cell_type": "code",
   "execution_count": null,
   "id": "5d280f54-77ef-4e1a-8d41-22a9b508b61e",
   "metadata": {},
   "outputs": [],
   "source": [
    "n[ x[1:]<0.01 ]"
   ]
  },
  {
   "cell_type": "code",
   "execution_count": null,
   "id": "37979961-306e-4ae3-8433-2c1c2e941f1a",
   "metadata": {},
   "outputs": [],
   "source": [
    "oncounts = n[x[1:]<0.01].sum()"
   ]
  },
  {
   "cell_type": "code",
   "execution_count": null,
   "id": "4806de0d-02eb-46d5-b9ee-1aae4f14b71b",
   "metadata": {},
   "outputs": [],
   "source": [
    "oncounts"
   ]
  },
  {
   "cell_type": "markdown",
   "id": "16c7d5e5-fd7d-4668-9e3d-63b846846b63",
   "metadata": {},
   "source": [
    "### off-source counts"
   ]
  },
  {
   "cell_type": "code",
   "execution_count": null,
   "id": "42bf92a2-6ac5-4733-9c27-889c272c2ce5",
   "metadata": {},
   "outputs": [],
   "source": [
    "print(obs)"
   ]
  },
  {
   "cell_type": "code",
   "execution_count": null,
   "id": "b00a6411-66c9-429d-9ebf-dc2201e8e69d",
   "metadata": {},
   "outputs": [],
   "source": [
    "pointing_pos = obs.pointing.fixed_icrs"
   ]
  },
  {
   "cell_type": "code",
   "execution_count": null,
   "id": "29589a6c-8bf2-49d8-8fc2-9b18a919aa3d",
   "metadata": {},
   "outputs": [],
   "source": [
    "pointing_pos"
   ]
  },
  {
   "cell_type": "code",
   "execution_count": null,
   "id": "acee82ac-1555-4be8-8822-e6760223cec9",
   "metadata": {},
   "outputs": [],
   "source": [
    "separation = pointing_pos.separation(source_pos)\n",
    "print (separation)"
   ]
  },
  {
   "cell_type": "code",
   "execution_count": null,
   "id": "7140169a-1f77-4354-a529-a3ea1adca7f5",
   "metadata": {},
   "outputs": [],
   "source": [
    "position_angle = pointing_pos.position_angle(source_pos)\n",
    "print (position_angle.to(u.deg))"
   ]
  },
  {
   "cell_type": "code",
   "execution_count": null,
   "id": "feaff11b-2a1d-4a70-a79e-5e5deeb19652",
   "metadata": {},
   "outputs": [],
   "source": [
    "offpos = pointing_pos.directional_offset_by( position_angle+180*u.deg, separation)"
   ]
  },
  {
   "cell_type": "code",
   "execution_count": null,
   "id": "eea78ba7-07b3-4718-beb3-6ebefde974df",
   "metadata": {},
   "outputs": [],
   "source": [
    "offpos"
   ]
  },
  {
   "cell_type": "code",
   "execution_count": null,
   "id": "472a1b0d-df28-4458-81a8-4dca6e165f41",
   "metadata": {},
   "outputs": [],
   "source": [
    "theta2_off = events.radec.separation(offpos)**2"
   ]
  },
  {
   "cell_type": "code",
   "execution_count": null,
   "id": "b6498f0c-dd70-4d97-a505-717e400235c0",
   "metadata": {},
   "outputs": [],
   "source": [
    "plt.hist(theta2.value, range = [0,0.1], bins = 50)\n",
    "ret_off = plt.hist(theta2_off.value, range = [0,0.1], bins = 50, alpha = 0.5)\n",
    "\n",
    "plt.xlabel('$\\\\theta^2$ [deg$^2$]')\n",
    "\n",
    "#plt.savefig('Theta2_onoff.svg')"
   ]
  },
  {
   "cell_type": "code",
   "execution_count": null,
   "id": "4df3e318-0292-46e9-b8f1-e713ceccb4cf",
   "metadata": {},
   "outputs": [],
   "source": [
    "n_off = ret_off[0]\n",
    "offcounts = n_off[x[1:]<0.01].sum()"
   ]
  },
  {
   "cell_type": "code",
   "execution_count": null,
   "id": "72a10508-471a-42b8-83e7-1e6503863d43",
   "metadata": {},
   "outputs": [],
   "source": [
    "print(oncounts,offcounts)"
   ]
  },
  {
   "cell_type": "markdown",
   "id": "61685e39-a9e9-4979-93bf-5136ee96f613",
   "metadata": {},
   "source": [
    "### excess"
   ]
  },
  {
   "cell_type": "code",
   "execution_count": null,
   "id": "b61b97f7-63d4-41c1-80f0-ee6165dfa034",
   "metadata": {},
   "outputs": [],
   "source": [
    "excess = oncounts - offcounts"
   ]
  },
  {
   "cell_type": "code",
   "execution_count": null,
   "id": "8c972376-008d-44d8-acba-576ab955e720",
   "metadata": {},
   "outputs": [],
   "source": [
    "excess"
   ]
  },
  {
   "cell_type": "markdown",
   "id": "f80e198f-1822-429a-8317-c421abaf6889",
   "metadata": {},
   "source": [
    "### background check\n",
    "\n",
    "Let's check that there is no excess at larger $\\theta^2$ values, where we do not expect any emission."
   ]
  },
  {
   "cell_type": "code",
   "execution_count": null,
   "id": "f2b57091-857c-4974-9880-5466e66064f8",
   "metadata": {},
   "outputs": [],
   "source": [
    "x[1:] > 0.05"
   ]
  },
  {
   "cell_type": "code",
   "execution_count": null,
   "id": "954d1706-927d-4f0c-bba7-9d7c53d7ad09",
   "metadata": {},
   "outputs": [],
   "source": [
    "check_on = n[x[1:]>0.05].sum()"
   ]
  },
  {
   "cell_type": "code",
   "execution_count": null,
   "id": "c593c5a1-895e-4916-bf2e-81fc2e64e1de",
   "metadata": {},
   "outputs": [],
   "source": [
    "check_off = n_off[x[1:]>0.05].sum()"
   ]
  },
  {
   "cell_type": "code",
   "execution_count": null,
   "id": "58eff8c1-54e2-4af1-93e4-734bea22427b",
   "metadata": {},
   "outputs": [],
   "source": [
    "print('{} - {} = {}'.format(check_on, check_off, check_on - check_off))"
   ]
  },
  {
   "cell_type": "markdown",
   "id": "04316e6a-e946-4f05-8bbe-dfa436b116fb",
   "metadata": {},
   "source": [
    "### Significance"
   ]
  },
  {
   "cell_type": "code",
   "execution_count": null,
   "id": "349c239d-6c9e-4ae3-a282-6650cc5b0989",
   "metadata": {},
   "outputs": [],
   "source": [
    "total = oncounts + offcounts"
   ]
  },
  {
   "cell_type": "code",
   "execution_count": null,
   "id": "64a62378-35c0-4e55-9bdc-6e1c0a88958e",
   "metadata": {},
   "outputs": [],
   "source": [
    "total"
   ]
  },
  {
   "cell_type": "code",
   "execution_count": null,
   "id": "94336eab-7fdf-487e-830b-139956fe37f4",
   "metadata": {},
   "outputs": [],
   "source": [
    "from numpy import sqrt"
   ]
  },
  {
   "cell_type": "code",
   "execution_count": null,
   "id": "112e1b5f-eb28-46b6-bd0b-14818d1feaef",
   "metadata": {},
   "outputs": [],
   "source": [
    "sigma = sqrt(total)"
   ]
  },
  {
   "cell_type": "code",
   "execution_count": null,
   "id": "f4355087-2e26-4dc0-beb0-20179b6b64bb",
   "metadata": {},
   "outputs": [],
   "source": [
    "sigma"
   ]
  },
  {
   "cell_type": "code",
   "execution_count": null,
   "id": "1a0d5954-650a-4f57-ab70-e04edb399e2d",
   "metadata": {},
   "outputs": [],
   "source": [
    "significance_1 = excess/sigma"
   ]
  },
  {
   "cell_type": "code",
   "execution_count": null,
   "id": "b61b7d17-8995-4dd3-bd04-98770a2bd4e6",
   "metadata": {},
   "outputs": [],
   "source": [
    "significance_1"
   ]
  },
  {
   "cell_type": "code",
   "execution_count": null,
   "id": "41848da7-9681-4a9d-adeb-4f475e1f0d42",
   "metadata": {},
   "outputs": [],
   "source": [
    "from gammapy.stats import WStatCountsStatistic"
   ]
  },
  {
   "cell_type": "code",
   "execution_count": null,
   "id": "aec07e5a-c3b5-4956-81fb-7f8fc494be0d",
   "metadata": {},
   "outputs": [],
   "source": [
    "stat = WStatCountsStatistic(n_on=oncounts, n_off=offcounts, alpha=1.)\n",
    "\n",
    "print('excess: {} \\nsignificance: {}'.format(stat.n_sig,stat.sqrt_ts))"
   ]
  },
  {
   "cell_type": "markdown",
   "id": "72604b0c-68c4-4edc-956d-eab2e002726c",
   "metadata": {},
   "source": [
    "Let's check the background:"
   ]
  },
  {
   "cell_type": "code",
   "execution_count": null,
   "id": "2541b25f-63e2-4da7-adb5-f078d9af3ed7",
   "metadata": {},
   "outputs": [],
   "source": [
    "stat_check = WStatCountsStatistic(n_on=check_on, n_off=check_off, alpha=1.)\n",
    "\n",
    "print('excess: {} \\nsignificance: {}'.format(stat_check.n_sig,stat_check.sqrt_ts))"
   ]
  },
  {
   "cell_type": "markdown",
   "id": "dae327f1-1c49-4234-be60-126689a348eb",
   "metadata": {},
   "source": [
    "### Your playground\n",
    "\n",
    "If you want to do it yourself, try the following.\n",
    "\n",
    "Make a theta^2 plot for signal and background for the second observation run. Calculate the number of on and off events for a theta^2 cut of 0.02. Calculate the significance."
   ]
  },
  {
   "cell_type": "code",
   "execution_count": null,
   "id": "b46a1d5d-c217-4584-aa72-7bac3ce34273",
   "metadata": {},
   "outputs": [],
   "source": [
    "## your code here"
   ]
  },
  {
   "cell_type": "markdown",
   "id": "9cc49c16-e84c-47b3-aea4-69e4e764d73c",
   "metadata": {},
   "source": [
    "### Combine all runs\n",
    "We will no use some gammapy code to prepare the $\\theta^2$ plot for all runs combined. First we will define the x-axis:"
   ]
  },
  {
   "cell_type": "code",
   "execution_count": null,
   "id": "7e19d6cd-c7d7-443e-a193-33097c3efa46",
   "metadata": {},
   "outputs": [],
   "source": [
    "from gammapy.maps import MapAxis"
   ]
  },
  {
   "cell_type": "code",
   "execution_count": null,
   "id": "e2ba47bd-8d67-4857-8aa2-636f8509c0d4",
   "metadata": {},
   "outputs": [],
   "source": [
    "theta2_axis = MapAxis.from_bounds(0, 0.1, \n",
    "                                  nbin=40, \n",
    "                                  unit='deg2'\n",
    "                                 )"
   ]
  },
  {
   "cell_type": "code",
   "execution_count": null,
   "id": "eaebea45-4374-4d43-a181-74a2deeee3c1",
   "metadata": {},
   "outputs": [],
   "source": [
    "theta2_axis.edges"
   ]
  },
  {
   "cell_type": "code",
   "execution_count": null,
   "id": "4c176946-ae14-41e7-a86b-07e5925e869b",
   "metadata": {},
   "outputs": [],
   "source": [
    "from gammapy.makers.utils import make_theta_squared_table"
   ]
  },
  {
   "cell_type": "code",
   "execution_count": null,
   "id": "6862c10c-ba16-4454-8cfc-9691428d14ad",
   "metadata": {},
   "outputs": [],
   "source": [
    "theta2_table = make_theta_squared_table(observations=observations,\n",
    "                                        position=source_pos,\n",
    "                                        theta_squared_axis=theta2_axis\n",
    "                                       )"
   ]
  },
  {
   "cell_type": "code",
   "execution_count": null,
   "id": "d3c81ad4-82b9-4d01-aae7-68fe095a6783",
   "metadata": {},
   "outputs": [],
   "source": [
    "theta2_table"
   ]
  },
  {
   "cell_type": "code",
   "execution_count": null,
   "id": "1c9bbf94-913d-44c3-bdb9-6163a275b4cd",
   "metadata": {},
   "outputs": [],
   "source": [
    "all_on = theta2_table['counts'][theta2_table['theta2_max'] < 0.01].sum()"
   ]
  },
  {
   "cell_type": "code",
   "execution_count": null,
   "id": "f8afdfae-b842-493d-9926-6265b9bb3a63",
   "metadata": {},
   "outputs": [],
   "source": [
    "all_on"
   ]
  },
  {
   "cell_type": "code",
   "execution_count": null,
   "id": "a439a9fa-3b94-42cd-aef7-fea5d5bb435b",
   "metadata": {},
   "outputs": [],
   "source": [
    "all_off = theta2_table['counts_off'][theta2_table['theta2_max'] < 0.01].sum()"
   ]
  },
  {
   "cell_type": "code",
   "execution_count": null,
   "id": "642d58b7-597f-4cf2-87a6-303e72d14032",
   "metadata": {},
   "outputs": [],
   "source": [
    "all_off"
   ]
  },
  {
   "cell_type": "code",
   "execution_count": null,
   "id": "444e5ab5-21eb-42c1-9548-8267c974956e",
   "metadata": {},
   "outputs": [],
   "source": [
    "all_excess = all_on - all_off"
   ]
  },
  {
   "cell_type": "code",
   "execution_count": null,
   "id": "8d245056-a505-4430-8e62-bbe687b683f8",
   "metadata": {},
   "outputs": [],
   "source": [
    "all_excess"
   ]
  },
  {
   "cell_type": "code",
   "execution_count": null,
   "id": "965ea97f-9230-4e2e-97d5-33282c3a3105",
   "metadata": {},
   "outputs": [],
   "source": [
    "stat_all = WStatCountsStatistic(n_on=all_on, n_off=all_off, alpha=1.)\n",
    "\n",
    "print('excess: {} \\nsignificance: {}'.format(stat_all.n_sig,stat_all.sqrt_ts))"
   ]
  },
  {
   "cell_type": "code",
   "execution_count": null,
   "id": "319f927a-211d-4b35-b82b-a4c4fe9d358f",
   "metadata": {},
   "outputs": [],
   "source": [
    "theta2_centre = theta2_axis.center.value"
   ]
  },
  {
   "cell_type": "code",
   "execution_count": null,
   "id": "0d436a91-637a-4999-93cf-01d2e8a001af",
   "metadata": {},
   "outputs": [],
   "source": [
    "plt.errorbar(theta2_centre,\n",
    "             theta2_table['counts'],\n",
    "             sqrt(theta2_table['counts']),\n",
    "             label = 'on',\n",
    "             ls = 'none',\n",
    "             marker = 'o'\n",
    "            )\n",
    "\n",
    "plt.errorbar(theta2_centre,\n",
    "             theta2_table['counts_off'],\n",
    "             sqrt(theta2_table['counts_off']),\n",
    "             label = 'off',\n",
    "             ls = 'none',\n",
    "             marker = 'o'\n",
    "            )\n",
    "\n",
    "plt.legend()\n",
    "\n",
    "plt.xlabel('$\\\\theta^2$ [deg$^2$]')\n",
    "\n",
    "#plt.savefig('Theta2_all_onoff.svg')"
   ]
  },
  {
   "cell_type": "code",
   "execution_count": null,
   "id": "4dc45d9d-3850-4b3f-8d8e-0fd6dc9e653f",
   "metadata": {},
   "outputs": [],
   "source": [
    "plt.errorbar(theta2_centre,\n",
    "             theta2_table['excess'],\n",
    "             [theta2_table['excess_errn'].data, theta2_table['excess_errp'].data],\n",
    "             ls = 'none',\n",
    "             marker = 'o'\n",
    "            )\n",
    "\n",
    "plt.xlabel('$\\\\theta^2$ [deg$^2$]')\n",
    "\n",
    "#plt.savefig('Theta2_all_excess.svg')"
   ]
  },
  {
   "cell_type": "code",
   "execution_count": null,
   "id": "b524266c-6f4c-4e60-a7be-b935389ef60a",
   "metadata": {},
   "outputs": [],
   "source": [
    "from gammapy.visualization import plot_theta_squared_table"
   ]
  },
  {
   "cell_type": "code",
   "execution_count": null,
   "id": "3dade090-96e0-40a2-9af3-a4f73deaa9ba",
   "metadata": {},
   "outputs": [],
   "source": [
    "plot_theta_squared_table(theta2_table)"
   ]
  },
  {
   "cell_type": "markdown",
   "id": "9949e6a9-a635-4df8-a3cc-d4dcfa45f5e5",
   "metadata": {},
   "source": [
    "## Simple Counts Map"
   ]
  },
  {
   "cell_type": "code",
   "execution_count": null,
   "id": "ea24346c-1e82-444e-a518-6221b0aaf860",
   "metadata": {},
   "outputs": [],
   "source": [
    "from gammapy.maps import Map"
   ]
  },
  {
   "cell_type": "code",
   "execution_count": null,
   "id": "130f413f-d0fb-406b-8fb9-b98d85cf35e4",
   "metadata": {},
   "outputs": [],
   "source": [
    "map_crab = Map.create(binsz=0.01*u.deg, \n",
    "                      width=(5*u.deg, 5*u.deg), \n",
    "                      skydir=source_pos, \n",
    "                      frame='icrs')"
   ]
  },
  {
   "cell_type": "code",
   "execution_count": null,
   "id": "09b3df80-69ab-46a3-9243-c718abbe43bd",
   "metadata": {},
   "outputs": [],
   "source": [
    "map_crab.plot(add_cbar = True)"
   ]
  },
  {
   "cell_type": "code",
   "execution_count": null,
   "id": "1dd47888-eccb-412b-826a-de520e02124c",
   "metadata": {},
   "outputs": [],
   "source": [
    "events.radec"
   ]
  },
  {
   "cell_type": "code",
   "execution_count": null,
   "id": "68601e4a-b745-4c3e-9c9f-840dc248baef",
   "metadata": {},
   "outputs": [],
   "source": [
    "map_crab.fill_by_coord(events.radec)"
   ]
  },
  {
   "cell_type": "code",
   "execution_count": null,
   "id": "90ae9d5a-797e-4695-b7c7-494b9e131a3d",
   "metadata": {},
   "outputs": [],
   "source": [
    "map_crab.plot(\n",
    "    add_cbar = True,\n",
    "#    cmap = 'plasma'\n",
    ")"
   ]
  },
  {
   "cell_type": "markdown",
   "id": "2b07e460-cf43-400b-8d84-4472093b750e",
   "metadata": {},
   "source": [
    "Find your favourite colour map here : [https://matplotlib.org/stable/users/explain/colors/colormaps.html](https://matplotlib.org/stable/users/explain/colors/colormaps.html)"
   ]
  },
  {
   "cell_type": "code",
   "execution_count": null,
   "id": "6c074f0e-d5dc-4f43-a247-e6141004eb4b",
   "metadata": {},
   "outputs": [],
   "source": [
    "smoothed = map_crab.smooth(width=0.05 * u.deg, kernel=\"gauss\")"
   ]
  },
  {
   "cell_type": "code",
   "execution_count": null,
   "id": "673538aa-772f-43bf-a6b2-9426342a4401",
   "metadata": {},
   "outputs": [],
   "source": [
    "smoothed.plot(\n",
    "    add_cbar=True,\n",
    "#    cmap = 'plasma'\n",
    "#    stretch=\"log\", \n",
    ")"
   ]
  },
  {
   "cell_type": "code",
   "execution_count": null,
   "id": "d6b660a9-da6a-4668-9cde-4daf854cc8cf",
   "metadata": {},
   "outputs": [],
   "source": [
    "smoothed_1 = map_crab.smooth(width=0.2 * u.deg, kernel=\"gauss\")"
   ]
  },
  {
   "cell_type": "code",
   "execution_count": null,
   "id": "48b988a3-906c-4b83-b591-43aa37ac8f5f",
   "metadata": {},
   "outputs": [],
   "source": [
    "smoothed_1.plot(\n",
    "    add_cbar=True,\n",
    "#    cmap = 'plasma'\n",
    "#    stretch=\"log\", \n",
    ")"
   ]
  },
  {
   "cell_type": "markdown",
   "id": "4f601154-1f72-4b1e-a9d9-ce273fc6a43d",
   "metadata": {},
   "source": [
    "#### Your playground\n",
    "Make a smoothed sky map. Make the map 3degx3deg large, and use a binning of 0.005deg. Smooth with a disk kernel with 0.03deg. Add a colour bar and stretch such that both the source and the background is clearly seen. You can also try different colour schemes, for example cmap='ocean_r'."
   ]
  },
  {
   "cell_type": "code",
   "execution_count": null,
   "id": "4b03661c-6bf6-40ba-b0ce-1db0ed4e6fc0",
   "metadata": {},
   "outputs": [],
   "source": [
    "## your code here"
   ]
  },
  {
   "cell_type": "markdown",
   "id": "0b2e27c2-686f-4398-9884-a0bfee45dcd6",
   "metadata": {},
   "source": [
    "## Summary\n",
    "\n",
    "In this notebook we have seen how to download and select the data. We had a first look at the information found in the events list and how to make simple plots."
   ]
  }
 ],
 "metadata": {
  "kernelspec": {
   "display_name": "Python 3 (ipykernel)",
   "language": "python",
   "name": "python3"
  },
  "language_info": {
   "codemirror_mode": {
    "name": "ipython",
    "version": 3
   },
   "file_extension": ".py",
   "mimetype": "text/x-python",
   "name": "python",
   "nbconvert_exporter": "python",
   "pygments_lexer": "ipython3",
   "version": "3.10.13"
  }
 },
 "nbformat": 4,
 "nbformat_minor": 5
}
