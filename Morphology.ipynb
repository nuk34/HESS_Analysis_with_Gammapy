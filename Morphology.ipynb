{
 "cells": [
  {
   "cell_type": "markdown",
   "id": "7491df3a-7062-4d14-b842-6925f2c829d6",
   "metadata": {},
   "source": [
    "# Source Morphology\n",
    "\n",
    "We will know take a deeper look at the morphology of the emission. For this we will use the map data set that we have created earlier. We will fit a spatial and spectral model simultanously to the data."
   ]
  },
  {
   "cell_type": "markdown",
   "id": "4eb4d3b4-72be-4714-b22e-646cb74c2d8a",
   "metadata": {},
   "source": [
    "## Imports\n",
    "We will start with the import of a few modules."
   ]
  },
  {
   "cell_type": "code",
   "execution_count": null,
   "id": "00839992-4ebd-4fbd-ad73-398fa8737590",
   "metadata": {},
   "outputs": [],
   "source": [
    "import matplotlib.pyplot as plt\n",
    "\n",
    "import numpy as np\n",
    "\n",
    "from numpy import sqrt\n",
    "\n",
    "import astropy.units as u\n",
    "\n",
    "from astropy.coordinates import (\n",
    "    SkyCoord, \n",
    "    Angle,\n",
    ")\n",
    "\n",
    "from gammapy.stats import WStatCountsStatistic\n",
    "\n",
    "from gammapy.maps import Map\n",
    "\n",
    "from gammapy.datasets import MapDatasetOnOff\n",
    "\n",
    "from gammapy.modeling.models import (\n",
    "    Models,\n",
    "    SkyModel,\n",
    "    PowerLawSpectralModel,\n",
    "    ExpCutoffPowerLawSpectralModel,\n",
    "    PointSpatialModel,\n",
    "    GaussianSpatialModel\n",
    ")"
   ]
  },
  {
   "cell_type": "code",
   "execution_count": null,
   "id": "d6e37db6-b556-4631-926a-297f576d6739",
   "metadata": {},
   "outputs": [],
   "source": [
    "from gammapy.estimators import ExcessMapEstimator"
   ]
  },
  {
   "cell_type": "code",
   "execution_count": null,
   "id": "3f77b1ed-b889-47c4-9ae3-a582f0a39d8b",
   "metadata": {},
   "outputs": [],
   "source": [
    "from gammapy.modeling import Fit\n",
    "\n",
    "fit = Fit()"
   ]
  },
  {
   "cell_type": "markdown",
   "id": "8ef91a32-8694-4921-bfa7-e0bee382bb20",
   "metadata": {},
   "source": [
    "## Load Dataset\n",
    "\n",
    "We use the MapDataset that we have created earlier."
   ]
  },
  {
   "cell_type": "code",
   "execution_count": null,
   "id": "073c1ce7-dd8b-4701-a224-71d2a08ad4a6",
   "metadata": {},
   "outputs": [],
   "source": [
    "map_stacked = MapDatasetOnOff.read('MapDataset.fits.gz')"
   ]
  },
  {
   "cell_type": "code",
   "execution_count": null,
   "id": "4fed7ddb-94c4-4d30-8b6c-e13513625541",
   "metadata": {
    "scrolled": true
   },
   "outputs": [],
   "source": [
    "map_stacked.peek()"
   ]
  },
  {
   "cell_type": "markdown",
   "id": "b492cf0b-e212-43a0-9a32-3203fbc8987d",
   "metadata": {},
   "source": [
    "We will need the source position of our object. It is probably in the centre of the dataset:"
   ]
  },
  {
   "cell_type": "code",
   "execution_count": null,
   "id": "77614118-e213-4aaa-a9d0-36cea4d06bb5",
   "metadata": {},
   "outputs": [],
   "source": [
    "source_pos = map_stacked.geoms['geom'].center_skydir"
   ]
  },
  {
   "cell_type": "code",
   "execution_count": null,
   "id": "6843a413-fcec-4f84-b238-c4b7d2163907",
   "metadata": {},
   "outputs": [],
   "source": [
    "source_pos"
   ]
  },
  {
   "cell_type": "markdown",
   "id": "7a8eec83-781b-44f9-9b84-06dfe5547fb1",
   "metadata": {},
   "source": [
    "We do not need the full dataset. We will work only on a part, a cutout of the original dataset:"
   ]
  },
  {
   "cell_type": "code",
   "execution_count": null,
   "id": "ea1d5633-0f72-45f0-be17-2fe2a2f30bd7",
   "metadata": {},
   "outputs": [],
   "source": [
    "map_cutout = map_stacked.cutout(source_pos, width = 1.5*u.deg)"
   ]
  },
  {
   "cell_type": "code",
   "execution_count": null,
   "id": "7e753b5b-2b9f-470b-9786-28a564eb9430",
   "metadata": {},
   "outputs": [],
   "source": [
    "map_cutout.peek()"
   ]
  },
  {
   "cell_type": "markdown",
   "id": "526eeae7-a7d1-4285-bb00-dcda08096a73",
   "metadata": {},
   "source": [
    "We will make use of our best-fit spectral model. Let's load this as well:"
   ]
  },
  {
   "cell_type": "code",
   "execution_count": null,
   "id": "4ba6fd4a-a6c4-46b9-8ace-ba3d82caeded",
   "metadata": {},
   "outputs": [],
   "source": [
    "bestfit_spectrum = Models.read('SpectrumBestFit.fits.gz')"
   ]
  },
  {
   "cell_type": "code",
   "execution_count": null,
   "id": "94a8cd00-f8d7-4f6c-85d9-d01cfd04399d",
   "metadata": {},
   "outputs": [],
   "source": [
    "bestfit_spectrum"
   ]
  },
  {
   "cell_type": "markdown",
   "id": "bb402b62-a8c2-4a2a-9b91-6d2cee200af3",
   "metadata": {},
   "source": [
    "## Sky Model\n",
    "\n",
    "We will now create a sky model. This is a model describing the energy distribution (a spectral model, as before) and the spatial distribution of the data."
   ]
  },
  {
   "cell_type": "markdown",
   "id": "9d7e2e38-38f0-4fdc-acf9-4addc81a8121",
   "metadata": {},
   "source": [
    "### Point-Like Source\n",
    "\n",
    "We will start with point-like source, located at the position of our object of interest."
   ]
  },
  {
   "cell_type": "code",
   "execution_count": null,
   "id": "41fd85f8-d293-4c2d-b3a5-b47922724546",
   "metadata": {},
   "outputs": [],
   "source": [
    "spatial_point = PointSpatialModel.from_position(source_pos)"
   ]
  },
  {
   "cell_type": "code",
   "execution_count": null,
   "id": "363fdf6e-f1f9-4a5f-b6de-da0334361c10",
   "metadata": {},
   "outputs": [],
   "source": [
    "spatial_point.plot(add_cbar = True)"
   ]
  },
  {
   "cell_type": "markdown",
   "id": "fbe36ce5-89bb-41e8-8427-74a48dc1d5c6",
   "metadata": {},
   "source": [
    "For the spectral model we will use a copy of our model obtained in the last session."
   ]
  },
  {
   "cell_type": "code",
   "execution_count": null,
   "id": "98ea1885-a079-4f5b-9531-905041fb0137",
   "metadata": {},
   "outputs": [],
   "source": [
    "spectral_point = bestfit_spectrum[0].spectral_model.copy()"
   ]
  },
  {
   "cell_type": "markdown",
   "id": "af904bbf-2c91-4125-ab48-2623910d2677",
   "metadata": {},
   "source": [
    "Now we create a model combining the spectral and spatial model:"
   ]
  },
  {
   "cell_type": "code",
   "execution_count": null,
   "id": "33022187-87a1-4a23-bb55-9c9e74c90756",
   "metadata": {},
   "outputs": [],
   "source": [
    "model_point = SkyModel(spectral_model = spectral_point,\n",
    "                       spatial_model = spatial_point,\n",
    "                       name = 'point-like'\n",
    "                      )"
   ]
  },
  {
   "cell_type": "markdown",
   "id": "bbb6d863-a944-4682-b5db-672194891dd5",
   "metadata": {},
   "source": [
    "Now we can fit the model:"
   ]
  },
  {
   "cell_type": "code",
   "execution_count": null,
   "id": "21a7ad51-3e09-4d68-b72f-ccbc03740f0f",
   "metadata": {},
   "outputs": [],
   "source": [
    "map_cutout.models = model_point\n",
    "\n",
    "fit.run(map_cutout)"
   ]
  },
  {
   "cell_type": "code",
   "execution_count": null,
   "id": "47210d5d-c1fa-4468-86c4-d938b617876d",
   "metadata": {},
   "outputs": [],
   "source": [
    "map_cutout.plot_residuals(kwargs_spatial = \n",
    "                          {'cmap' : 'plasma',\n",
    "                           'vmin' : -0.5, \n",
    "                           'vmax' : 0.5})"
   ]
  },
  {
   "cell_type": "markdown",
   "id": "4dd4895b-20c8-4e4f-95eb-3f149f5cbe15",
   "metadata": {},
   "source": [
    "We can also calculate the distance of the best-fit position from our nominal position:"
   ]
  },
  {
   "cell_type": "code",
   "execution_count": null,
   "id": "924beece-3b64-40be-b777-8b7adf40a3bb",
   "metadata": {},
   "outputs": [],
   "source": [
    "spatial_point.position.separation(source_pos).to_string(decimal = True)"
   ]
  },
  {
   "cell_type": "markdown",
   "id": "fc7ffffd-d07d-44b9-8823-ef147a14c382",
   "metadata": {},
   "source": [
    "We should consider to use this new position in our spectrum fit."
   ]
  },
  {
   "cell_type": "markdown",
   "id": "87f4420b-bbd6-46b4-9b02-1626cbbbd89c",
   "metadata": {},
   "source": [
    "As before we can also make a significance sky map, which will now subtract our bestf-it model. We will be left with the residuals of our fit, so that we can check if the model describes the data well or if there are any other sources in the field of view."
   ]
  },
  {
   "cell_type": "code",
   "execution_count": null,
   "id": "0b241395-2a3a-4fab-a0c3-d8d74598d959",
   "metadata": {},
   "outputs": [],
   "source": [
    "estimator = ExcessMapEstimator(0.05*u.deg)\n",
    "\n",
    "fluxmaps = estimator.run(map_cutout)"
   ]
  },
  {
   "cell_type": "code",
   "execution_count": null,
   "id": "8617634e-4ce9-4790-bd25-60b3f4ec83e9",
   "metadata": {},
   "outputs": [],
   "source": [
    "fluxmaps.sqrt_ts.plot(add_cbar = True,\n",
    "                      cmap = 'plasma')"
   ]
  },
  {
   "cell_type": "markdown",
   "id": "802fa416-62e6-4d21-9563-495842c81809",
   "metadata": {},
   "source": [
    "And we can keep the test statistics to compare different models later."
   ]
  },
  {
   "cell_type": "code",
   "execution_count": null,
   "id": "adbba28f-1ff8-47b6-b533-c01362466a70",
   "metadata": {},
   "outputs": [],
   "source": [
    "TS_point = map_cutout.stat_sum()"
   ]
  },
  {
   "cell_type": "code",
   "execution_count": null,
   "id": "88a9f24d-f4ba-46ce-9b6c-a961c9c43c40",
   "metadata": {
    "jupyter": {
     "source_hidden": true
    }
   },
   "outputs": [],
   "source": [
    "TS_point"
   ]
  },
  {
   "cell_type": "markdown",
   "id": "8633387f-b060-405e-a936-e5855501844b",
   "metadata": {},
   "source": [
    "### Gaussian morphology"
   ]
  },
  {
   "cell_type": "code",
   "execution_count": null,
   "id": "ffc824fe-c829-4af5-b951-e92332f43731",
   "metadata": {},
   "outputs": [],
   "source": [
    "spatial_gauss = GaussianSpatialModel.from_position(source_pos)"
   ]
  },
  {
   "cell_type": "code",
   "execution_count": null,
   "id": "271fa48b-9289-46d5-9e4c-678bc97e0414",
   "metadata": {},
   "outputs": [],
   "source": [
    "spatial_gauss.parameters.to_table()"
   ]
  },
  {
   "cell_type": "markdown",
   "id": "3461185b-5088-49d2-b457-202cd2d23b56",
   "metadata": {},
   "source": [
    "The eccentricity ```e``` and angle ```phi``` are frozen for the moment. Freeing these parameters will allow the fit of an asymmetric emission."
   ]
  },
  {
   "cell_type": "code",
   "execution_count": null,
   "id": "fb5fb853-ab7a-431f-be3e-366cdbe3fd41",
   "metadata": {},
   "outputs": [],
   "source": [
    "spatial_gauss.plot(add_cbar = True)"
   ]
  },
  {
   "cell_type": "code",
   "execution_count": null,
   "id": "ef1bf104-139a-4bca-a7d9-edccdd244aec",
   "metadata": {},
   "outputs": [],
   "source": [
    "spectral_gauss = bestfit_spectrum[0].spectral_model.copy()"
   ]
  },
  {
   "cell_type": "markdown",
   "id": "f38988fa-d0c4-4fbf-8dba-f071bbcccd34",
   "metadata": {},
   "source": [
    "Now we create a model combining the spectral and spatial model:"
   ]
  },
  {
   "cell_type": "code",
   "execution_count": null,
   "id": "850ab7b8-8265-48d9-8126-b99151053cd7",
   "metadata": {},
   "outputs": [],
   "source": [
    "model_gauss = SkyModel(spectral_model = spectral_gauss,\n",
    "                       spatial_model = spatial_gauss,\n",
    "                       name = 'gaussian'\n",
    "                      )"
   ]
  },
  {
   "cell_type": "code",
   "execution_count": null,
   "id": "17cf2315-2e1d-4e5d-9069-b2e05f8e67d2",
   "metadata": {},
   "outputs": [],
   "source": [
    "map_cutout.models = model_gauss\n",
    "\n",
    "fit.run(map_cutout)"
   ]
  },
  {
   "cell_type": "code",
   "execution_count": null,
   "id": "41ce38ee-3486-42c9-ade6-802efcf2a493",
   "metadata": {},
   "outputs": [],
   "source": [
    "map_cutout.plot_residuals(kwargs_spatial = \n",
    "                          {'cmap' : 'plasma',\n",
    "                           'vmin' : -0.5, \n",
    "                           'vmax' : 0.5})"
   ]
  },
  {
   "cell_type": "code",
   "execution_count": null,
   "id": "7bd9c39c-311e-40c0-84f1-b83ba46dc9d6",
   "metadata": {},
   "outputs": [],
   "source": [
    "spatial_gauss.position.separation(source_pos).to_string(decimal = True)"
   ]
  },
  {
   "cell_type": "code",
   "execution_count": null,
   "id": "b80bd699-be1e-4321-a6f7-8f9cd282e92d",
   "metadata": {},
   "outputs": [],
   "source": [
    "model_gauss.parameters.to_table()"
   ]
  },
  {
   "cell_type": "code",
   "execution_count": null,
   "id": "c6b05ad3-cfb9-4408-bd24-570e84b81fa0",
   "metadata": {},
   "outputs": [],
   "source": [
    "fluxmaps = estimator.run(map_cutout)"
   ]
  },
  {
   "cell_type": "code",
   "execution_count": null,
   "id": "9e4e698c-349c-4112-9c36-cc828a3d9f6e",
   "metadata": {},
   "outputs": [],
   "source": [
    "fluxmaps.sqrt_ts.plot(add_cbar = True,\n",
    "                      cmap = 'plasma')"
   ]
  },
  {
   "cell_type": "code",
   "execution_count": null,
   "id": "c8450e95-caa4-4e69-a2bc-1977f13af661",
   "metadata": {},
   "outputs": [],
   "source": [
    "TS_gauss = map_cutout.stat_sum()"
   ]
  },
  {
   "cell_type": "code",
   "execution_count": null,
   "id": "9fba3987-2e1e-42a4-9020-edbc989e0d50",
   "metadata": {},
   "outputs": [],
   "source": [
    "TS_gauss"
   ]
  },
  {
   "cell_type": "markdown",
   "id": "c29b56c5-01e5-4672-a353-d592e88c4492",
   "metadata": {},
   "source": [
    "We do find a slight extension. We should check if this is significant."
   ]
  },
  {
   "cell_type": "markdown",
   "id": "03251236-967f-4798-a989-03e879cd1833",
   "metadata": {},
   "source": [
    "### Compare the Models"
   ]
  },
  {
   "cell_type": "code",
   "execution_count": null,
   "id": "f307ddde-10f7-4409-8c0d-89b6797c0b85",
   "metadata": {},
   "outputs": [],
   "source": [
    "print(TS_point, TS_gauss)"
   ]
  },
  {
   "cell_type": "code",
   "execution_count": null,
   "id": "8a733144-f732-4748-9494-9f8c665f8faf",
   "metadata": {},
   "outputs": [],
   "source": [
    "TS = TS_point-TS_gauss\n",
    "print(TS)"
   ]
  },
  {
   "cell_type": "code",
   "execution_count": null,
   "id": "ff234919-495d-4691-b143-03a4792320d1",
   "metadata": {},
   "outputs": [],
   "source": [
    "import scipy.stats"
   ]
  },
  {
   "cell_type": "code",
   "execution_count": null,
   "id": "231d9347-4cc2-4fda-8582-855e9ccb4fbe",
   "metadata": {},
   "outputs": [],
   "source": [
    "P = scipy.stats.chi2.sf(TS,1)\n",
    "\n",
    "print('probabilty: ',P)"
   ]
  },
  {
   "cell_type": "code",
   "execution_count": null,
   "id": "c29118a3-65c1-4584-af81-11ac7d360304",
   "metadata": {},
   "outputs": [],
   "source": [
    "print('significant?', P < 2.7e-3)"
   ]
  },
  {
   "cell_type": "markdown",
   "id": "9f362426-a19f-438c-8138-a8a060ed2d64",
   "metadata": {},
   "source": [
    "So this is not at all significant. We keep the point-source model. But we should consider to re-do the spectral analysis at the best-fit position."
   ]
  },
  {
   "cell_type": "code",
   "execution_count": null,
   "id": "a771b123-d429-4288-a9e7-fe549db0535a",
   "metadata": {},
   "outputs": [],
   "source": [
    "bestfit_spatial = model_point"
   ]
  },
  {
   "cell_type": "code",
   "execution_count": null,
   "id": "2fec4474-31c6-44e9-930a-3da8bebbe2ba",
   "metadata": {},
   "outputs": [],
   "source": [
    "map_cutout.models = bestfit_spatial"
   ]
  },
  {
   "cell_type": "markdown",
   "id": "a54c9e08-4ed1-42a4-a97f-853bbd8ccc1c",
   "metadata": {},
   "source": [
    "### your playground\n",
    "\n",
    "You can free the eccentricity and angle to check if the emission is extended and asymmetric.\n",
    "You can also try different spatial models. You will find a list here:\n",
    "\n",
    "[https://docs.gammapy.org/1.2/user-guide/model-gallery/index.html#model-gallery](https://docs.gammapy.org/1.2/user-guide/model-gallery/index.html#model-gallery)"
   ]
  },
  {
   "cell_type": "markdown",
   "id": "34d4aaa7-55c6-487f-8e88-9b0ffa4a9b49",
   "metadata": {},
   "source": [
    "## Spectrum Comparison\n",
    "\n",
    "Here we have fit the spectrum again. The fit should not have changed a lot, but we can compare."
   ]
  },
  {
   "cell_type": "code",
   "execution_count": null,
   "id": "2a0a9bd9-466f-4d44-a34c-a8edc7c6eae2",
   "metadata": {},
   "outputs": [],
   "source": [
    "from gammapy.modeling.models import create_crab_spectral_model"
   ]
  },
  {
   "cell_type": "code",
   "execution_count": null,
   "id": "90ec58db-38ff-4ab7-906a-388c79680d69",
   "metadata": {
    "scrolled": true
   },
   "outputs": [],
   "source": [
    "fig, ax = plt.subplots()\n",
    "\n",
    "plot_kwargs = {\n",
    "    \"energy_bounds\": [0.1, 30] * u.TeV,\n",
    "    \"ax\": ax,\n",
    "}\n",
    "\n",
    "bestfit_spectrum[0].spectral_model.plot(**plot_kwargs, label=\"spectral fit\")\n",
    "bestfit_spectrum[0].spectral_model.plot_error(facecolor=\"blue\", alpha=0.3, **plot_kwargs)\n",
    "\n",
    "bestfit_spatial.spectral_model.plot(**plot_kwargs, label=\"morphology fit\")\n",
    "bestfit_spatial.spectral_model.plot_error(facecolor=\"red\", alpha=0.3, **plot_kwargs)\n",
    "\n",
    "\n",
    "create_crab_spectral_model(\"hess_pl\").plot(\n",
    "    **plot_kwargs,\n",
    "    label=\"Crab reference\",\n",
    ")\n",
    "\n",
    "ax.legend()"
   ]
  },
  {
   "cell_type": "markdown",
   "id": "30f84d14-d1c3-4000-9538-bb751e963162",
   "metadata": {},
   "source": [
    "## Another look at the significance map\n",
    "\n",
    "We can load our significance map again and plot the best-fit position and error."
   ]
  },
  {
   "cell_type": "code",
   "execution_count": null,
   "id": "a6ba0aa0-f687-438f-affc-2af0fd009ce7",
   "metadata": {},
   "outputs": [],
   "source": [
    "significance_map = Map.read('SigMap.fits.gz')"
   ]
  },
  {
   "cell_type": "code",
   "execution_count": null,
   "id": "eaed5854-8d0b-4aee-98e5-733119e4db8d",
   "metadata": {},
   "outputs": [],
   "source": [
    "zoomed_significance_map = significance_map.cutout(source_pos, 0.5*u.deg)"
   ]
  },
  {
   "cell_type": "code",
   "execution_count": null,
   "id": "1a94e7a7-3df2-4ff7-823f-da519bbb1c7f",
   "metadata": {},
   "outputs": [],
   "source": [
    "ax = zoomed_significance_map.plot(add_cbar = True,\n",
    "                                  cmap = 'plasma'\n",
    "                                  )\n",
    "\n",
    "bestfit_spatial.spatial_model.to_region().to_pixel(ax.wcs).plot(ax=ax, \n",
    "                                                                color = 'black'\n",
    "                                                               )\n",
    "\n",
    "bestfit_spatial.spatial_model.plot_position_error(ax)"
   ]
  },
  {
   "cell_type": "markdown",
   "id": "2bb0194d-a97e-454b-83e6-ee09948443dd",
   "metadata": {},
   "source": [
    "## Summary\n",
    "\n",
    "We have modelled the emission with two different hypotheses for the spatial distribution. This study can become very complicated, in particular when having several sources, or when there is no simple model to describe the emission. The result of this study may need to be considered when doing the spectral analysis."
   ]
  }
 ],
 "metadata": {
  "kernelspec": {
   "display_name": "Python 3 (ipykernel)",
   "language": "python",
   "name": "python3"
  },
  "language_info": {
   "codemirror_mode": {
    "name": "ipython",
    "version": 3
   },
   "file_extension": ".py",
   "mimetype": "text/x-python",
   "name": "python",
   "nbconvert_exporter": "python",
   "pygments_lexer": "ipython3",
   "version": "3.10.13"
  }
 },
 "nbformat": 4,
 "nbformat_minor": 5
}
